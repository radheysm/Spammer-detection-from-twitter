{
 "cells": [
  {
   "cell_type": "code",
   "execution_count": 1,
   "metadata": {},
   "outputs": [],
   "source": [
    "import pandas as pd\n",
    "import numpy as np\n",
    "import matplotlib as plt\n",
    "%matplotlib inline\n",
    "import seaborn as sns\n",
    "sns.set(style=\"white\")\n",
    "\n"
   ]
  },
  {
   "cell_type": "code",
   "execution_count": 2,
   "metadata": {},
   "outputs": [
    {
     "name": "stderr",
     "output_type": "stream",
     "text": [
      "C:\\Users\\Rahul Poddar\\Anaconda3\\lib\\site-packages\\IPython\\core\\interactiveshell.py:3020: DtypeWarning: Columns (0) have mixed types. Specify dtype option on import or set low_memory=False.\n",
      "  interactivity=interactivity, compiler=compiler, result=result)\n"
     ]
    }
   ],
   "source": [
    "accident=pd.read_csv(\"dataset/Acc.csv\")\n",
    "casuality=pd.read_csv(\"dataset/Cas.csv\")\n",
    "vehicle=pd.read_csv(\"dataset/Veh.csv\")"
   ]
  },
  {
   "cell_type": "code",
   "execution_count": 3,
   "metadata": {},
   "outputs": [
    {
     "data": {
      "text/plain": [
       "Index(['Accident_Index', 'Location_Easting_OSGR', 'Location_Northing_OSGR',\n",
       "       'Longitude', 'Latitude', 'Police_Force', 'Accident_Severity',\n",
       "       'Number_of_Vehicles', 'Number_of_Casualties', 'Date', 'Day_of_Week',\n",
       "       'Time', 'Local_Authority_(District)', 'Local_Authority_(Highway)',\n",
       "       '1st_Road_Class', '1st_Road_Number', 'Road_Type', 'Speed_limit',\n",
       "       'Junction_Detail', 'Junction_Control', '2nd_Road_Class',\n",
       "       '2nd_Road_Number', 'Pedestrian_Crossing-Human_Control',\n",
       "       'Pedestrian_Crossing-Physical_Facilities', 'Light_Conditions',\n",
       "       'Weather_Conditions', 'Road_Surface_Conditions',\n",
       "       'Special_Conditions_at_Site', 'Carriageway_Hazards',\n",
       "       'Urban_or_Rural_Area', 'Did_Police_Officer_Attend_Scene_of_Accident',\n",
       "       'LSOA_of_Accident_Location'],\n",
       "      dtype='object')"
      ]
     },
     "execution_count": 3,
     "metadata": {},
     "output_type": "execute_result"
    }
   ],
   "source": [
    "accident.columns"
   ]
  },
  {
   "cell_type": "code",
   "execution_count": 4,
   "metadata": {},
   "outputs": [
    {
     "data": {
      "text/plain": [
       "Index(['Accident_Index', 'Vehicle_Reference', 'Vehicle_Type',\n",
       "       'Towing_and_Articulation', 'Vehicle_Manoeuvre',\n",
       "       'Vehicle_Location-Restricted_Lane', 'Junction_Location',\n",
       "       'Skidding_and_Overturning', 'Hit_Object_in_Carriageway',\n",
       "       'Vehicle_Leaving_Carriageway', 'Hit_Object_off_Carriageway',\n",
       "       '1st_Point_of_Impact', 'Was_Vehicle_Left_Hand_Drive?',\n",
       "       'Journey_Purpose_of_Driver', 'Sex_of_Driver', 'Age_of_Driver',\n",
       "       'Age_Band_of_Driver', 'Engine_Capacity_(CC)', 'Propulsion_Code',\n",
       "       'Age_of_Vehicle', 'Driver_IMD_Decile', 'Driver_Home_Area_Type',\n",
       "       'Vehicle_IMD_Decile'],\n",
       "      dtype='object')"
      ]
     },
     "execution_count": 4,
     "metadata": {},
     "output_type": "execute_result"
    }
   ],
   "source": [
    "vehicle.columns"
   ]
  },
  {
   "cell_type": "code",
   "execution_count": 5,
   "metadata": {},
   "outputs": [
    {
     "data": {
      "text/plain": [
       "Index(['Accident_Index', 'Vehicle_Reference', 'Casualty_Reference',\n",
       "       'Casualty_Class', 'Sex_of_Casualty', 'Age_of_Casualty',\n",
       "       'Age_Band_of_Casualty', 'Casualty_Severity', 'Pedestrian_Location',\n",
       "       'Pedestrian_Movement', 'Car_Passenger', 'Bus_or_Coach_Passenger',\n",
       "       'Pedestrian_Road_Maintenance_Worker', 'Casualty_Type',\n",
       "       'Casualty_Home_Area_Type', 'Casualty_IMD_Decile'],\n",
       "      dtype='object')"
      ]
     },
     "execution_count": 5,
     "metadata": {},
     "output_type": "execute_result"
    }
   ],
   "source": [
    "casuality.columns"
   ]
  },
  {
   "cell_type": "code",
   "execution_count": 6,
   "metadata": {},
   "outputs": [],
   "source": [
    "accident=accident.drop_duplicates('Accident_Index')"
   ]
  },
  {
   "cell_type": "code",
   "execution_count": 7,
   "metadata": {},
   "outputs": [
    {
     "data": {
      "text/plain": [
       "(129982, 32)"
      ]
     },
     "execution_count": 7,
     "metadata": {},
     "output_type": "execute_result"
    }
   ],
   "source": [
    "accident.shape"
   ]
  },
  {
   "cell_type": "code",
   "execution_count": 8,
   "metadata": {},
   "outputs": [],
   "source": [
    "vehicle=vehicle.drop_duplicates('Accident_Index')"
   ]
  },
  {
   "cell_type": "code",
   "execution_count": 9,
   "metadata": {},
   "outputs": [
    {
     "data": {
      "text/plain": [
       "(129982, 23)"
      ]
     },
     "execution_count": 9,
     "metadata": {},
     "output_type": "execute_result"
    }
   ],
   "source": [
    "vehicle.shape"
   ]
  },
  {
   "cell_type": "code",
   "execution_count": 10,
   "metadata": {},
   "outputs": [],
   "source": [
    "casuality=casuality.drop_duplicates('Accident_Index')"
   ]
  },
  {
   "cell_type": "code",
   "execution_count": 11,
   "metadata": {},
   "outputs": [
    {
     "data": {
      "text/plain": [
       "(129983, 16)"
      ]
     },
     "execution_count": 11,
     "metadata": {},
     "output_type": "execute_result"
    }
   ],
   "source": [
    "casuality.shape"
   ]
  },
  {
   "cell_type": "code",
   "execution_count": 12,
   "metadata": {},
   "outputs": [],
   "source": [
    "dataset=pd.merge(accident,vehicle,on='Accident_Index',how='inner')"
   ]
  },
  {
   "cell_type": "code",
   "execution_count": 13,
   "metadata": {},
   "outputs": [
    {
     "data": {
      "text/plain": [
       "(112122, 54)"
      ]
     },
     "execution_count": 13,
     "metadata": {},
     "output_type": "execute_result"
    }
   ],
   "source": [
    "dataset.shape"
   ]
  },
  {
   "cell_type": "code",
   "execution_count": 14,
   "metadata": {},
   "outputs": [],
   "source": [
    "dataset=pd.merge(dataset,casuality,on='Accident_Index',how='inner')"
   ]
  },
  {
   "cell_type": "code",
   "execution_count": 15,
   "metadata": {},
   "outputs": [
    {
     "data": {
      "text/plain": [
       "(83476, 69)"
      ]
     },
     "execution_count": 15,
     "metadata": {},
     "output_type": "execute_result"
    }
   ],
   "source": [
    "dataset.shape"
   ]
  },
  {
   "cell_type": "code",
   "execution_count": 16,
   "metadata": {},
   "outputs": [
    {
     "data": {
      "text/plain": [
       "Index(['Accident_Index', 'Location_Easting_OSGR', 'Location_Northing_OSGR',\n",
       "       'Longitude', 'Latitude', 'Police_Force', 'Accident_Severity',\n",
       "       'Number_of_Vehicles', 'Number_of_Casualties', 'Date', 'Day_of_Week',\n",
       "       'Time', 'Local_Authority_(District)', 'Local_Authority_(Highway)',\n",
       "       '1st_Road_Class', '1st_Road_Number', 'Road_Type', 'Speed_limit',\n",
       "       'Junction_Detail', 'Junction_Control', '2nd_Road_Class',\n",
       "       '2nd_Road_Number', 'Pedestrian_Crossing-Human_Control',\n",
       "       'Pedestrian_Crossing-Physical_Facilities', 'Light_Conditions',\n",
       "       'Weather_Conditions', 'Road_Surface_Conditions',\n",
       "       'Special_Conditions_at_Site', 'Carriageway_Hazards',\n",
       "       'Urban_or_Rural_Area', 'Did_Police_Officer_Attend_Scene_of_Accident',\n",
       "       'LSOA_of_Accident_Location', 'Vehicle_Reference_x', 'Vehicle_Type',\n",
       "       'Towing_and_Articulation', 'Vehicle_Manoeuvre',\n",
       "       'Vehicle_Location-Restricted_Lane', 'Junction_Location',\n",
       "       'Skidding_and_Overturning', 'Hit_Object_in_Carriageway',\n",
       "       'Vehicle_Leaving_Carriageway', 'Hit_Object_off_Carriageway',\n",
       "       '1st_Point_of_Impact', 'Was_Vehicle_Left_Hand_Drive?',\n",
       "       'Journey_Purpose_of_Driver', 'Sex_of_Driver', 'Age_of_Driver',\n",
       "       'Age_Band_of_Driver', 'Engine_Capacity_(CC)', 'Propulsion_Code',\n",
       "       'Age_of_Vehicle', 'Driver_IMD_Decile', 'Driver_Home_Area_Type',\n",
       "       'Vehicle_IMD_Decile', 'Vehicle_Reference_y', 'Casualty_Reference',\n",
       "       'Casualty_Class', 'Sex_of_Casualty', 'Age_of_Casualty',\n",
       "       'Age_Band_of_Casualty', 'Casualty_Severity', 'Pedestrian_Location',\n",
       "       'Pedestrian_Movement', 'Car_Passenger', 'Bus_or_Coach_Passenger',\n",
       "       'Pedestrian_Road_Maintenance_Worker', 'Casualty_Type',\n",
       "       'Casualty_Home_Area_Type', 'Casualty_IMD_Decile'],\n",
       "      dtype='object')"
      ]
     },
     "execution_count": 16,
     "metadata": {},
     "output_type": "execute_result"
    }
   ],
   "source": [
    "dataset.columns"
   ]
  },
  {
   "cell_type": "code",
   "execution_count": 17,
   "metadata": {},
   "outputs": [
    {
     "data": {
      "text/html": [
       "<div>\n",
       "<style scoped>\n",
       "    .dataframe tbody tr th:only-of-type {\n",
       "        vertical-align: middle;\n",
       "    }\n",
       "\n",
       "    .dataframe tbody tr th {\n",
       "        vertical-align: top;\n",
       "    }\n",
       "\n",
       "    .dataframe thead th {\n",
       "        text-align: right;\n",
       "    }\n",
       "</style>\n",
       "<table border=\"1\" class=\"dataframe\">\n",
       "  <thead>\n",
       "    <tr style=\"text-align: right;\">\n",
       "      <th></th>\n",
       "      <th>Location_Easting_OSGR</th>\n",
       "      <th>Location_Northing_OSGR</th>\n",
       "      <th>Longitude</th>\n",
       "      <th>Latitude</th>\n",
       "      <th>Police_Force</th>\n",
       "      <th>Accident_Severity</th>\n",
       "      <th>Number_of_Vehicles</th>\n",
       "      <th>Number_of_Casualties</th>\n",
       "      <th>Day_of_Week</th>\n",
       "      <th>Local_Authority_(District)</th>\n",
       "      <th>...</th>\n",
       "      <th>Age_Band_of_Casualty</th>\n",
       "      <th>Casualty_Severity</th>\n",
       "      <th>Pedestrian_Location</th>\n",
       "      <th>Pedestrian_Movement</th>\n",
       "      <th>Car_Passenger</th>\n",
       "      <th>Bus_or_Coach_Passenger</th>\n",
       "      <th>Pedestrian_Road_Maintenance_Worker</th>\n",
       "      <th>Casualty_Type</th>\n",
       "      <th>Casualty_Home_Area_Type</th>\n",
       "      <th>Casualty_IMD_Decile</th>\n",
       "    </tr>\n",
       "  </thead>\n",
       "  <tbody>\n",
       "    <tr>\n",
       "      <th>count</th>\n",
       "      <td>83459.000000</td>\n",
       "      <td>8.345900e+04</td>\n",
       "      <td>83449.000000</td>\n",
       "      <td>83449.000000</td>\n",
       "      <td>83476.000000</td>\n",
       "      <td>83476.000000</td>\n",
       "      <td>83476.000000</td>\n",
       "      <td>83476.000000</td>\n",
       "      <td>83476.000000</td>\n",
       "      <td>83476.000000</td>\n",
       "      <td>...</td>\n",
       "      <td>83476.000000</td>\n",
       "      <td>83476.000000</td>\n",
       "      <td>83476.000000</td>\n",
       "      <td>83476.000000</td>\n",
       "      <td>83476.000000</td>\n",
       "      <td>83476.000000</td>\n",
       "      <td>83476.000000</td>\n",
       "      <td>83476.000000</td>\n",
       "      <td>83476.000000</td>\n",
       "      <td>83476.000000</td>\n",
       "    </tr>\n",
       "    <tr>\n",
       "      <th>mean</th>\n",
       "      <td>419758.596640</td>\n",
       "      <td>3.417721e+05</td>\n",
       "      <td>-1.728080</td>\n",
       "      <td>52.966824</td>\n",
       "      <td>29.449003</td>\n",
       "      <td>2.791737</td>\n",
       "      <td>1.840900</td>\n",
       "      <td>1.322763</td>\n",
       "      <td>4.108762</td>\n",
       "      <td>342.193049</td>\n",
       "      <td>...</td>\n",
       "      <td>6.403206</td>\n",
       "      <td>2.810892</td>\n",
       "      <td>0.929033</td>\n",
       "      <td>0.705892</td>\n",
       "      <td>0.113146</td>\n",
       "      <td>0.054986</td>\n",
       "      <td>0.066570</td>\n",
       "      <td>6.684568</td>\n",
       "      <td>0.824536</td>\n",
       "      <td>3.011237</td>\n",
       "    </tr>\n",
       "    <tr>\n",
       "      <th>std</th>\n",
       "      <td>79391.970914</td>\n",
       "      <td>1.601705e+05</td>\n",
       "      <td>1.186337</td>\n",
       "      <td>1.439939</td>\n",
       "      <td>26.769823</td>\n",
       "      <td>0.440185</td>\n",
       "      <td>0.723109</td>\n",
       "      <td>0.775059</td>\n",
       "      <td>1.930936</td>\n",
       "      <td>263.834809</td>\n",
       "      <td>...</td>\n",
       "      <td>2.316287</td>\n",
       "      <td>0.422045</td>\n",
       "      <td>2.301726</td>\n",
       "      <td>2.045380</td>\n",
       "      <td>0.395881</td>\n",
       "      <td>0.438757</td>\n",
       "      <td>0.360976</td>\n",
       "      <td>8.449481</td>\n",
       "      <td>1.092176</td>\n",
       "      <td>3.649133</td>\n",
       "    </tr>\n",
       "    <tr>\n",
       "      <th>min</th>\n",
       "      <td>73639.000000</td>\n",
       "      <td>7.027700e+04</td>\n",
       "      <td>-7.409550</td>\n",
       "      <td>50.531384</td>\n",
       "      <td>1.000000</td>\n",
       "      <td>1.000000</td>\n",
       "      <td>1.000000</td>\n",
       "      <td>1.000000</td>\n",
       "      <td>1.000000</td>\n",
       "      <td>1.000000</td>\n",
       "      <td>...</td>\n",
       "      <td>-1.000000</td>\n",
       "      <td>1.000000</td>\n",
       "      <td>0.000000</td>\n",
       "      <td>0.000000</td>\n",
       "      <td>-1.000000</td>\n",
       "      <td>-1.000000</td>\n",
       "      <td>-1.000000</td>\n",
       "      <td>-1.000000</td>\n",
       "      <td>-1.000000</td>\n",
       "      <td>-1.000000</td>\n",
       "    </tr>\n",
       "    <tr>\n",
       "      <th>25%</th>\n",
       "      <td>370611.000000</td>\n",
       "      <td>1.896515e+05</td>\n",
       "      <td>-2.442204</td>\n",
       "      <td>51.593864</td>\n",
       "      <td>7.000000</td>\n",
       "      <td>3.000000</td>\n",
       "      <td>1.000000</td>\n",
       "      <td>1.000000</td>\n",
       "      <td>2.000000</td>\n",
       "      <td>129.000000</td>\n",
       "      <td>...</td>\n",
       "      <td>5.000000</td>\n",
       "      <td>3.000000</td>\n",
       "      <td>0.000000</td>\n",
       "      <td>0.000000</td>\n",
       "      <td>0.000000</td>\n",
       "      <td>0.000000</td>\n",
       "      <td>0.000000</td>\n",
       "      <td>1.000000</td>\n",
       "      <td>1.000000</td>\n",
       "      <td>-1.000000</td>\n",
       "    </tr>\n",
       "    <tr>\n",
       "      <th>50%</th>\n",
       "      <td>424484.000000</td>\n",
       "      <td>3.397060e+05</td>\n",
       "      <td>-1.629635</td>\n",
       "      <td>52.950751</td>\n",
       "      <td>20.000000</td>\n",
       "      <td>3.000000</td>\n",
       "      <td>2.000000</td>\n",
       "      <td>1.000000</td>\n",
       "      <td>4.000000</td>\n",
       "      <td>292.000000</td>\n",
       "      <td>...</td>\n",
       "      <td>6.000000</td>\n",
       "      <td>3.000000</td>\n",
       "      <td>0.000000</td>\n",
       "      <td>0.000000</td>\n",
       "      <td>0.000000</td>\n",
       "      <td>0.000000</td>\n",
       "      <td>0.000000</td>\n",
       "      <td>9.000000</td>\n",
       "      <td>1.000000</td>\n",
       "      <td>2.000000</td>\n",
       "    </tr>\n",
       "    <tr>\n",
       "      <th>75%</th>\n",
       "      <td>474160.500000</td>\n",
       "      <td>4.266860e+05</td>\n",
       "      <td>-0.916601</td>\n",
       "      <td>53.732902</td>\n",
       "      <td>44.000000</td>\n",
       "      <td>3.000000</td>\n",
       "      <td>2.000000</td>\n",
       "      <td>1.000000</td>\n",
       "      <td>6.000000</td>\n",
       "      <td>500.000000</td>\n",
       "      <td>...</td>\n",
       "      <td>8.000000</td>\n",
       "      <td>3.000000</td>\n",
       "      <td>0.000000</td>\n",
       "      <td>0.000000</td>\n",
       "      <td>0.000000</td>\n",
       "      <td>0.000000</td>\n",
       "      <td>0.000000</td>\n",
       "      <td>9.000000</td>\n",
       "      <td>1.000000</td>\n",
       "      <td>6.000000</td>\n",
       "    </tr>\n",
       "    <tr>\n",
       "      <th>max</th>\n",
       "      <td>639778.000000</td>\n",
       "      <td>1.177531e+06</td>\n",
       "      <td>1.442764</td>\n",
       "      <td>60.480924</td>\n",
       "      <td>98.000000</td>\n",
       "      <td>3.000000</td>\n",
       "      <td>15.000000</td>\n",
       "      <td>42.000000</td>\n",
       "      <td>7.000000</td>\n",
       "      <td>941.000000</td>\n",
       "      <td>...</td>\n",
       "      <td>11.000000</td>\n",
       "      <td>3.000000</td>\n",
       "      <td>10.000000</td>\n",
       "      <td>9.000000</td>\n",
       "      <td>2.000000</td>\n",
       "      <td>4.000000</td>\n",
       "      <td>2.000000</td>\n",
       "      <td>98.000000</td>\n",
       "      <td>3.000000</td>\n",
       "      <td>10.000000</td>\n",
       "    </tr>\n",
       "  </tbody>\n",
       "</table>\n",
       "<p>8 rows × 64 columns</p>\n",
       "</div>"
      ],
      "text/plain": [
       "       Location_Easting_OSGR  Location_Northing_OSGR     Longitude  \\\n",
       "count           83459.000000            8.345900e+04  83449.000000   \n",
       "mean           419758.596640            3.417721e+05     -1.728080   \n",
       "std             79391.970914            1.601705e+05      1.186337   \n",
       "min             73639.000000            7.027700e+04     -7.409550   \n",
       "25%            370611.000000            1.896515e+05     -2.442204   \n",
       "50%            424484.000000            3.397060e+05     -1.629635   \n",
       "75%            474160.500000            4.266860e+05     -0.916601   \n",
       "max            639778.000000            1.177531e+06      1.442764   \n",
       "\n",
       "           Latitude  Police_Force  Accident_Severity  Number_of_Vehicles  \\\n",
       "count  83449.000000  83476.000000       83476.000000        83476.000000   \n",
       "mean      52.966824     29.449003           2.791737            1.840900   \n",
       "std        1.439939     26.769823           0.440185            0.723109   \n",
       "min       50.531384      1.000000           1.000000            1.000000   \n",
       "25%       51.593864      7.000000           3.000000            1.000000   \n",
       "50%       52.950751     20.000000           3.000000            2.000000   \n",
       "75%       53.732902     44.000000           3.000000            2.000000   \n",
       "max       60.480924     98.000000           3.000000           15.000000   \n",
       "\n",
       "       Number_of_Casualties   Day_of_Week  Local_Authority_(District)  \\\n",
       "count          83476.000000  83476.000000                83476.000000   \n",
       "mean               1.322763      4.108762                  342.193049   \n",
       "std                0.775059      1.930936                  263.834809   \n",
       "min                1.000000      1.000000                    1.000000   \n",
       "25%                1.000000      2.000000                  129.000000   \n",
       "50%                1.000000      4.000000                  292.000000   \n",
       "75%                1.000000      6.000000                  500.000000   \n",
       "max               42.000000      7.000000                  941.000000   \n",
       "\n",
       "              ...           Age_Band_of_Casualty  Casualty_Severity  \\\n",
       "count         ...                   83476.000000       83476.000000   \n",
       "mean          ...                       6.403206           2.810892   \n",
       "std           ...                       2.316287           0.422045   \n",
       "min           ...                      -1.000000           1.000000   \n",
       "25%           ...                       5.000000           3.000000   \n",
       "50%           ...                       6.000000           3.000000   \n",
       "75%           ...                       8.000000           3.000000   \n",
       "max           ...                      11.000000           3.000000   \n",
       "\n",
       "       Pedestrian_Location  Pedestrian_Movement  Car_Passenger  \\\n",
       "count         83476.000000         83476.000000   83476.000000   \n",
       "mean              0.929033             0.705892       0.113146   \n",
       "std               2.301726             2.045380       0.395881   \n",
       "min               0.000000             0.000000      -1.000000   \n",
       "25%               0.000000             0.000000       0.000000   \n",
       "50%               0.000000             0.000000       0.000000   \n",
       "75%               0.000000             0.000000       0.000000   \n",
       "max              10.000000             9.000000       2.000000   \n",
       "\n",
       "       Bus_or_Coach_Passenger  Pedestrian_Road_Maintenance_Worker  \\\n",
       "count            83476.000000                        83476.000000   \n",
       "mean                 0.054986                            0.066570   \n",
       "std                  0.438757                            0.360976   \n",
       "min                 -1.000000                           -1.000000   \n",
       "25%                  0.000000                            0.000000   \n",
       "50%                  0.000000                            0.000000   \n",
       "75%                  0.000000                            0.000000   \n",
       "max                  4.000000                            2.000000   \n",
       "\n",
       "       Casualty_Type  Casualty_Home_Area_Type  Casualty_IMD_Decile  \n",
       "count   83476.000000             83476.000000         83476.000000  \n",
       "mean        6.684568                 0.824536             3.011237  \n",
       "std         8.449481                 1.092176             3.649133  \n",
       "min        -1.000000                -1.000000            -1.000000  \n",
       "25%         1.000000                 1.000000            -1.000000  \n",
       "50%         9.000000                 1.000000             2.000000  \n",
       "75%         9.000000                 1.000000             6.000000  \n",
       "max        98.000000                 3.000000            10.000000  \n",
       "\n",
       "[8 rows x 64 columns]"
      ]
     },
     "execution_count": 17,
     "metadata": {},
     "output_type": "execute_result"
    }
   ],
   "source": [
    "dataset.describe()"
   ]
  },
  {
   "cell_type": "code",
   "execution_count": 18,
   "metadata": {},
   "outputs": [],
   "source": [
    "dataset=dataset.dropna(how='any')"
   ]
  },
  {
   "cell_type": "code",
   "execution_count": 19,
   "metadata": {},
   "outputs": [
    {
     "data": {
      "text/plain": [
       "Accident_Index                             0\n",
       "Location_Easting_OSGR                      0\n",
       "Location_Northing_OSGR                     0\n",
       "Longitude                                  0\n",
       "Latitude                                   0\n",
       "Police_Force                               0\n",
       "Accident_Severity                          0\n",
       "Number_of_Vehicles                         0\n",
       "Number_of_Casualties                       0\n",
       "Date                                       0\n",
       "Day_of_Week                                0\n",
       "Time                                       0\n",
       "Local_Authority_(District)                 0\n",
       "Local_Authority_(Highway)                  0\n",
       "1st_Road_Class                             0\n",
       "1st_Road_Number                            0\n",
       "Road_Type                                  0\n",
       "Speed_limit                                0\n",
       "Junction_Detail                            0\n",
       "Junction_Control                           0\n",
       "2nd_Road_Class                             0\n",
       "2nd_Road_Number                            0\n",
       "Pedestrian_Crossing-Human_Control          0\n",
       "Pedestrian_Crossing-Physical_Facilities    0\n",
       "Light_Conditions                           0\n",
       "Weather_Conditions                         0\n",
       "Road_Surface_Conditions                    0\n",
       "Special_Conditions_at_Site                 0\n",
       "Carriageway_Hazards                        0\n",
       "Urban_or_Rural_Area                        0\n",
       "                                          ..\n",
       "Hit_Object_in_Carriageway                  0\n",
       "Vehicle_Leaving_Carriageway                0\n",
       "Hit_Object_off_Carriageway                 0\n",
       "1st_Point_of_Impact                        0\n",
       "Was_Vehicle_Left_Hand_Drive?               0\n",
       "Journey_Purpose_of_Driver                  0\n",
       "Sex_of_Driver                              0\n",
       "Age_of_Driver                              0\n",
       "Age_Band_of_Driver                         0\n",
       "Engine_Capacity_(CC)                       0\n",
       "Propulsion_Code                            0\n",
       "Age_of_Vehicle                             0\n",
       "Driver_IMD_Decile                          0\n",
       "Driver_Home_Area_Type                      0\n",
       "Vehicle_IMD_Decile                         0\n",
       "Vehicle_Reference_y                        0\n",
       "Casualty_Reference                         0\n",
       "Casualty_Class                             0\n",
       "Sex_of_Casualty                            0\n",
       "Age_of_Casualty                            0\n",
       "Age_Band_of_Casualty                       0\n",
       "Casualty_Severity                          0\n",
       "Pedestrian_Location                        0\n",
       "Pedestrian_Movement                        0\n",
       "Car_Passenger                              0\n",
       "Bus_or_Coach_Passenger                     0\n",
       "Pedestrian_Road_Maintenance_Worker         0\n",
       "Casualty_Type                              0\n",
       "Casualty_Home_Area_Type                    0\n",
       "Casualty_IMD_Decile                        0\n",
       "Length: 69, dtype: int64"
      ]
     },
     "execution_count": 19,
     "metadata": {},
     "output_type": "execute_result"
    }
   ],
   "source": [
    "dataset.isnull().sum()"
   ]
  },
  {
   "cell_type": "code",
   "execution_count": 20,
   "metadata": {},
   "outputs": [],
   "source": [
    "def remove_string_columns(data):\n",
    "    temp1=data\n",
    "    for f in data.columns:\n",
    "        if(type(data[f][0]) is str):\n",
    "            temp1=temp1.drop([f],axis=1)\n",
    "    return temp1\n"
   ]
  },
  {
   "cell_type": "code",
   "execution_count": 21,
   "metadata": {},
   "outputs": [],
   "source": [
    "from sklearn.tree import DecisionTreeClassifier \n",
    "from sklearn.model_selection import train_test_split\n",
    "from sklearn import metrics"
   ]
  },
  {
   "cell_type": "code",
   "execution_count": 22,
   "metadata": {},
   "outputs": [],
   "source": [
    "def fitmodel_print_accuracy(source,target,n):\n",
    "    x_train,x_test,y_train,y_test=train_test_split(source,target)\n",
    "    dtc=DecisionTreeClassifier()\n",
    "    dtc.fit(x_train,y_train)\n",
    "    y_pred_class=dtc.predict(x_test)\n",
    "    \n",
    "    print(\"n = %d and Accuracy = %.3f\" % (n, metrics.accuracy_score(y_test,y_pred_class)))"
   ]
  },
  {
   "cell_type": "code",
   "execution_count": 23,
   "metadata": {},
   "outputs": [
    {
     "name": "stdout",
     "output_type": "stream",
     "text": [
      "n = 63 and Accuracy = 0.966\n"
     ]
    }
   ],
   "source": [
    "temp1=remove_string_columns(dataset)\n",
    "temp1=temp1.drop(['Accident_Severity'],axis=1)\n",
    "fitmodel_print_accuracy(temp1,dataset.Accident_Severity,temp1.shape[1])"
   ]
  },
  {
   "cell_type": "markdown",
   "metadata": {},
   "source": [
    "# Dimensionality Reduction\n",
    "\n",
    " * Advantages:-\n",
    "   It reduces the time and storage space required.\n",
    "   Removal of multi-collinearity improves the performance of the machine learning model.\n",
    "   It becomes easier to visualize the data when reduced to very low dimensions such as 2D or 3D."
   ]
  },
  {
   "cell_type": "markdown",
   "metadata": {},
   "source": [
    "# Step1:- Delete variable which is having large number of missing values\n",
    "  "
   ]
  },
  {
   "cell_type": "code",
   "execution_count": 24,
   "metadata": {},
   "outputs": [
    {
     "data": {
      "text/plain": [
       "Accident_Index                             0.0\n",
       "Location_Easting_OSGR                      0.0\n",
       "Location_Northing_OSGR                     0.0\n",
       "Longitude                                  0.0\n",
       "Latitude                                   0.0\n",
       "Police_Force                               0.0\n",
       "Accident_Severity                          0.0\n",
       "Number_of_Vehicles                         0.0\n",
       "Number_of_Casualties                       0.0\n",
       "Date                                       0.0\n",
       "Day_of_Week                                0.0\n",
       "Time                                       0.0\n",
       "Local_Authority_(District)                 0.0\n",
       "Local_Authority_(Highway)                  0.0\n",
       "1st_Road_Class                             0.0\n",
       "1st_Road_Number                            0.0\n",
       "Road_Type                                  0.0\n",
       "Speed_limit                                0.0\n",
       "Junction_Detail                            0.0\n",
       "Junction_Control                           0.0\n",
       "2nd_Road_Class                             0.0\n",
       "2nd_Road_Number                            0.0\n",
       "Pedestrian_Crossing-Human_Control          0.0\n",
       "Pedestrian_Crossing-Physical_Facilities    0.0\n",
       "Light_Conditions                           0.0\n",
       "Weather_Conditions                         0.0\n",
       "Road_Surface_Conditions                    0.0\n",
       "Special_Conditions_at_Site                 0.0\n",
       "Carriageway_Hazards                        0.0\n",
       "Urban_or_Rural_Area                        0.0\n",
       "                                          ... \n",
       "Hit_Object_in_Carriageway                  0.0\n",
       "Vehicle_Leaving_Carriageway                0.0\n",
       "Hit_Object_off_Carriageway                 0.0\n",
       "1st_Point_of_Impact                        0.0\n",
       "Was_Vehicle_Left_Hand_Drive?               0.0\n",
       "Journey_Purpose_of_Driver                  0.0\n",
       "Sex_of_Driver                              0.0\n",
       "Age_of_Driver                              0.0\n",
       "Age_Band_of_Driver                         0.0\n",
       "Engine_Capacity_(CC)                       0.0\n",
       "Propulsion_Code                            0.0\n",
       "Age_of_Vehicle                             0.0\n",
       "Driver_IMD_Decile                          0.0\n",
       "Driver_Home_Area_Type                      0.0\n",
       "Vehicle_IMD_Decile                         0.0\n",
       "Vehicle_Reference_y                        0.0\n",
       "Casualty_Reference                         0.0\n",
       "Casualty_Class                             0.0\n",
       "Sex_of_Casualty                            0.0\n",
       "Age_of_Casualty                            0.0\n",
       "Age_Band_of_Casualty                       0.0\n",
       "Casualty_Severity                          0.0\n",
       "Pedestrian_Location                        0.0\n",
       "Pedestrian_Movement                        0.0\n",
       "Car_Passenger                              0.0\n",
       "Bus_or_Coach_Passenger                     0.0\n",
       "Pedestrian_Road_Maintenance_Worker         0.0\n",
       "Casualty_Type                              0.0\n",
       "Casualty_Home_Area_Type                    0.0\n",
       "Casualty_IMD_Decile                        0.0\n",
       "Length: 69, dtype: float64"
      ]
     },
     "execution_count": 24,
     "metadata": {},
     "output_type": "execute_result"
    }
   ],
   "source": [
    "dataset.isnull().sum()/len(dataset)*100"
   ]
  },
  {
   "cell_type": "markdown",
   "metadata": {},
   "source": [
    "* There is no missing values"
   ]
  },
  {
   "cell_type": "code",
   "execution_count": 25,
   "metadata": {},
   "outputs": [],
   "source": [
    "\n",
    "temp_dataset=dataset"
   ]
  },
  {
   "cell_type": "code",
   "execution_count": 26,
   "metadata": {},
   "outputs": [
    {
     "data": {
      "text/plain": [
       "(76336, 69)"
      ]
     },
     "execution_count": 26,
     "metadata": {},
     "output_type": "execute_result"
    }
   ],
   "source": [
    "temp_dataset.shape"
   ]
  },
  {
   "cell_type": "code",
   "execution_count": 27,
   "metadata": {},
   "outputs": [],
   "source": [
    "# we lost approx 8% tuple"
   ]
  },
  {
   "cell_type": "markdown",
   "metadata": {},
   "source": [
    "# Step 2:- Delete variable having low variance"
   ]
  },
  {
   "cell_type": "code",
   "execution_count": 28,
   "metadata": {
    "scrolled": true
   },
   "outputs": [
    {
     "data": {
      "text/plain": [
       "Accident_Index                             0.0\n",
       "Location_Easting_OSGR                      0.0\n",
       "Location_Northing_OSGR                     0.0\n",
       "Longitude                                  0.0\n",
       "Latitude                                   0.0\n",
       "Police_Force                               0.0\n",
       "Accident_Severity                          0.0\n",
       "Number_of_Vehicles                         0.0\n",
       "Number_of_Casualties                       0.0\n",
       "Date                                       0.0\n",
       "Day_of_Week                                0.0\n",
       "Time                                       0.0\n",
       "Local_Authority_(District)                 0.0\n",
       "Local_Authority_(Highway)                  0.0\n",
       "1st_Road_Class                             0.0\n",
       "1st_Road_Number                            0.0\n",
       "Road_Type                                  0.0\n",
       "Speed_limit                                0.0\n",
       "Junction_Detail                            0.0\n",
       "Junction_Control                           0.0\n",
       "2nd_Road_Class                             0.0\n",
       "2nd_Road_Number                            0.0\n",
       "Pedestrian_Crossing-Human_Control          0.0\n",
       "Pedestrian_Crossing-Physical_Facilities    0.0\n",
       "Light_Conditions                           0.0\n",
       "Weather_Conditions                         0.0\n",
       "Road_Surface_Conditions                    0.0\n",
       "Special_Conditions_at_Site                 0.0\n",
       "Carriageway_Hazards                        0.0\n",
       "Urban_or_Rural_Area                        0.0\n",
       "                                          ... \n",
       "Hit_Object_in_Carriageway                  0.0\n",
       "Vehicle_Leaving_Carriageway                0.0\n",
       "Hit_Object_off_Carriageway                 0.0\n",
       "1st_Point_of_Impact                        0.0\n",
       "Was_Vehicle_Left_Hand_Drive?               0.0\n",
       "Journey_Purpose_of_Driver                  0.0\n",
       "Sex_of_Driver                              0.0\n",
       "Age_of_Driver                              0.0\n",
       "Age_Band_of_Driver                         0.0\n",
       "Engine_Capacity_(CC)                       0.0\n",
       "Propulsion_Code                            0.0\n",
       "Age_of_Vehicle                             0.0\n",
       "Driver_IMD_Decile                          0.0\n",
       "Driver_Home_Area_Type                      0.0\n",
       "Vehicle_IMD_Decile                         0.0\n",
       "Vehicle_Reference_y                        0.0\n",
       "Casualty_Reference                         0.0\n",
       "Casualty_Class                             0.0\n",
       "Sex_of_Casualty                            0.0\n",
       "Age_of_Casualty                            0.0\n",
       "Age_Band_of_Casualty                       0.0\n",
       "Casualty_Severity                          0.0\n",
       "Pedestrian_Location                        0.0\n",
       "Pedestrian_Movement                        0.0\n",
       "Car_Passenger                              0.0\n",
       "Bus_or_Coach_Passenger                     0.0\n",
       "Pedestrian_Road_Maintenance_Worker         0.0\n",
       "Casualty_Type                              0.0\n",
       "Casualty_Home_Area_Type                    0.0\n",
       "Casualty_IMD_Decile                        0.0\n",
       "Length: 69, dtype: float64"
      ]
     },
     "execution_count": 28,
     "metadata": {},
     "output_type": "execute_result"
    }
   ],
   "source": [
    " # Let’s check whether is there any missing values attribute\n",
    "temp_dataset.isnull().sum()/len(temp_dataset)*100"
   ]
  },
  {
   "cell_type": "code",
   "execution_count": 29,
   "metadata": {},
   "outputs": [],
   "source": [
    "def low_variance_data(x):\n",
    "    var=temp_dataset.var()\n",
    "    temp2_dataset=temp_dataset\n",
    "    temp2_dataset=temp2_dataset.columns\n",
    "    variable = [ ]\n",
    "    for i in range(0,len(var)):\n",
    "        if var[i]<=x:   #setting the threshold as .2\n",
    "            variable.append(temp2_dataset[i+1])\n",
    "    return variable"
   ]
  },
  {
   "cell_type": "code",
   "execution_count": 30,
   "metadata": {},
   "outputs": [],
   "source": [
    "def check_accuracy_with_different_variance_threshold(x):\n",
    "    temp_dataset=dataset\n",
    "    variable=low_variance_data(x)\n",
    "    print(variable)\n",
    "    temp_dataset=temp_dataset.drop(variable,axis=1)\n",
    "    temp1=remove_string_columns(temp_dataset)\n",
    "    if 'Accident_Severity' in temp1.columns:\n",
    "        temp1=temp1.drop(['Accident_Severity'],axis=1)\n",
    "    fitmodel_print_accuracy(temp1,dataset.Accident_Severity,temp1.shape[1])    "
   ]
  },
  {
   "cell_type": "code",
   "execution_count": 31,
   "metadata": {},
   "outputs": [
    {
     "name": "stdout",
     "output_type": "stream",
     "text": [
      "['Junction_Control', 'Hit_Object_in_Carriageway', 'Driver_IMD_Decile']\n",
      "n = 60 and Accuracy = 0.964\n",
      "['Junction_Control', 'Carriageway_Hazards', 'Did_Police_Officer_Attend_Scene_of_Accident', 'Hit_Object_in_Carriageway', 'Driver_IMD_Decile', 'Age_Band_of_Casualty', 'Pedestrian_Location']\n",
      "n = 56 and Accuracy = 0.966\n",
      "['Junction_Control', 'Carriageway_Hazards', 'Did_Police_Officer_Attend_Scene_of_Accident', 'Hit_Object_in_Carriageway', 'Driver_IMD_Decile', 'Casualty_Class', 'Age_Band_of_Casualty', 'Pedestrian_Location']\n",
      "n = 55 and Accuracy = 0.965\n",
      "['Junction_Control', 'Carriageway_Hazards', 'Did_Police_Officer_Attend_Scene_of_Accident', 'Hit_Object_in_Carriageway', 'Driver_IMD_Decile', 'Casualty_Class', 'Age_Band_of_Casualty', 'Casualty_Severity', 'Pedestrian_Location']\n",
      "n = 54 and Accuracy = 0.713\n",
      "['Accident_Severity', 'Junction_Control', 'Special_Conditions_at_Site', 'Carriageway_Hazards', 'Did_Police_Officer_Attend_Scene_of_Accident', 'Hit_Object_in_Carriageway', 'Driver_IMD_Decile', 'Casualty_Class', 'Age_Band_of_Casualty', 'Casualty_Severity', 'Pedestrian_Location']\n",
      "n = 53 and Accuracy = 0.712\n",
      "['Accident_Severity', 'Number_of_Vehicles', 'Number_of_Casualties', 'Junction_Control', 'Pedestrian_Crossing-Physical_Facilities', 'Light_Conditions', 'Weather_Conditions', 'Road_Surface_Conditions', 'Special_Conditions_at_Site', 'Carriageway_Hazards', 'Did_Police_Officer_Attend_Scene_of_Accident', 'Hit_Object_in_Carriageway', 'Hit_Object_off_Carriageway', 'Age_of_Vehicle', 'Driver_IMD_Decile', 'Driver_Home_Area_Type', 'Vehicle_IMD_Decile', 'Casualty_Class', 'Age_Band_of_Casualty', 'Casualty_Severity', 'Pedestrian_Location']\n",
      "n = 43 and Accuracy = 0.709\n",
      "['Accident_Severity', 'Number_of_Vehicles', 'Number_of_Casualties', 'Junction_Control', 'Pedestrian_Crossing-Physical_Facilities', 'Light_Conditions', 'Weather_Conditions', 'Road_Surface_Conditions', 'Special_Conditions_at_Site', 'Carriageway_Hazards', 'Did_Police_Officer_Attend_Scene_of_Accident', 'Hit_Object_in_Carriageway', 'Hit_Object_off_Carriageway', 'Age_of_Vehicle', 'Driver_IMD_Decile', 'Driver_Home_Area_Type', 'Vehicle_IMD_Decile', 'Casualty_Class', 'Age_Band_of_Casualty', 'Casualty_Severity', 'Pedestrian_Location']\n",
      "n = 43 and Accuracy = 0.714\n"
     ]
    }
   ],
   "source": [
    "\n",
    "check_accuracy_with_different_variance_threshold(.1)\n",
    "check_accuracy_with_different_variance_threshold(.15)\n",
    "check_accuracy_with_different_variance_threshold(.18)\n",
    "check_accuracy_with_different_variance_threshold(.19)\n",
    "check_accuracy_with_different_variance_threshold(.2)\n",
    "check_accuracy_with_different_variance_threshold(.6)\n",
    "check_accuracy_with_different_variance_threshold(.7)"
   ]
  },
  {
   "cell_type": "code",
   "execution_count": 32,
   "metadata": {},
   "outputs": [],
   "source": [
    "# Here we have observed the importance of 'Casualty_Severity'"
   ]
  },
  {
   "cell_type": "code",
   "execution_count": 33,
   "metadata": {},
   "outputs": [
    {
     "name": "stdout",
     "output_type": "stream",
     "text": [
      "['Accident_Severity', 'Number_of_Vehicles', 'Number_of_Casualties', 'Junction_Control', 'Pedestrian_Crossing-Physical_Facilities', 'Light_Conditions', 'Weather_Conditions', 'Road_Surface_Conditions', 'Special_Conditions_at_Site', 'Carriageway_Hazards', 'Did_Police_Officer_Attend_Scene_of_Accident', 'Hit_Object_in_Carriageway', 'Hit_Object_off_Carriageway', 'Age_of_Vehicle', 'Driver_IMD_Decile', 'Driver_Home_Area_Type', 'Vehicle_IMD_Decile', 'Casualty_Class', 'Age_Band_of_Casualty', 'Casualty_Severity', 'Pedestrian_Location']\n"
     ]
    }
   ],
   "source": [
    "temp_dataset=dataset\n",
    "var=temp_dataset.var()\n",
    "temp2_dataset=temp_dataset\n",
    "temp2_dataset=temp2_dataset.columns\n",
    "variable = [ ]\n",
    "for i in range(0,len(var)):\n",
    "    if var[i]<=.6:   #setting the threshold as .6\n",
    "        variable.append(temp2_dataset[i+1])\n",
    "print(variable)"
   ]
  },
  {
   "cell_type": "code",
   "execution_count": 34,
   "metadata": {},
   "outputs": [
    {
     "name": "stdout",
     "output_type": "stream",
     "text": [
      "n = 44 and Accuracy = 0.961\n"
     ]
    }
   ],
   "source": [
    "\n",
    "temp_dataset=temp_dataset.drop(['Number_of_Vehicles', 'Number_of_Casualties', 'Junction_Control', 'Pedestrian_Crossing-Physical_Facilities', 'Light_Conditions', 'Weather_Conditions', 'Road_Surface_Conditions', 'Special_Conditions_at_Site', 'Carriageway_Hazards', 'Did_Police_Officer_Attend_Scene_of_Accident', 'Hit_Object_in_Carriageway', 'Hit_Object_off_Carriageway', 'Age_of_Vehicle', 'Driver_IMD_Decile', 'Driver_Home_Area_Type', 'Vehicle_IMD_Decile', 'Casualty_Class', 'Age_Band_of_Casualty', 'Pedestrian_Location'],axis=1)\n",
    "temp1=remove_string_columns(temp_dataset)\n",
    "temp1=temp1.drop(['Accident_Severity'],axis=1)\n",
    "fitmodel_print_accuracy(temp1,dataset.Accident_Severity,temp1.shape[1])"
   ]
  },
  {
   "cell_type": "code",
   "execution_count": 35,
   "metadata": {},
   "outputs": [],
   "source": [
    "dataset=remove_string_columns(temp_dataset)"
   ]
  },
  {
   "cell_type": "code",
   "execution_count": 36,
   "metadata": {},
   "outputs": [
    {
     "data": {
      "text/plain": [
       "(76336, 45)"
      ]
     },
     "execution_count": 36,
     "metadata": {},
     "output_type": "execute_result"
    }
   ],
   "source": [
    "dataset.shape"
   ]
  },
  {
   "cell_type": "markdown",
   "metadata": {},
   "source": [
    "###### Here we have observed and removed useless feature and updated dataset"
   ]
  },
  {
   "cell_type": "markdown",
   "metadata": {},
   "source": [
    "# Step 3:- High Correlation Filter"
   ]
  },
  {
   "cell_type": "code",
   "execution_count": 37,
   "metadata": {},
   "outputs": [
    {
     "data": {
      "text/html": [
       "<div>\n",
       "<style scoped>\n",
       "    .dataframe tbody tr th:only-of-type {\n",
       "        vertical-align: middle;\n",
       "    }\n",
       "\n",
       "    .dataframe tbody tr th {\n",
       "        vertical-align: top;\n",
       "    }\n",
       "\n",
       "    .dataframe thead th {\n",
       "        text-align: right;\n",
       "    }\n",
       "</style>\n",
       "<table border=\"1\" class=\"dataframe\">\n",
       "  <thead>\n",
       "    <tr style=\"text-align: right;\">\n",
       "      <th></th>\n",
       "      <th>Location_Easting_OSGR</th>\n",
       "      <th>Location_Northing_OSGR</th>\n",
       "      <th>Longitude</th>\n",
       "      <th>Latitude</th>\n",
       "      <th>Police_Force</th>\n",
       "      <th>Accident_Severity</th>\n",
       "      <th>Day_of_Week</th>\n",
       "      <th>Local_Authority_(District)</th>\n",
       "      <th>1st_Road_Class</th>\n",
       "      <th>1st_Road_Number</th>\n",
       "      <th>...</th>\n",
       "      <th>Sex_of_Casualty</th>\n",
       "      <th>Age_of_Casualty</th>\n",
       "      <th>Casualty_Severity</th>\n",
       "      <th>Pedestrian_Movement</th>\n",
       "      <th>Car_Passenger</th>\n",
       "      <th>Bus_or_Coach_Passenger</th>\n",
       "      <th>Pedestrian_Road_Maintenance_Worker</th>\n",
       "      <th>Casualty_Type</th>\n",
       "      <th>Casualty_Home_Area_Type</th>\n",
       "      <th>Casualty_IMD_Decile</th>\n",
       "    </tr>\n",
       "  </thead>\n",
       "  <tbody>\n",
       "    <tr>\n",
       "      <th>Location_Easting_OSGR</th>\n",
       "      <td>1.000000</td>\n",
       "      <td>-0.313166</td>\n",
       "      <td>0.999709</td>\n",
       "      <td>-0.315309</td>\n",
       "      <td>-0.117692</td>\n",
       "      <td>0.030922</td>\n",
       "      <td>0.006502</td>\n",
       "      <td>-0.195675</td>\n",
       "      <td>-0.007854</td>\n",
       "      <td>-0.124575</td>\n",
       "      <td>...</td>\n",
       "      <td>-0.012766</td>\n",
       "      <td>-0.019316</td>\n",
       "      <td>0.028160</td>\n",
       "      <td>0.007720</td>\n",
       "      <td>-0.027198</td>\n",
       "      <td>0.040760</td>\n",
       "      <td>0.160005</td>\n",
       "      <td>-0.025159</td>\n",
       "      <td>-0.016954</td>\n",
       "      <td>0.196029</td>\n",
       "    </tr>\n",
       "    <tr>\n",
       "      <th>Location_Northing_OSGR</th>\n",
       "      <td>-0.313166</td>\n",
       "      <td>1.000000</td>\n",
       "      <td>-0.303001</td>\n",
       "      <td>0.999984</td>\n",
       "      <td>-0.534660</td>\n",
       "      <td>-0.029037</td>\n",
       "      <td>0.000256</td>\n",
       "      <td>-0.476024</td>\n",
       "      <td>0.041955</td>\n",
       "      <td>0.029915</td>\n",
       "      <td>...</td>\n",
       "      <td>0.007817</td>\n",
       "      <td>-0.000980</td>\n",
       "      <td>-0.025557</td>\n",
       "      <td>0.014692</td>\n",
       "      <td>0.023175</td>\n",
       "      <td>0.025929</td>\n",
       "      <td>-0.125836</td>\n",
       "      <td>0.027433</td>\n",
       "      <td>-0.071216</td>\n",
       "      <td>-0.104991</td>\n",
       "    </tr>\n",
       "    <tr>\n",
       "      <th>Longitude</th>\n",
       "      <td>0.999709</td>\n",
       "      <td>-0.303001</td>\n",
       "      <td>1.000000</td>\n",
       "      <td>-0.305129</td>\n",
       "      <td>-0.115998</td>\n",
       "      <td>0.030153</td>\n",
       "      <td>0.006477</td>\n",
       "      <td>-0.192779</td>\n",
       "      <td>-0.007120</td>\n",
       "      <td>-0.123845</td>\n",
       "      <td>...</td>\n",
       "      <td>-0.012330</td>\n",
       "      <td>-0.019447</td>\n",
       "      <td>0.027515</td>\n",
       "      <td>0.007507</td>\n",
       "      <td>-0.026621</td>\n",
       "      <td>0.041093</td>\n",
       "      <td>0.157183</td>\n",
       "      <td>-0.024553</td>\n",
       "      <td>-0.016842</td>\n",
       "      <td>0.193595</td>\n",
       "    </tr>\n",
       "    <tr>\n",
       "      <th>Latitude</th>\n",
       "      <td>-0.315309</td>\n",
       "      <td>0.999984</td>\n",
       "      <td>-0.305129</td>\n",
       "      <td>1.000000</td>\n",
       "      <td>-0.534206</td>\n",
       "      <td>-0.029091</td>\n",
       "      <td>0.000252</td>\n",
       "      <td>-0.475382</td>\n",
       "      <td>0.041894</td>\n",
       "      <td>0.030617</td>\n",
       "      <td>...</td>\n",
       "      <td>0.007817</td>\n",
       "      <td>-0.001011</td>\n",
       "      <td>-0.025607</td>\n",
       "      <td>0.014655</td>\n",
       "      <td>0.023177</td>\n",
       "      <td>0.025745</td>\n",
       "      <td>-0.126403</td>\n",
       "      <td>0.027422</td>\n",
       "      <td>-0.071478</td>\n",
       "      <td>-0.104556</td>\n",
       "    </tr>\n",
       "    <tr>\n",
       "      <th>Police_Force</th>\n",
       "      <td>-0.117692</td>\n",
       "      <td>-0.534660</td>\n",
       "      <td>-0.115998</td>\n",
       "      <td>-0.534206</td>\n",
       "      <td>1.000000</td>\n",
       "      <td>-0.025607</td>\n",
       "      <td>-0.009248</td>\n",
       "      <td>0.975865</td>\n",
       "      <td>0.009389</td>\n",
       "      <td>0.043670</td>\n",
       "      <td>...</td>\n",
       "      <td>0.019806</td>\n",
       "      <td>0.029351</td>\n",
       "      <td>-0.021743</td>\n",
       "      <td>-0.052980</td>\n",
       "      <td>0.008314</td>\n",
       "      <td>-0.053849</td>\n",
       "      <td>-0.161924</td>\n",
       "      <td>0.033228</td>\n",
       "      <td>0.080237</td>\n",
       "      <td>-0.013107</td>\n",
       "    </tr>\n",
       "    <tr>\n",
       "      <th>Accident_Severity</th>\n",
       "      <td>0.030922</td>\n",
       "      <td>-0.029037</td>\n",
       "      <td>0.030153</td>\n",
       "      <td>-0.029091</td>\n",
       "      <td>-0.025607</td>\n",
       "      <td>1.000000</td>\n",
       "      <td>0.006359</td>\n",
       "      <td>-0.029230</td>\n",
       "      <td>0.014098</td>\n",
       "      <td>-0.010956</td>\n",
       "      <td>...</td>\n",
       "      <td>0.112132</td>\n",
       "      <td>-0.065106</td>\n",
       "      <td>0.943732</td>\n",
       "      <td>-0.054771</td>\n",
       "      <td>0.049107</td>\n",
       "      <td>0.030495</td>\n",
       "      <td>-0.014079</td>\n",
       "      <td>0.049120</td>\n",
       "      <td>-0.007845</td>\n",
       "      <td>-0.001747</td>\n",
       "    </tr>\n",
       "    <tr>\n",
       "      <th>Day_of_Week</th>\n",
       "      <td>0.006502</td>\n",
       "      <td>0.000256</td>\n",
       "      <td>0.006477</td>\n",
       "      <td>0.000252</td>\n",
       "      <td>-0.009248</td>\n",
       "      <td>0.006359</td>\n",
       "      <td>1.000000</td>\n",
       "      <td>-0.009795</td>\n",
       "      <td>0.007239</td>\n",
       "      <td>-0.001199</td>\n",
       "      <td>...</td>\n",
       "      <td>-0.000550</td>\n",
       "      <td>0.008254</td>\n",
       "      <td>0.004953</td>\n",
       "      <td>0.008039</td>\n",
       "      <td>-0.000352</td>\n",
       "      <td>0.013348</td>\n",
       "      <td>0.006473</td>\n",
       "      <td>0.001164</td>\n",
       "      <td>-0.006140</td>\n",
       "      <td>-0.002873</td>\n",
       "    </tr>\n",
       "    <tr>\n",
       "      <th>Local_Authority_(District)</th>\n",
       "      <td>-0.195675</td>\n",
       "      <td>-0.476024</td>\n",
       "      <td>-0.192779</td>\n",
       "      <td>-0.475382</td>\n",
       "      <td>0.975865</td>\n",
       "      <td>-0.029230</td>\n",
       "      <td>-0.009795</td>\n",
       "      <td>1.000000</td>\n",
       "      <td>0.017186</td>\n",
       "      <td>0.050666</td>\n",
       "      <td>...</td>\n",
       "      <td>0.022025</td>\n",
       "      <td>0.028188</td>\n",
       "      <td>-0.024869</td>\n",
       "      <td>-0.051188</td>\n",
       "      <td>0.011930</td>\n",
       "      <td>-0.055914</td>\n",
       "      <td>-0.164828</td>\n",
       "      <td>0.037507</td>\n",
       "      <td>0.065656</td>\n",
       "      <td>-0.046246</td>\n",
       "    </tr>\n",
       "    <tr>\n",
       "      <th>1st_Road_Class</th>\n",
       "      <td>-0.007854</td>\n",
       "      <td>0.041955</td>\n",
       "      <td>-0.007120</td>\n",
       "      <td>0.041894</td>\n",
       "      <td>0.009389</td>\n",
       "      <td>0.014098</td>\n",
       "      <td>0.007239</td>\n",
       "      <td>0.017186</td>\n",
       "      <td>1.000000</td>\n",
       "      <td>-0.188794</td>\n",
       "      <td>...</td>\n",
       "      <td>0.002614</td>\n",
       "      <td>-0.073785</td>\n",
       "      <td>0.003253</td>\n",
       "      <td>0.150018</td>\n",
       "      <td>-0.026514</td>\n",
       "      <td>0.001204</td>\n",
       "      <td>0.021681</td>\n",
       "      <td>-0.097890</td>\n",
       "      <td>-0.052013</td>\n",
       "      <td>-0.056123</td>\n",
       "    </tr>\n",
       "    <tr>\n",
       "      <th>1st_Road_Number</th>\n",
       "      <td>-0.124575</td>\n",
       "      <td>0.029915</td>\n",
       "      <td>-0.123845</td>\n",
       "      <td>0.030617</td>\n",
       "      <td>0.043670</td>\n",
       "      <td>-0.010956</td>\n",
       "      <td>-0.001199</td>\n",
       "      <td>0.050666</td>\n",
       "      <td>-0.188794</td>\n",
       "      <td>1.000000</td>\n",
       "      <td>...</td>\n",
       "      <td>-0.004051</td>\n",
       "      <td>0.006964</td>\n",
       "      <td>-0.010115</td>\n",
       "      <td>-0.026223</td>\n",
       "      <td>-0.002014</td>\n",
       "      <td>-0.011173</td>\n",
       "      <td>-0.037456</td>\n",
       "      <td>-0.004004</td>\n",
       "      <td>0.018923</td>\n",
       "      <td>0.004248</td>\n",
       "    </tr>\n",
       "    <tr>\n",
       "      <th>Road_Type</th>\n",
       "      <td>-0.013112</td>\n",
       "      <td>0.008189</td>\n",
       "      <td>-0.013128</td>\n",
       "      <td>0.008045</td>\n",
       "      <td>0.010013</td>\n",
       "      <td>-0.037411</td>\n",
       "      <td>0.003360</td>\n",
       "      <td>0.009888</td>\n",
       "      <td>0.305833</td>\n",
       "      <td>0.017095</td>\n",
       "      <td>...</td>\n",
       "      <td>-0.003217</td>\n",
       "      <td>-0.027167</td>\n",
       "      <td>-0.038223</td>\n",
       "      <td>0.089254</td>\n",
       "      <td>-0.022625</td>\n",
       "      <td>-0.005147</td>\n",
       "      <td>0.028393</td>\n",
       "      <td>-0.043553</td>\n",
       "      <td>0.021193</td>\n",
       "      <td>-0.002574</td>\n",
       "    </tr>\n",
       "    <tr>\n",
       "      <th>Speed_limit</th>\n",
       "      <td>-0.070765</td>\n",
       "      <td>0.019746</td>\n",
       "      <td>-0.068966</td>\n",
       "      <td>0.019849</td>\n",
       "      <td>0.201141</td>\n",
       "      <td>-0.083726</td>\n",
       "      <td>-0.023778</td>\n",
       "      <td>0.201238</td>\n",
       "      <td>-0.408454</td>\n",
       "      <td>-0.048058</td>\n",
       "      <td>...</td>\n",
       "      <td>0.001471</td>\n",
       "      <td>0.070159</td>\n",
       "      <td>-0.057582</td>\n",
       "      <td>-0.172728</td>\n",
       "      <td>0.040980</td>\n",
       "      <td>-0.058807</td>\n",
       "      <td>-0.121408</td>\n",
       "      <td>0.177908</td>\n",
       "      <td>0.120429</td>\n",
       "      <td>0.089081</td>\n",
       "    </tr>\n",
       "    <tr>\n",
       "      <th>Junction_Detail</th>\n",
       "      <td>-0.001121</td>\n",
       "      <td>-0.013528</td>\n",
       "      <td>-0.002124</td>\n",
       "      <td>-0.013490</td>\n",
       "      <td>-0.083695</td>\n",
       "      <td>0.036043</td>\n",
       "      <td>0.011803</td>\n",
       "      <td>-0.083309</td>\n",
       "      <td>0.038025</td>\n",
       "      <td>0.047355</td>\n",
       "      <td>...</td>\n",
       "      <td>0.005789</td>\n",
       "      <td>0.022079</td>\n",
       "      <td>0.031189</td>\n",
       "      <td>-0.037041</td>\n",
       "      <td>0.003072</td>\n",
       "      <td>0.006206</td>\n",
       "      <td>0.036452</td>\n",
       "      <td>-0.028183</td>\n",
       "      <td>-0.009772</td>\n",
       "      <td>-0.004076</td>\n",
       "    </tr>\n",
       "    <tr>\n",
       "      <th>2nd_Road_Class</th>\n",
       "      <td>0.023077</td>\n",
       "      <td>-0.018447</td>\n",
       "      <td>0.022943</td>\n",
       "      <td>-0.018317</td>\n",
       "      <td>-0.068192</td>\n",
       "      <td>0.052621</td>\n",
       "      <td>0.008803</td>\n",
       "      <td>-0.067186</td>\n",
       "      <td>0.082520</td>\n",
       "      <td>0.052582</td>\n",
       "      <td>...</td>\n",
       "      <td>0.000952</td>\n",
       "      <td>0.022166</td>\n",
       "      <td>0.044138</td>\n",
       "      <td>-0.063956</td>\n",
       "      <td>-0.010818</td>\n",
       "      <td>0.005290</td>\n",
       "      <td>0.019622</td>\n",
       "      <td>-0.050991</td>\n",
       "      <td>-0.019701</td>\n",
       "      <td>0.003301</td>\n",
       "    </tr>\n",
       "    <tr>\n",
       "      <th>2nd_Road_Number</th>\n",
       "      <td>-0.017975</td>\n",
       "      <td>0.010676</td>\n",
       "      <td>-0.017576</td>\n",
       "      <td>0.011052</td>\n",
       "      <td>0.015931</td>\n",
       "      <td>0.024648</td>\n",
       "      <td>-0.000057</td>\n",
       "      <td>0.013661</td>\n",
       "      <td>-0.054992</td>\n",
       "      <td>0.188917</td>\n",
       "      <td>...</td>\n",
       "      <td>0.010229</td>\n",
       "      <td>0.016076</td>\n",
       "      <td>0.024118</td>\n",
       "      <td>-0.033858</td>\n",
       "      <td>0.008109</td>\n",
       "      <td>-0.007384</td>\n",
       "      <td>-0.021376</td>\n",
       "      <td>-0.002231</td>\n",
       "      <td>0.008541</td>\n",
       "      <td>0.029199</td>\n",
       "    </tr>\n",
       "    <tr>\n",
       "      <th>Pedestrian_Crossing-Human_Control</th>\n",
       "      <td>-0.060402</td>\n",
       "      <td>0.045514</td>\n",
       "      <td>-0.059823</td>\n",
       "      <td>0.045708</td>\n",
       "      <td>0.042924</td>\n",
       "      <td>-0.014730</td>\n",
       "      <td>0.004529</td>\n",
       "      <td>0.047573</td>\n",
       "      <td>0.000894</td>\n",
       "      <td>0.019065</td>\n",
       "      <td>...</td>\n",
       "      <td>0.005971</td>\n",
       "      <td>0.008146</td>\n",
       "      <td>-0.014899</td>\n",
       "      <td>-0.000602</td>\n",
       "      <td>0.008363</td>\n",
       "      <td>0.006414</td>\n",
       "      <td>-0.004916</td>\n",
       "      <td>-0.012530</td>\n",
       "      <td>-0.001077</td>\n",
       "      <td>-0.007115</td>\n",
       "    </tr>\n",
       "    <tr>\n",
       "      <th>Urban_or_Rural_Area</th>\n",
       "      <td>-0.100822</td>\n",
       "      <td>0.022218</td>\n",
       "      <td>-0.099302</td>\n",
       "      <td>0.022049</td>\n",
       "      <td>0.240437</td>\n",
       "      <td>-0.084542</td>\n",
       "      <td>-0.024223</td>\n",
       "      <td>0.238882</td>\n",
       "      <td>-0.243827</td>\n",
       "      <td>-0.013997</td>\n",
       "      <td>...</td>\n",
       "      <td>0.001832</td>\n",
       "      <td>0.084720</td>\n",
       "      <td>-0.061646</td>\n",
       "      <td>-0.140297</td>\n",
       "      <td>0.024503</td>\n",
       "      <td>-0.058541</td>\n",
       "      <td>-0.126931</td>\n",
       "      <td>0.146847</td>\n",
       "      <td>0.179232</td>\n",
       "      <td>0.106081</td>\n",
       "    </tr>\n",
       "    <tr>\n",
       "      <th>Vehicle_Reference_x</th>\n",
       "      <td>-0.002083</td>\n",
       "      <td>0.000487</td>\n",
       "      <td>-0.002068</td>\n",
       "      <td>0.000506</td>\n",
       "      <td>-0.001001</td>\n",
       "      <td>0.001581</td>\n",
       "      <td>-0.000321</td>\n",
       "      <td>-0.000078</td>\n",
       "      <td>-0.003126</td>\n",
       "      <td>-0.001143</td>\n",
       "      <td>...</td>\n",
       "      <td>0.004371</td>\n",
       "      <td>-0.004513</td>\n",
       "      <td>0.001446</td>\n",
       "      <td>0.003933</td>\n",
       "      <td>-0.001219</td>\n",
       "      <td>0.000125</td>\n",
       "      <td>-0.000852</td>\n",
       "      <td>-0.002411</td>\n",
       "      <td>-0.006227</td>\n",
       "      <td>-0.004609</td>\n",
       "    </tr>\n",
       "    <tr>\n",
       "      <th>Vehicle_Type</th>\n",
       "      <td>-0.019571</td>\n",
       "      <td>0.036819</td>\n",
       "      <td>-0.019092</td>\n",
       "      <td>0.036810</td>\n",
       "      <td>0.001329</td>\n",
       "      <td>0.003807</td>\n",
       "      <td>0.005089</td>\n",
       "      <td>0.007393</td>\n",
       "      <td>-0.033977</td>\n",
       "      <td>-0.012216</td>\n",
       "      <td>...</td>\n",
       "      <td>0.010186</td>\n",
       "      <td>0.029826</td>\n",
       "      <td>0.004925</td>\n",
       "      <td>0.040582</td>\n",
       "      <td>-0.005961</td>\n",
       "      <td>0.010778</td>\n",
       "      <td>0.011626</td>\n",
       "      <td>0.408368</td>\n",
       "      <td>-0.020795</td>\n",
       "      <td>-0.019338</td>\n",
       "    </tr>\n",
       "    <tr>\n",
       "      <th>Towing_and_Articulation</th>\n",
       "      <td>-0.052691</td>\n",
       "      <td>0.028690</td>\n",
       "      <td>-0.052100</td>\n",
       "      <td>0.028838</td>\n",
       "      <td>0.046817</td>\n",
       "      <td>-0.032667</td>\n",
       "      <td>0.004743</td>\n",
       "      <td>0.050373</td>\n",
       "      <td>-0.048990</td>\n",
       "      <td>-0.001818</td>\n",
       "      <td>...</td>\n",
       "      <td>-0.009160</td>\n",
       "      <td>0.039893</td>\n",
       "      <td>-0.030076</td>\n",
       "      <td>-0.015185</td>\n",
       "      <td>0.001484</td>\n",
       "      <td>-0.003013</td>\n",
       "      <td>-0.031180</td>\n",
       "      <td>0.049143</td>\n",
       "      <td>0.013565</td>\n",
       "      <td>0.007047</td>\n",
       "    </tr>\n",
       "    <tr>\n",
       "      <th>Vehicle_Manoeuvre</th>\n",
       "      <td>-0.073257</td>\n",
       "      <td>0.040155</td>\n",
       "      <td>-0.071798</td>\n",
       "      <td>0.040328</td>\n",
       "      <td>0.092019</td>\n",
       "      <td>-0.085880</td>\n",
       "      <td>-0.005542</td>\n",
       "      <td>0.098250</td>\n",
       "      <td>-0.030189</td>\n",
       "      <td>0.020143</td>\n",
       "      <td>...</td>\n",
       "      <td>-0.042996</td>\n",
       "      <td>-0.070756</td>\n",
       "      <td>-0.078042</td>\n",
       "      <td>-0.033927</td>\n",
       "      <td>0.006970</td>\n",
       "      <td>-0.051770</td>\n",
       "      <td>-0.031911</td>\n",
       "      <td>0.036158</td>\n",
       "      <td>0.013716</td>\n",
       "      <td>-0.020302</td>\n",
       "    </tr>\n",
       "    <tr>\n",
       "      <th>Vehicle_Location-Restricted_Lane</th>\n",
       "      <td>-0.000123</td>\n",
       "      <td>0.007421</td>\n",
       "      <td>0.000106</td>\n",
       "      <td>0.007439</td>\n",
       "      <td>-0.004022</td>\n",
       "      <td>-0.011615</td>\n",
       "      <td>0.000759</td>\n",
       "      <td>-0.003423</td>\n",
       "      <td>0.040899</td>\n",
       "      <td>-0.002518</td>\n",
       "      <td>...</td>\n",
       "      <td>0.006007</td>\n",
       "      <td>0.006141</td>\n",
       "      <td>-0.015604</td>\n",
       "      <td>0.180787</td>\n",
       "      <td>-0.013320</td>\n",
       "      <td>0.005830</td>\n",
       "      <td>0.036195</td>\n",
       "      <td>-0.042727</td>\n",
       "      <td>-0.014373</td>\n",
       "      <td>-0.011509</td>\n",
       "    </tr>\n",
       "    <tr>\n",
       "      <th>Junction_Location</th>\n",
       "      <td>-0.021629</td>\n",
       "      <td>0.005209</td>\n",
       "      <td>-0.020954</td>\n",
       "      <td>0.005795</td>\n",
       "      <td>-0.017894</td>\n",
       "      <td>0.025888</td>\n",
       "      <td>0.005593</td>\n",
       "      <td>-0.013858</td>\n",
       "      <td>0.014759</td>\n",
       "      <td>0.075241</td>\n",
       "      <td>...</td>\n",
       "      <td>-0.008442</td>\n",
       "      <td>0.034633</td>\n",
       "      <td>0.025124</td>\n",
       "      <td>-0.092467</td>\n",
       "      <td>0.006979</td>\n",
       "      <td>-0.014411</td>\n",
       "      <td>-0.036046</td>\n",
       "      <td>-0.023262</td>\n",
       "      <td>0.002946</td>\n",
       "      <td>0.030045</td>\n",
       "    </tr>\n",
       "    <tr>\n",
       "      <th>Skidding_and_Overturning</th>\n",
       "      <td>-0.054581</td>\n",
       "      <td>0.017632</td>\n",
       "      <td>-0.053897</td>\n",
       "      <td>0.017622</td>\n",
       "      <td>0.087193</td>\n",
       "      <td>-0.068512</td>\n",
       "      <td>-0.013400</td>\n",
       "      <td>0.089865</td>\n",
       "      <td>-0.033767</td>\n",
       "      <td>0.005462</td>\n",
       "      <td>...</td>\n",
       "      <td>-0.041958</td>\n",
       "      <td>-0.011545</td>\n",
       "      <td>-0.055558</td>\n",
       "      <td>-0.093410</td>\n",
       "      <td>0.010836</td>\n",
       "      <td>-0.034335</td>\n",
       "      <td>-0.063881</td>\n",
       "      <td>0.101491</td>\n",
       "      <td>0.041772</td>\n",
       "      <td>0.011374</td>\n",
       "    </tr>\n",
       "    <tr>\n",
       "      <th>Vehicle_Leaving_Carriageway</th>\n",
       "      <td>-0.055325</td>\n",
       "      <td>0.022311</td>\n",
       "      <td>-0.054195</td>\n",
       "      <td>0.022367</td>\n",
       "      <td>0.081839</td>\n",
       "      <td>-0.093347</td>\n",
       "      <td>-0.012541</td>\n",
       "      <td>0.085122</td>\n",
       "      <td>-0.028087</td>\n",
       "      <td>0.013448</td>\n",
       "      <td>...</td>\n",
       "      <td>-0.027708</td>\n",
       "      <td>0.002617</td>\n",
       "      <td>-0.076594</td>\n",
       "      <td>-0.072808</td>\n",
       "      <td>0.026069</td>\n",
       "      <td>-0.034030</td>\n",
       "      <td>-0.054981</td>\n",
       "      <td>0.097569</td>\n",
       "      <td>0.050514</td>\n",
       "      <td>0.011800</td>\n",
       "    </tr>\n",
       "    <tr>\n",
       "      <th>1st_Point_of_Impact</th>\n",
       "      <td>-0.026842</td>\n",
       "      <td>0.014198</td>\n",
       "      <td>-0.026132</td>\n",
       "      <td>0.014420</td>\n",
       "      <td>0.025121</td>\n",
       "      <td>-0.005885</td>\n",
       "      <td>-0.008550</td>\n",
       "      <td>0.029017</td>\n",
       "      <td>0.011726</td>\n",
       "      <td>0.018435</td>\n",
       "      <td>...</td>\n",
       "      <td>-0.037650</td>\n",
       "      <td>-0.019362</td>\n",
       "      <td>-0.009334</td>\n",
       "      <td>0.023059</td>\n",
       "      <td>-0.013203</td>\n",
       "      <td>-0.118749</td>\n",
       "      <td>-0.028923</td>\n",
       "      <td>-0.052236</td>\n",
       "      <td>0.007538</td>\n",
       "      <td>0.013779</td>\n",
       "    </tr>\n",
       "    <tr>\n",
       "      <th>Was_Vehicle_Left_Hand_Drive?</th>\n",
       "      <td>-0.116628</td>\n",
       "      <td>0.075673</td>\n",
       "      <td>-0.114035</td>\n",
       "      <td>0.076220</td>\n",
       "      <td>0.155378</td>\n",
       "      <td>-0.044663</td>\n",
       "      <td>0.002974</td>\n",
       "      <td>0.165358</td>\n",
       "      <td>0.006743</td>\n",
       "      <td>0.025590</td>\n",
       "      <td>...</td>\n",
       "      <td>-0.001231</td>\n",
       "      <td>0.020869</td>\n",
       "      <td>-0.040988</td>\n",
       "      <td>-0.055030</td>\n",
       "      <td>0.020037</td>\n",
       "      <td>0.009980</td>\n",
       "      <td>-0.103640</td>\n",
       "      <td>-0.007413</td>\n",
       "      <td>-0.004566</td>\n",
       "      <td>-0.007540</td>\n",
       "    </tr>\n",
       "    <tr>\n",
       "      <th>Journey_Purpose_of_Driver</th>\n",
       "      <td>-0.033070</td>\n",
       "      <td>0.014879</td>\n",
       "      <td>-0.032706</td>\n",
       "      <td>0.014928</td>\n",
       "      <td>0.018168</td>\n",
       "      <td>-0.001987</td>\n",
       "      <td>-0.009688</td>\n",
       "      <td>0.023523</td>\n",
       "      <td>0.069859</td>\n",
       "      <td>0.005792</td>\n",
       "      <td>...</td>\n",
       "      <td>0.019136</td>\n",
       "      <td>-0.014053</td>\n",
       "      <td>-0.000453</td>\n",
       "      <td>0.018327</td>\n",
       "      <td>0.035239</td>\n",
       "      <td>-0.139571</td>\n",
       "      <td>-0.001975</td>\n",
       "      <td>-0.040320</td>\n",
       "      <td>0.010879</td>\n",
       "      <td>-0.004023</td>\n",
       "    </tr>\n",
       "    <tr>\n",
       "      <th>Sex_of_Driver</th>\n",
       "      <td>-0.018839</td>\n",
       "      <td>0.016657</td>\n",
       "      <td>-0.018557</td>\n",
       "      <td>0.016794</td>\n",
       "      <td>-0.010330</td>\n",
       "      <td>0.073721</td>\n",
       "      <td>-0.006367</td>\n",
       "      <td>-0.004606</td>\n",
       "      <td>0.066051</td>\n",
       "      <td>-0.000581</td>\n",
       "      <td>...</td>\n",
       "      <td>0.281561</td>\n",
       "      <td>-0.033444</td>\n",
       "      <td>0.065634</td>\n",
       "      <td>0.121710</td>\n",
       "      <td>-0.011181</td>\n",
       "      <td>-0.021724</td>\n",
       "      <td>0.063463</td>\n",
       "      <td>-0.058362</td>\n",
       "      <td>0.002462</td>\n",
       "      <td>-0.002572</td>\n",
       "    </tr>\n",
       "    <tr>\n",
       "      <th>Age_of_Driver</th>\n",
       "      <td>-0.007310</td>\n",
       "      <td>-0.014450</td>\n",
       "      <td>-0.007454</td>\n",
       "      <td>-0.014614</td>\n",
       "      <td>0.042848</td>\n",
       "      <td>-0.059835</td>\n",
       "      <td>0.001513</td>\n",
       "      <td>0.036018</td>\n",
       "      <td>-0.064017</td>\n",
       "      <td>-0.006488</td>\n",
       "      <td>...</td>\n",
       "      <td>0.016264</td>\n",
       "      <td>0.392499</td>\n",
       "      <td>-0.055950</td>\n",
       "      <td>-0.069049</td>\n",
       "      <td>-0.016480</td>\n",
       "      <td>0.015276</td>\n",
       "      <td>-0.059237</td>\n",
       "      <td>0.030628</td>\n",
       "      <td>0.041733</td>\n",
       "      <td>0.063587</td>\n",
       "    </tr>\n",
       "    <tr>\n",
       "      <th>Age_Band_of_Driver</th>\n",
       "      <td>0.002015</td>\n",
       "      <td>-0.023490</td>\n",
       "      <td>0.001756</td>\n",
       "      <td>-0.023704</td>\n",
       "      <td>0.041930</td>\n",
       "      <td>-0.065622</td>\n",
       "      <td>0.002464</td>\n",
       "      <td>0.033405</td>\n",
       "      <td>-0.078399</td>\n",
       "      <td>-0.009848</td>\n",
       "      <td>...</td>\n",
       "      <td>0.006470</td>\n",
       "      <td>0.308561</td>\n",
       "      <td>-0.059252</td>\n",
       "      <td>-0.110365</td>\n",
       "      <td>-0.013902</td>\n",
       "      <td>0.008524</td>\n",
       "      <td>-0.083360</td>\n",
       "      <td>0.048161</td>\n",
       "      <td>0.039178</td>\n",
       "      <td>0.054858</td>\n",
       "    </tr>\n",
       "    <tr>\n",
       "      <th>Engine_Capacity_(CC)</th>\n",
       "      <td>0.033700</td>\n",
       "      <td>0.007190</td>\n",
       "      <td>0.034643</td>\n",
       "      <td>0.007261</td>\n",
       "      <td>-0.028006</td>\n",
       "      <td>-0.002406</td>\n",
       "      <td>0.010872</td>\n",
       "      <td>-0.028849</td>\n",
       "      <td>-0.098632</td>\n",
       "      <td>-0.015227</td>\n",
       "      <td>...</td>\n",
       "      <td>0.044661</td>\n",
       "      <td>0.079087</td>\n",
       "      <td>0.006417</td>\n",
       "      <td>-0.022050</td>\n",
       "      <td>0.017053</td>\n",
       "      <td>0.225283</td>\n",
       "      <td>-0.002594</td>\n",
       "      <td>0.084397</td>\n",
       "      <td>0.018570</td>\n",
       "      <td>0.013835</td>\n",
       "    </tr>\n",
       "    <tr>\n",
       "      <th>Propulsion_Code</th>\n",
       "      <td>0.057882</td>\n",
       "      <td>-0.024989</td>\n",
       "      <td>0.058637</td>\n",
       "      <td>-0.024968</td>\n",
       "      <td>-0.045753</td>\n",
       "      <td>0.013973</td>\n",
       "      <td>0.010327</td>\n",
       "      <td>-0.049035</td>\n",
       "      <td>-0.058444</td>\n",
       "      <td>-0.005053</td>\n",
       "      <td>...</td>\n",
       "      <td>0.033138</td>\n",
       "      <td>0.038065</td>\n",
       "      <td>0.023391</td>\n",
       "      <td>-0.053898</td>\n",
       "      <td>0.053230</td>\n",
       "      <td>0.027675</td>\n",
       "      <td>0.000741</td>\n",
       "      <td>0.025966</td>\n",
       "      <td>0.047536</td>\n",
       "      <td>0.028500</td>\n",
       "    </tr>\n",
       "    <tr>\n",
       "      <th>Vehicle_Reference_y</th>\n",
       "      <td>-0.040451</td>\n",
       "      <td>0.039022</td>\n",
       "      <td>-0.039908</td>\n",
       "      <td>0.039268</td>\n",
       "      <td>-0.001833</td>\n",
       "      <td>0.088986</td>\n",
       "      <td>0.001322</td>\n",
       "      <td>0.003581</td>\n",
       "      <td>-0.055089</td>\n",
       "      <td>0.020490</td>\n",
       "      <td>...</td>\n",
       "      <td>-0.008737</td>\n",
       "      <td>0.022521</td>\n",
       "      <td>0.074185</td>\n",
       "      <td>-0.192789</td>\n",
       "      <td>0.012387</td>\n",
       "      <td>-0.032441</td>\n",
       "      <td>-0.112973</td>\n",
       "      <td>0.024192</td>\n",
       "      <td>-0.005449</td>\n",
       "      <td>0.017446</td>\n",
       "    </tr>\n",
       "    <tr>\n",
       "      <th>Casualty_Reference</th>\n",
       "      <td>-0.098118</td>\n",
       "      <td>-0.029121</td>\n",
       "      <td>-0.097016</td>\n",
       "      <td>-0.029208</td>\n",
       "      <td>0.101983</td>\n",
       "      <td>-0.001862</td>\n",
       "      <td>-0.002094</td>\n",
       "      <td>0.109724</td>\n",
       "      <td>-0.031396</td>\n",
       "      <td>0.019628</td>\n",
       "      <td>...</td>\n",
       "      <td>0.029172</td>\n",
       "      <td>0.002054</td>\n",
       "      <td>0.023729</td>\n",
       "      <td>-0.035186</td>\n",
       "      <td>0.128483</td>\n",
       "      <td>0.000071</td>\n",
       "      <td>-0.021885</td>\n",
       "      <td>0.042749</td>\n",
       "      <td>0.007324</td>\n",
       "      <td>-0.062984</td>\n",
       "    </tr>\n",
       "    <tr>\n",
       "      <th>Sex_of_Casualty</th>\n",
       "      <td>-0.012766</td>\n",
       "      <td>0.007817</td>\n",
       "      <td>-0.012330</td>\n",
       "      <td>0.007817</td>\n",
       "      <td>0.019806</td>\n",
       "      <td>0.112132</td>\n",
       "      <td>-0.000550</td>\n",
       "      <td>0.022025</td>\n",
       "      <td>0.002614</td>\n",
       "      <td>-0.004051</td>\n",
       "      <td>...</td>\n",
       "      <td>1.000000</td>\n",
       "      <td>0.049738</td>\n",
       "      <td>0.109922</td>\n",
       "      <td>0.038540</td>\n",
       "      <td>0.145597</td>\n",
       "      <td>0.081783</td>\n",
       "      <td>0.026198</td>\n",
       "      <td>0.028151</td>\n",
       "      <td>0.026830</td>\n",
       "      <td>0.022205</td>\n",
       "    </tr>\n",
       "    <tr>\n",
       "      <th>Age_of_Casualty</th>\n",
       "      <td>-0.019316</td>\n",
       "      <td>-0.000980</td>\n",
       "      <td>-0.019447</td>\n",
       "      <td>-0.001011</td>\n",
       "      <td>0.029351</td>\n",
       "      <td>-0.065106</td>\n",
       "      <td>0.008254</td>\n",
       "      <td>0.028188</td>\n",
       "      <td>-0.073785</td>\n",
       "      <td>0.006964</td>\n",
       "      <td>...</td>\n",
       "      <td>0.049738</td>\n",
       "      <td>1.000000</td>\n",
       "      <td>-0.064214</td>\n",
       "      <td>-0.025588</td>\n",
       "      <td>-0.093660</td>\n",
       "      <td>0.054629</td>\n",
       "      <td>-0.015486</td>\n",
       "      <td>0.069532</td>\n",
       "      <td>0.067275</td>\n",
       "      <td>0.106596</td>\n",
       "    </tr>\n",
       "    <tr>\n",
       "      <th>Casualty_Severity</th>\n",
       "      <td>0.028160</td>\n",
       "      <td>-0.025557</td>\n",
       "      <td>0.027515</td>\n",
       "      <td>-0.025607</td>\n",
       "      <td>-0.021743</td>\n",
       "      <td>0.943732</td>\n",
       "      <td>0.004953</td>\n",
       "      <td>-0.024869</td>\n",
       "      <td>0.003253</td>\n",
       "      <td>-0.010115</td>\n",
       "      <td>...</td>\n",
       "      <td>0.109922</td>\n",
       "      <td>-0.064214</td>\n",
       "      <td>1.000000</td>\n",
       "      <td>-0.071240</td>\n",
       "      <td>0.054282</td>\n",
       "      <td>0.028873</td>\n",
       "      <td>-0.023023</td>\n",
       "      <td>0.070107</td>\n",
       "      <td>-0.003779</td>\n",
       "      <td>-0.000270</td>\n",
       "    </tr>\n",
       "    <tr>\n",
       "      <th>Pedestrian_Movement</th>\n",
       "      <td>0.007720</td>\n",
       "      <td>0.014692</td>\n",
       "      <td>0.007507</td>\n",
       "      <td>0.014655</td>\n",
       "      <td>-0.052980</td>\n",
       "      <td>-0.054771</td>\n",
       "      <td>0.008039</td>\n",
       "      <td>-0.051188</td>\n",
       "      <td>0.150018</td>\n",
       "      <td>-0.026223</td>\n",
       "      <td>...</td>\n",
       "      <td>0.038540</td>\n",
       "      <td>-0.025588</td>\n",
       "      <td>-0.071240</td>\n",
       "      <td>1.000000</td>\n",
       "      <td>-0.095329</td>\n",
       "      <td>-0.042378</td>\n",
       "      <td>0.341822</td>\n",
       "      <td>-0.270177</td>\n",
       "      <td>-0.047299</td>\n",
       "      <td>-0.053423</td>\n",
       "    </tr>\n",
       "    <tr>\n",
       "      <th>Car_Passenger</th>\n",
       "      <td>-0.027198</td>\n",
       "      <td>0.023175</td>\n",
       "      <td>-0.026621</td>\n",
       "      <td>0.023177</td>\n",
       "      <td>0.008314</td>\n",
       "      <td>0.049107</td>\n",
       "      <td>-0.000352</td>\n",
       "      <td>0.011930</td>\n",
       "      <td>-0.026514</td>\n",
       "      <td>-0.002014</td>\n",
       "      <td>...</td>\n",
       "      <td>0.145597</td>\n",
       "      <td>-0.093660</td>\n",
       "      <td>0.054282</td>\n",
       "      <td>-0.095329</td>\n",
       "      <td>1.000000</td>\n",
       "      <td>-0.028645</td>\n",
       "      <td>-0.053363</td>\n",
       "      <td>0.080611</td>\n",
       "      <td>-0.017009</td>\n",
       "      <td>-0.038752</td>\n",
       "    </tr>\n",
       "    <tr>\n",
       "      <th>Bus_or_Coach_Passenger</th>\n",
       "      <td>0.040760</td>\n",
       "      <td>0.025929</td>\n",
       "      <td>0.041093</td>\n",
       "      <td>0.025745</td>\n",
       "      <td>-0.053849</td>\n",
       "      <td>0.030495</td>\n",
       "      <td>0.013348</td>\n",
       "      <td>-0.055914</td>\n",
       "      <td>0.001204</td>\n",
       "      <td>-0.011173</td>\n",
       "      <td>...</td>\n",
       "      <td>0.081783</td>\n",
       "      <td>0.054629</td>\n",
       "      <td>0.028873</td>\n",
       "      <td>-0.042378</td>\n",
       "      <td>-0.028645</td>\n",
       "      <td>1.000000</td>\n",
       "      <td>-0.023722</td>\n",
       "      <td>0.064544</td>\n",
       "      <td>-0.031188</td>\n",
       "      <td>-0.031881</td>\n",
       "    </tr>\n",
       "    <tr>\n",
       "      <th>Pedestrian_Road_Maintenance_Worker</th>\n",
       "      <td>0.160005</td>\n",
       "      <td>-0.125836</td>\n",
       "      <td>0.157183</td>\n",
       "      <td>-0.126403</td>\n",
       "      <td>-0.161924</td>\n",
       "      <td>-0.014079</td>\n",
       "      <td>0.006473</td>\n",
       "      <td>-0.164828</td>\n",
       "      <td>0.021681</td>\n",
       "      <td>-0.037456</td>\n",
       "      <td>...</td>\n",
       "      <td>0.026198</td>\n",
       "      <td>-0.015486</td>\n",
       "      <td>-0.023023</td>\n",
       "      <td>0.341822</td>\n",
       "      <td>-0.053363</td>\n",
       "      <td>-0.023722</td>\n",
       "      <td>1.000000</td>\n",
       "      <td>-0.151240</td>\n",
       "      <td>-0.047773</td>\n",
       "      <td>-0.032280</td>\n",
       "    </tr>\n",
       "    <tr>\n",
       "      <th>Casualty_Type</th>\n",
       "      <td>-0.025159</td>\n",
       "      <td>0.027433</td>\n",
       "      <td>-0.024553</td>\n",
       "      <td>0.027422</td>\n",
       "      <td>0.033228</td>\n",
       "      <td>0.049120</td>\n",
       "      <td>0.001164</td>\n",
       "      <td>0.037507</td>\n",
       "      <td>-0.097890</td>\n",
       "      <td>-0.004004</td>\n",
       "      <td>...</td>\n",
       "      <td>0.028151</td>\n",
       "      <td>0.069532</td>\n",
       "      <td>0.070107</td>\n",
       "      <td>-0.270177</td>\n",
       "      <td>0.080611</td>\n",
       "      <td>0.064544</td>\n",
       "      <td>-0.151240</td>\n",
       "      <td>1.000000</td>\n",
       "      <td>0.009008</td>\n",
       "      <td>-0.004510</td>\n",
       "    </tr>\n",
       "    <tr>\n",
       "      <th>Casualty_Home_Area_Type</th>\n",
       "      <td>-0.016954</td>\n",
       "      <td>-0.071216</td>\n",
       "      <td>-0.016842</td>\n",
       "      <td>-0.071478</td>\n",
       "      <td>0.080237</td>\n",
       "      <td>-0.007845</td>\n",
       "      <td>-0.006140</td>\n",
       "      <td>0.065656</td>\n",
       "      <td>-0.052013</td>\n",
       "      <td>0.018923</td>\n",
       "      <td>...</td>\n",
       "      <td>0.026830</td>\n",
       "      <td>0.067275</td>\n",
       "      <td>-0.003779</td>\n",
       "      <td>-0.047299</td>\n",
       "      <td>-0.017009</td>\n",
       "      <td>-0.031188</td>\n",
       "      <td>-0.047773</td>\n",
       "      <td>0.009008</td>\n",
       "      <td>1.000000</td>\n",
       "      <td>0.617847</td>\n",
       "    </tr>\n",
       "    <tr>\n",
       "      <th>Casualty_IMD_Decile</th>\n",
       "      <td>0.196029</td>\n",
       "      <td>-0.104991</td>\n",
       "      <td>0.193595</td>\n",
       "      <td>-0.104556</td>\n",
       "      <td>-0.013107</td>\n",
       "      <td>-0.001747</td>\n",
       "      <td>-0.002873</td>\n",
       "      <td>-0.046246</td>\n",
       "      <td>-0.056123</td>\n",
       "      <td>0.004248</td>\n",
       "      <td>...</td>\n",
       "      <td>0.022205</td>\n",
       "      <td>0.106596</td>\n",
       "      <td>-0.000270</td>\n",
       "      <td>-0.053423</td>\n",
       "      <td>-0.038752</td>\n",
       "      <td>-0.031881</td>\n",
       "      <td>-0.032280</td>\n",
       "      <td>-0.004510</td>\n",
       "      <td>0.617847</td>\n",
       "      <td>1.000000</td>\n",
       "    </tr>\n",
       "  </tbody>\n",
       "</table>\n",
       "<p>45 rows × 45 columns</p>\n",
       "</div>"
      ],
      "text/plain": [
       "                                    Location_Easting_OSGR  \\\n",
       "Location_Easting_OSGR                            1.000000   \n",
       "Location_Northing_OSGR                          -0.313166   \n",
       "Longitude                                        0.999709   \n",
       "Latitude                                        -0.315309   \n",
       "Police_Force                                    -0.117692   \n",
       "Accident_Severity                                0.030922   \n",
       "Day_of_Week                                      0.006502   \n",
       "Local_Authority_(District)                      -0.195675   \n",
       "1st_Road_Class                                  -0.007854   \n",
       "1st_Road_Number                                 -0.124575   \n",
       "Road_Type                                       -0.013112   \n",
       "Speed_limit                                     -0.070765   \n",
       "Junction_Detail                                 -0.001121   \n",
       "2nd_Road_Class                                   0.023077   \n",
       "2nd_Road_Number                                 -0.017975   \n",
       "Pedestrian_Crossing-Human_Control               -0.060402   \n",
       "Urban_or_Rural_Area                             -0.100822   \n",
       "Vehicle_Reference_x                             -0.002083   \n",
       "Vehicle_Type                                    -0.019571   \n",
       "Towing_and_Articulation                         -0.052691   \n",
       "Vehicle_Manoeuvre                               -0.073257   \n",
       "Vehicle_Location-Restricted_Lane                -0.000123   \n",
       "Junction_Location                               -0.021629   \n",
       "Skidding_and_Overturning                        -0.054581   \n",
       "Vehicle_Leaving_Carriageway                     -0.055325   \n",
       "1st_Point_of_Impact                             -0.026842   \n",
       "Was_Vehicle_Left_Hand_Drive?                    -0.116628   \n",
       "Journey_Purpose_of_Driver                       -0.033070   \n",
       "Sex_of_Driver                                   -0.018839   \n",
       "Age_of_Driver                                   -0.007310   \n",
       "Age_Band_of_Driver                               0.002015   \n",
       "Engine_Capacity_(CC)                             0.033700   \n",
       "Propulsion_Code                                  0.057882   \n",
       "Vehicle_Reference_y                             -0.040451   \n",
       "Casualty_Reference                              -0.098118   \n",
       "Sex_of_Casualty                                 -0.012766   \n",
       "Age_of_Casualty                                 -0.019316   \n",
       "Casualty_Severity                                0.028160   \n",
       "Pedestrian_Movement                              0.007720   \n",
       "Car_Passenger                                   -0.027198   \n",
       "Bus_or_Coach_Passenger                           0.040760   \n",
       "Pedestrian_Road_Maintenance_Worker               0.160005   \n",
       "Casualty_Type                                   -0.025159   \n",
       "Casualty_Home_Area_Type                         -0.016954   \n",
       "Casualty_IMD_Decile                              0.196029   \n",
       "\n",
       "                                    Location_Northing_OSGR  Longitude  \\\n",
       "Location_Easting_OSGR                            -0.313166   0.999709   \n",
       "Location_Northing_OSGR                            1.000000  -0.303001   \n",
       "Longitude                                        -0.303001   1.000000   \n",
       "Latitude                                          0.999984  -0.305129   \n",
       "Police_Force                                     -0.534660  -0.115998   \n",
       "Accident_Severity                                -0.029037   0.030153   \n",
       "Day_of_Week                                       0.000256   0.006477   \n",
       "Local_Authority_(District)                       -0.476024  -0.192779   \n",
       "1st_Road_Class                                    0.041955  -0.007120   \n",
       "1st_Road_Number                                   0.029915  -0.123845   \n",
       "Road_Type                                         0.008189  -0.013128   \n",
       "Speed_limit                                       0.019746  -0.068966   \n",
       "Junction_Detail                                  -0.013528  -0.002124   \n",
       "2nd_Road_Class                                   -0.018447   0.022943   \n",
       "2nd_Road_Number                                   0.010676  -0.017576   \n",
       "Pedestrian_Crossing-Human_Control                 0.045514  -0.059823   \n",
       "Urban_or_Rural_Area                               0.022218  -0.099302   \n",
       "Vehicle_Reference_x                               0.000487  -0.002068   \n",
       "Vehicle_Type                                      0.036819  -0.019092   \n",
       "Towing_and_Articulation                           0.028690  -0.052100   \n",
       "Vehicle_Manoeuvre                                 0.040155  -0.071798   \n",
       "Vehicle_Location-Restricted_Lane                  0.007421   0.000106   \n",
       "Junction_Location                                 0.005209  -0.020954   \n",
       "Skidding_and_Overturning                          0.017632  -0.053897   \n",
       "Vehicle_Leaving_Carriageway                       0.022311  -0.054195   \n",
       "1st_Point_of_Impact                               0.014198  -0.026132   \n",
       "Was_Vehicle_Left_Hand_Drive?                      0.075673  -0.114035   \n",
       "Journey_Purpose_of_Driver                         0.014879  -0.032706   \n",
       "Sex_of_Driver                                     0.016657  -0.018557   \n",
       "Age_of_Driver                                    -0.014450  -0.007454   \n",
       "Age_Band_of_Driver                               -0.023490   0.001756   \n",
       "Engine_Capacity_(CC)                              0.007190   0.034643   \n",
       "Propulsion_Code                                  -0.024989   0.058637   \n",
       "Vehicle_Reference_y                               0.039022  -0.039908   \n",
       "Casualty_Reference                               -0.029121  -0.097016   \n",
       "Sex_of_Casualty                                   0.007817  -0.012330   \n",
       "Age_of_Casualty                                  -0.000980  -0.019447   \n",
       "Casualty_Severity                                -0.025557   0.027515   \n",
       "Pedestrian_Movement                               0.014692   0.007507   \n",
       "Car_Passenger                                     0.023175  -0.026621   \n",
       "Bus_or_Coach_Passenger                            0.025929   0.041093   \n",
       "Pedestrian_Road_Maintenance_Worker               -0.125836   0.157183   \n",
       "Casualty_Type                                     0.027433  -0.024553   \n",
       "Casualty_Home_Area_Type                          -0.071216  -0.016842   \n",
       "Casualty_IMD_Decile                              -0.104991   0.193595   \n",
       "\n",
       "                                    Latitude  Police_Force  Accident_Severity  \\\n",
       "Location_Easting_OSGR              -0.315309     -0.117692           0.030922   \n",
       "Location_Northing_OSGR              0.999984     -0.534660          -0.029037   \n",
       "Longitude                          -0.305129     -0.115998           0.030153   \n",
       "Latitude                            1.000000     -0.534206          -0.029091   \n",
       "Police_Force                       -0.534206      1.000000          -0.025607   \n",
       "Accident_Severity                  -0.029091     -0.025607           1.000000   \n",
       "Day_of_Week                         0.000252     -0.009248           0.006359   \n",
       "Local_Authority_(District)         -0.475382      0.975865          -0.029230   \n",
       "1st_Road_Class                      0.041894      0.009389           0.014098   \n",
       "1st_Road_Number                     0.030617      0.043670          -0.010956   \n",
       "Road_Type                           0.008045      0.010013          -0.037411   \n",
       "Speed_limit                         0.019849      0.201141          -0.083726   \n",
       "Junction_Detail                    -0.013490     -0.083695           0.036043   \n",
       "2nd_Road_Class                     -0.018317     -0.068192           0.052621   \n",
       "2nd_Road_Number                     0.011052      0.015931           0.024648   \n",
       "Pedestrian_Crossing-Human_Control   0.045708      0.042924          -0.014730   \n",
       "Urban_or_Rural_Area                 0.022049      0.240437          -0.084542   \n",
       "Vehicle_Reference_x                 0.000506     -0.001001           0.001581   \n",
       "Vehicle_Type                        0.036810      0.001329           0.003807   \n",
       "Towing_and_Articulation             0.028838      0.046817          -0.032667   \n",
       "Vehicle_Manoeuvre                   0.040328      0.092019          -0.085880   \n",
       "Vehicle_Location-Restricted_Lane    0.007439     -0.004022          -0.011615   \n",
       "Junction_Location                   0.005795     -0.017894           0.025888   \n",
       "Skidding_and_Overturning            0.017622      0.087193          -0.068512   \n",
       "Vehicle_Leaving_Carriageway         0.022367      0.081839          -0.093347   \n",
       "1st_Point_of_Impact                 0.014420      0.025121          -0.005885   \n",
       "Was_Vehicle_Left_Hand_Drive?        0.076220      0.155378          -0.044663   \n",
       "Journey_Purpose_of_Driver           0.014928      0.018168          -0.001987   \n",
       "Sex_of_Driver                       0.016794     -0.010330           0.073721   \n",
       "Age_of_Driver                      -0.014614      0.042848          -0.059835   \n",
       "Age_Band_of_Driver                 -0.023704      0.041930          -0.065622   \n",
       "Engine_Capacity_(CC)                0.007261     -0.028006          -0.002406   \n",
       "Propulsion_Code                    -0.024968     -0.045753           0.013973   \n",
       "Vehicle_Reference_y                 0.039268     -0.001833           0.088986   \n",
       "Casualty_Reference                 -0.029208      0.101983          -0.001862   \n",
       "Sex_of_Casualty                     0.007817      0.019806           0.112132   \n",
       "Age_of_Casualty                    -0.001011      0.029351          -0.065106   \n",
       "Casualty_Severity                  -0.025607     -0.021743           0.943732   \n",
       "Pedestrian_Movement                 0.014655     -0.052980          -0.054771   \n",
       "Car_Passenger                       0.023177      0.008314           0.049107   \n",
       "Bus_or_Coach_Passenger              0.025745     -0.053849           0.030495   \n",
       "Pedestrian_Road_Maintenance_Worker -0.126403     -0.161924          -0.014079   \n",
       "Casualty_Type                       0.027422      0.033228           0.049120   \n",
       "Casualty_Home_Area_Type            -0.071478      0.080237          -0.007845   \n",
       "Casualty_IMD_Decile                -0.104556     -0.013107          -0.001747   \n",
       "\n",
       "                                    Day_of_Week  Local_Authority_(District)  \\\n",
       "Location_Easting_OSGR                  0.006502                   -0.195675   \n",
       "Location_Northing_OSGR                 0.000256                   -0.476024   \n",
       "Longitude                              0.006477                   -0.192779   \n",
       "Latitude                               0.000252                   -0.475382   \n",
       "Police_Force                          -0.009248                    0.975865   \n",
       "Accident_Severity                      0.006359                   -0.029230   \n",
       "Day_of_Week                            1.000000                   -0.009795   \n",
       "Local_Authority_(District)            -0.009795                    1.000000   \n",
       "1st_Road_Class                         0.007239                    0.017186   \n",
       "1st_Road_Number                       -0.001199                    0.050666   \n",
       "Road_Type                              0.003360                    0.009888   \n",
       "Speed_limit                           -0.023778                    0.201238   \n",
       "Junction_Detail                        0.011803                   -0.083309   \n",
       "2nd_Road_Class                         0.008803                   -0.067186   \n",
       "2nd_Road_Number                       -0.000057                    0.013661   \n",
       "Pedestrian_Crossing-Human_Control      0.004529                    0.047573   \n",
       "Urban_or_Rural_Area                   -0.024223                    0.238882   \n",
       "Vehicle_Reference_x                   -0.000321                   -0.000078   \n",
       "Vehicle_Type                           0.005089                    0.007393   \n",
       "Towing_and_Articulation                0.004743                    0.050373   \n",
       "Vehicle_Manoeuvre                     -0.005542                    0.098250   \n",
       "Vehicle_Location-Restricted_Lane       0.000759                   -0.003423   \n",
       "Junction_Location                      0.005593                   -0.013858   \n",
       "Skidding_and_Overturning              -0.013400                    0.089865   \n",
       "Vehicle_Leaving_Carriageway           -0.012541                    0.085122   \n",
       "1st_Point_of_Impact                   -0.008550                    0.029017   \n",
       "Was_Vehicle_Left_Hand_Drive?           0.002974                    0.165358   \n",
       "Journey_Purpose_of_Driver             -0.009688                    0.023523   \n",
       "Sex_of_Driver                         -0.006367                   -0.004606   \n",
       "Age_of_Driver                          0.001513                    0.036018   \n",
       "Age_Band_of_Driver                     0.002464                    0.033405   \n",
       "Engine_Capacity_(CC)                   0.010872                   -0.028849   \n",
       "Propulsion_Code                        0.010327                   -0.049035   \n",
       "Vehicle_Reference_y                    0.001322                    0.003581   \n",
       "Casualty_Reference                    -0.002094                    0.109724   \n",
       "Sex_of_Casualty                       -0.000550                    0.022025   \n",
       "Age_of_Casualty                        0.008254                    0.028188   \n",
       "Casualty_Severity                      0.004953                   -0.024869   \n",
       "Pedestrian_Movement                    0.008039                   -0.051188   \n",
       "Car_Passenger                         -0.000352                    0.011930   \n",
       "Bus_or_Coach_Passenger                 0.013348                   -0.055914   \n",
       "Pedestrian_Road_Maintenance_Worker     0.006473                   -0.164828   \n",
       "Casualty_Type                          0.001164                    0.037507   \n",
       "Casualty_Home_Area_Type               -0.006140                    0.065656   \n",
       "Casualty_IMD_Decile                   -0.002873                   -0.046246   \n",
       "\n",
       "                                    1st_Road_Class  1st_Road_Number  \\\n",
       "Location_Easting_OSGR                    -0.007854        -0.124575   \n",
       "Location_Northing_OSGR                    0.041955         0.029915   \n",
       "Longitude                                -0.007120        -0.123845   \n",
       "Latitude                                  0.041894         0.030617   \n",
       "Police_Force                              0.009389         0.043670   \n",
       "Accident_Severity                         0.014098        -0.010956   \n",
       "Day_of_Week                               0.007239        -0.001199   \n",
       "Local_Authority_(District)                0.017186         0.050666   \n",
       "1st_Road_Class                            1.000000        -0.188794   \n",
       "1st_Road_Number                          -0.188794         1.000000   \n",
       "Road_Type                                 0.305833         0.017095   \n",
       "Speed_limit                              -0.408454        -0.048058   \n",
       "Junction_Detail                           0.038025         0.047355   \n",
       "2nd_Road_Class                            0.082520         0.052582   \n",
       "2nd_Road_Number                          -0.054992         0.188917   \n",
       "Pedestrian_Crossing-Human_Control         0.000894         0.019065   \n",
       "Urban_or_Rural_Area                      -0.243827        -0.013997   \n",
       "Vehicle_Reference_x                      -0.003126        -0.001143   \n",
       "Vehicle_Type                             -0.033977        -0.012216   \n",
       "Towing_and_Articulation                  -0.048990        -0.001818   \n",
       "Vehicle_Manoeuvre                        -0.030189         0.020143   \n",
       "Vehicle_Location-Restricted_Lane          0.040899        -0.002518   \n",
       "Junction_Location                         0.014759         0.075241   \n",
       "Skidding_and_Overturning                 -0.033767         0.005462   \n",
       "Vehicle_Leaving_Carriageway              -0.028087         0.013448   \n",
       "1st_Point_of_Impact                       0.011726         0.018435   \n",
       "Was_Vehicle_Left_Hand_Drive?              0.006743         0.025590   \n",
       "Journey_Purpose_of_Driver                 0.069859         0.005792   \n",
       "Sex_of_Driver                             0.066051        -0.000581   \n",
       "Age_of_Driver                            -0.064017        -0.006488   \n",
       "Age_Band_of_Driver                       -0.078399        -0.009848   \n",
       "Engine_Capacity_(CC)                     -0.098632        -0.015227   \n",
       "Propulsion_Code                          -0.058444        -0.005053   \n",
       "Vehicle_Reference_y                      -0.055089         0.020490   \n",
       "Casualty_Reference                       -0.031396         0.019628   \n",
       "Sex_of_Casualty                           0.002614        -0.004051   \n",
       "Age_of_Casualty                          -0.073785         0.006964   \n",
       "Casualty_Severity                         0.003253        -0.010115   \n",
       "Pedestrian_Movement                       0.150018        -0.026223   \n",
       "Car_Passenger                            -0.026514        -0.002014   \n",
       "Bus_or_Coach_Passenger                    0.001204        -0.011173   \n",
       "Pedestrian_Road_Maintenance_Worker        0.021681        -0.037456   \n",
       "Casualty_Type                            -0.097890        -0.004004   \n",
       "Casualty_Home_Area_Type                  -0.052013         0.018923   \n",
       "Casualty_IMD_Decile                      -0.056123         0.004248   \n",
       "\n",
       "                                           ...           Sex_of_Casualty  \\\n",
       "Location_Easting_OSGR                      ...                 -0.012766   \n",
       "Location_Northing_OSGR                     ...                  0.007817   \n",
       "Longitude                                  ...                 -0.012330   \n",
       "Latitude                                   ...                  0.007817   \n",
       "Police_Force                               ...                  0.019806   \n",
       "Accident_Severity                          ...                  0.112132   \n",
       "Day_of_Week                                ...                 -0.000550   \n",
       "Local_Authority_(District)                 ...                  0.022025   \n",
       "1st_Road_Class                             ...                  0.002614   \n",
       "1st_Road_Number                            ...                 -0.004051   \n",
       "Road_Type                                  ...                 -0.003217   \n",
       "Speed_limit                                ...                  0.001471   \n",
       "Junction_Detail                            ...                  0.005789   \n",
       "2nd_Road_Class                             ...                  0.000952   \n",
       "2nd_Road_Number                            ...                  0.010229   \n",
       "Pedestrian_Crossing-Human_Control          ...                  0.005971   \n",
       "Urban_or_Rural_Area                        ...                  0.001832   \n",
       "Vehicle_Reference_x                        ...                  0.004371   \n",
       "Vehicle_Type                               ...                  0.010186   \n",
       "Towing_and_Articulation                    ...                 -0.009160   \n",
       "Vehicle_Manoeuvre                          ...                 -0.042996   \n",
       "Vehicle_Location-Restricted_Lane           ...                  0.006007   \n",
       "Junction_Location                          ...                 -0.008442   \n",
       "Skidding_and_Overturning                   ...                 -0.041958   \n",
       "Vehicle_Leaving_Carriageway                ...                 -0.027708   \n",
       "1st_Point_of_Impact                        ...                 -0.037650   \n",
       "Was_Vehicle_Left_Hand_Drive?               ...                 -0.001231   \n",
       "Journey_Purpose_of_Driver                  ...                  0.019136   \n",
       "Sex_of_Driver                              ...                  0.281561   \n",
       "Age_of_Driver                              ...                  0.016264   \n",
       "Age_Band_of_Driver                         ...                  0.006470   \n",
       "Engine_Capacity_(CC)                       ...                  0.044661   \n",
       "Propulsion_Code                            ...                  0.033138   \n",
       "Vehicle_Reference_y                        ...                 -0.008737   \n",
       "Casualty_Reference                         ...                  0.029172   \n",
       "Sex_of_Casualty                            ...                  1.000000   \n",
       "Age_of_Casualty                            ...                  0.049738   \n",
       "Casualty_Severity                          ...                  0.109922   \n",
       "Pedestrian_Movement                        ...                  0.038540   \n",
       "Car_Passenger                              ...                  0.145597   \n",
       "Bus_or_Coach_Passenger                     ...                  0.081783   \n",
       "Pedestrian_Road_Maintenance_Worker         ...                  0.026198   \n",
       "Casualty_Type                              ...                  0.028151   \n",
       "Casualty_Home_Area_Type                    ...                  0.026830   \n",
       "Casualty_IMD_Decile                        ...                  0.022205   \n",
       "\n",
       "                                    Age_of_Casualty  Casualty_Severity  \\\n",
       "Location_Easting_OSGR                     -0.019316           0.028160   \n",
       "Location_Northing_OSGR                    -0.000980          -0.025557   \n",
       "Longitude                                 -0.019447           0.027515   \n",
       "Latitude                                  -0.001011          -0.025607   \n",
       "Police_Force                               0.029351          -0.021743   \n",
       "Accident_Severity                         -0.065106           0.943732   \n",
       "Day_of_Week                                0.008254           0.004953   \n",
       "Local_Authority_(District)                 0.028188          -0.024869   \n",
       "1st_Road_Class                            -0.073785           0.003253   \n",
       "1st_Road_Number                            0.006964          -0.010115   \n",
       "Road_Type                                 -0.027167          -0.038223   \n",
       "Speed_limit                                0.070159          -0.057582   \n",
       "Junction_Detail                            0.022079           0.031189   \n",
       "2nd_Road_Class                             0.022166           0.044138   \n",
       "2nd_Road_Number                            0.016076           0.024118   \n",
       "Pedestrian_Crossing-Human_Control          0.008146          -0.014899   \n",
       "Urban_or_Rural_Area                        0.084720          -0.061646   \n",
       "Vehicle_Reference_x                       -0.004513           0.001446   \n",
       "Vehicle_Type                               0.029826           0.004925   \n",
       "Towing_and_Articulation                    0.039893          -0.030076   \n",
       "Vehicle_Manoeuvre                         -0.070756          -0.078042   \n",
       "Vehicle_Location-Restricted_Lane           0.006141          -0.015604   \n",
       "Junction_Location                          0.034633           0.025124   \n",
       "Skidding_and_Overturning                  -0.011545          -0.055558   \n",
       "Vehicle_Leaving_Carriageway                0.002617          -0.076594   \n",
       "1st_Point_of_Impact                       -0.019362          -0.009334   \n",
       "Was_Vehicle_Left_Hand_Drive?               0.020869          -0.040988   \n",
       "Journey_Purpose_of_Driver                 -0.014053          -0.000453   \n",
       "Sex_of_Driver                             -0.033444           0.065634   \n",
       "Age_of_Driver                              0.392499          -0.055950   \n",
       "Age_Band_of_Driver                         0.308561          -0.059252   \n",
       "Engine_Capacity_(CC)                       0.079087           0.006417   \n",
       "Propulsion_Code                            0.038065           0.023391   \n",
       "Vehicle_Reference_y                        0.022521           0.074185   \n",
       "Casualty_Reference                         0.002054           0.023729   \n",
       "Sex_of_Casualty                            0.049738           0.109922   \n",
       "Age_of_Casualty                            1.000000          -0.064214   \n",
       "Casualty_Severity                         -0.064214           1.000000   \n",
       "Pedestrian_Movement                       -0.025588          -0.071240   \n",
       "Car_Passenger                             -0.093660           0.054282   \n",
       "Bus_or_Coach_Passenger                     0.054629           0.028873   \n",
       "Pedestrian_Road_Maintenance_Worker        -0.015486          -0.023023   \n",
       "Casualty_Type                              0.069532           0.070107   \n",
       "Casualty_Home_Area_Type                    0.067275          -0.003779   \n",
       "Casualty_IMD_Decile                        0.106596          -0.000270   \n",
       "\n",
       "                                    Pedestrian_Movement  Car_Passenger  \\\n",
       "Location_Easting_OSGR                          0.007720      -0.027198   \n",
       "Location_Northing_OSGR                         0.014692       0.023175   \n",
       "Longitude                                      0.007507      -0.026621   \n",
       "Latitude                                       0.014655       0.023177   \n",
       "Police_Force                                  -0.052980       0.008314   \n",
       "Accident_Severity                             -0.054771       0.049107   \n",
       "Day_of_Week                                    0.008039      -0.000352   \n",
       "Local_Authority_(District)                    -0.051188       0.011930   \n",
       "1st_Road_Class                                 0.150018      -0.026514   \n",
       "1st_Road_Number                               -0.026223      -0.002014   \n",
       "Road_Type                                      0.089254      -0.022625   \n",
       "Speed_limit                                   -0.172728       0.040980   \n",
       "Junction_Detail                               -0.037041       0.003072   \n",
       "2nd_Road_Class                                -0.063956      -0.010818   \n",
       "2nd_Road_Number                               -0.033858       0.008109   \n",
       "Pedestrian_Crossing-Human_Control             -0.000602       0.008363   \n",
       "Urban_or_Rural_Area                           -0.140297       0.024503   \n",
       "Vehicle_Reference_x                            0.003933      -0.001219   \n",
       "Vehicle_Type                                   0.040582      -0.005961   \n",
       "Towing_and_Articulation                       -0.015185       0.001484   \n",
       "Vehicle_Manoeuvre                             -0.033927       0.006970   \n",
       "Vehicle_Location-Restricted_Lane               0.180787      -0.013320   \n",
       "Junction_Location                             -0.092467       0.006979   \n",
       "Skidding_and_Overturning                      -0.093410       0.010836   \n",
       "Vehicle_Leaving_Carriageway                   -0.072808       0.026069   \n",
       "1st_Point_of_Impact                            0.023059      -0.013203   \n",
       "Was_Vehicle_Left_Hand_Drive?                  -0.055030       0.020037   \n",
       "Journey_Purpose_of_Driver                      0.018327       0.035239   \n",
       "Sex_of_Driver                                  0.121710      -0.011181   \n",
       "Age_of_Driver                                 -0.069049      -0.016480   \n",
       "Age_Band_of_Driver                            -0.110365      -0.013902   \n",
       "Engine_Capacity_(CC)                          -0.022050       0.017053   \n",
       "Propulsion_Code                               -0.053898       0.053230   \n",
       "Vehicle_Reference_y                           -0.192789       0.012387   \n",
       "Casualty_Reference                            -0.035186       0.128483   \n",
       "Sex_of_Casualty                                0.038540       0.145597   \n",
       "Age_of_Casualty                               -0.025588      -0.093660   \n",
       "Casualty_Severity                             -0.071240       0.054282   \n",
       "Pedestrian_Movement                            1.000000      -0.095329   \n",
       "Car_Passenger                                 -0.095329       1.000000   \n",
       "Bus_or_Coach_Passenger                        -0.042378      -0.028645   \n",
       "Pedestrian_Road_Maintenance_Worker             0.341822      -0.053363   \n",
       "Casualty_Type                                 -0.270177       0.080611   \n",
       "Casualty_Home_Area_Type                       -0.047299      -0.017009   \n",
       "Casualty_IMD_Decile                           -0.053423      -0.038752   \n",
       "\n",
       "                                    Bus_or_Coach_Passenger  \\\n",
       "Location_Easting_OSGR                             0.040760   \n",
       "Location_Northing_OSGR                            0.025929   \n",
       "Longitude                                         0.041093   \n",
       "Latitude                                          0.025745   \n",
       "Police_Force                                     -0.053849   \n",
       "Accident_Severity                                 0.030495   \n",
       "Day_of_Week                                       0.013348   \n",
       "Local_Authority_(District)                       -0.055914   \n",
       "1st_Road_Class                                    0.001204   \n",
       "1st_Road_Number                                  -0.011173   \n",
       "Road_Type                                        -0.005147   \n",
       "Speed_limit                                      -0.058807   \n",
       "Junction_Detail                                   0.006206   \n",
       "2nd_Road_Class                                    0.005290   \n",
       "2nd_Road_Number                                  -0.007384   \n",
       "Pedestrian_Crossing-Human_Control                 0.006414   \n",
       "Urban_or_Rural_Area                              -0.058541   \n",
       "Vehicle_Reference_x                               0.000125   \n",
       "Vehicle_Type                                      0.010778   \n",
       "Towing_and_Articulation                          -0.003013   \n",
       "Vehicle_Manoeuvre                                -0.051770   \n",
       "Vehicle_Location-Restricted_Lane                  0.005830   \n",
       "Junction_Location                                -0.014411   \n",
       "Skidding_and_Overturning                         -0.034335   \n",
       "Vehicle_Leaving_Carriageway                      -0.034030   \n",
       "1st_Point_of_Impact                              -0.118749   \n",
       "Was_Vehicle_Left_Hand_Drive?                      0.009980   \n",
       "Journey_Purpose_of_Driver                        -0.139571   \n",
       "Sex_of_Driver                                    -0.021724   \n",
       "Age_of_Driver                                     0.015276   \n",
       "Age_Band_of_Driver                                0.008524   \n",
       "Engine_Capacity_(CC)                              0.225283   \n",
       "Propulsion_Code                                   0.027675   \n",
       "Vehicle_Reference_y                              -0.032441   \n",
       "Casualty_Reference                                0.000071   \n",
       "Sex_of_Casualty                                   0.081783   \n",
       "Age_of_Casualty                                   0.054629   \n",
       "Casualty_Severity                                 0.028873   \n",
       "Pedestrian_Movement                              -0.042378   \n",
       "Car_Passenger                                    -0.028645   \n",
       "Bus_or_Coach_Passenger                            1.000000   \n",
       "Pedestrian_Road_Maintenance_Worker               -0.023722   \n",
       "Casualty_Type                                     0.064544   \n",
       "Casualty_Home_Area_Type                          -0.031188   \n",
       "Casualty_IMD_Decile                              -0.031881   \n",
       "\n",
       "                                    Pedestrian_Road_Maintenance_Worker  \\\n",
       "Location_Easting_OSGR                                         0.160005   \n",
       "Location_Northing_OSGR                                       -0.125836   \n",
       "Longitude                                                     0.157183   \n",
       "Latitude                                                     -0.126403   \n",
       "Police_Force                                                 -0.161924   \n",
       "Accident_Severity                                            -0.014079   \n",
       "Day_of_Week                                                   0.006473   \n",
       "Local_Authority_(District)                                   -0.164828   \n",
       "1st_Road_Class                                                0.021681   \n",
       "1st_Road_Number                                              -0.037456   \n",
       "Road_Type                                                     0.028393   \n",
       "Speed_limit                                                  -0.121408   \n",
       "Junction_Detail                                               0.036452   \n",
       "2nd_Road_Class                                                0.019622   \n",
       "2nd_Road_Number                                              -0.021376   \n",
       "Pedestrian_Crossing-Human_Control                            -0.004916   \n",
       "Urban_or_Rural_Area                                          -0.126931   \n",
       "Vehicle_Reference_x                                          -0.000852   \n",
       "Vehicle_Type                                                  0.011626   \n",
       "Towing_and_Articulation                                      -0.031180   \n",
       "Vehicle_Manoeuvre                                            -0.031911   \n",
       "Vehicle_Location-Restricted_Lane                              0.036195   \n",
       "Junction_Location                                            -0.036046   \n",
       "Skidding_and_Overturning                                     -0.063881   \n",
       "Vehicle_Leaving_Carriageway                                  -0.054981   \n",
       "1st_Point_of_Impact                                          -0.028923   \n",
       "Was_Vehicle_Left_Hand_Drive?                                 -0.103640   \n",
       "Journey_Purpose_of_Driver                                    -0.001975   \n",
       "Sex_of_Driver                                                 0.063463   \n",
       "Age_of_Driver                                                -0.059237   \n",
       "Age_Band_of_Driver                                           -0.083360   \n",
       "Engine_Capacity_(CC)                                         -0.002594   \n",
       "Propulsion_Code                                               0.000741   \n",
       "Vehicle_Reference_y                                          -0.112973   \n",
       "Casualty_Reference                                           -0.021885   \n",
       "Sex_of_Casualty                                               0.026198   \n",
       "Age_of_Casualty                                              -0.015486   \n",
       "Casualty_Severity                                            -0.023023   \n",
       "Pedestrian_Movement                                           0.341822   \n",
       "Car_Passenger                                                -0.053363   \n",
       "Bus_or_Coach_Passenger                                       -0.023722   \n",
       "Pedestrian_Road_Maintenance_Worker                            1.000000   \n",
       "Casualty_Type                                                -0.151240   \n",
       "Casualty_Home_Area_Type                                      -0.047773   \n",
       "Casualty_IMD_Decile                                          -0.032280   \n",
       "\n",
       "                                    Casualty_Type  Casualty_Home_Area_Type  \\\n",
       "Location_Easting_OSGR                   -0.025159                -0.016954   \n",
       "Location_Northing_OSGR                   0.027433                -0.071216   \n",
       "Longitude                               -0.024553                -0.016842   \n",
       "Latitude                                 0.027422                -0.071478   \n",
       "Police_Force                             0.033228                 0.080237   \n",
       "Accident_Severity                        0.049120                -0.007845   \n",
       "Day_of_Week                              0.001164                -0.006140   \n",
       "Local_Authority_(District)               0.037507                 0.065656   \n",
       "1st_Road_Class                          -0.097890                -0.052013   \n",
       "1st_Road_Number                         -0.004004                 0.018923   \n",
       "Road_Type                               -0.043553                 0.021193   \n",
       "Speed_limit                              0.177908                 0.120429   \n",
       "Junction_Detail                         -0.028183                -0.009772   \n",
       "2nd_Road_Class                          -0.050991                -0.019701   \n",
       "2nd_Road_Number                         -0.002231                 0.008541   \n",
       "Pedestrian_Crossing-Human_Control       -0.012530                -0.001077   \n",
       "Urban_or_Rural_Area                      0.146847                 0.179232   \n",
       "Vehicle_Reference_x                     -0.002411                -0.006227   \n",
       "Vehicle_Type                             0.408368                -0.020795   \n",
       "Towing_and_Articulation                  0.049143                 0.013565   \n",
       "Vehicle_Manoeuvre                        0.036158                 0.013716   \n",
       "Vehicle_Location-Restricted_Lane        -0.042727                -0.014373   \n",
       "Junction_Location                       -0.023262                 0.002946   \n",
       "Skidding_and_Overturning                 0.101491                 0.041772   \n",
       "Vehicle_Leaving_Carriageway              0.097569                 0.050514   \n",
       "1st_Point_of_Impact                     -0.052236                 0.007538   \n",
       "Was_Vehicle_Left_Hand_Drive?            -0.007413                -0.004566   \n",
       "Journey_Purpose_of_Driver               -0.040320                 0.010879   \n",
       "Sex_of_Driver                           -0.058362                 0.002462   \n",
       "Age_of_Driver                            0.030628                 0.041733   \n",
       "Age_Band_of_Driver                       0.048161                 0.039178   \n",
       "Engine_Capacity_(CC)                     0.084397                 0.018570   \n",
       "Propulsion_Code                          0.025966                 0.047536   \n",
       "Vehicle_Reference_y                      0.024192                -0.005449   \n",
       "Casualty_Reference                       0.042749                 0.007324   \n",
       "Sex_of_Casualty                          0.028151                 0.026830   \n",
       "Age_of_Casualty                          0.069532                 0.067275   \n",
       "Casualty_Severity                        0.070107                -0.003779   \n",
       "Pedestrian_Movement                     -0.270177                -0.047299   \n",
       "Car_Passenger                            0.080611                -0.017009   \n",
       "Bus_or_Coach_Passenger                   0.064544                -0.031188   \n",
       "Pedestrian_Road_Maintenance_Worker      -0.151240                -0.047773   \n",
       "Casualty_Type                            1.000000                 0.009008   \n",
       "Casualty_Home_Area_Type                  0.009008                 1.000000   \n",
       "Casualty_IMD_Decile                     -0.004510                 0.617847   \n",
       "\n",
       "                                    Casualty_IMD_Decile  \n",
       "Location_Easting_OSGR                          0.196029  \n",
       "Location_Northing_OSGR                        -0.104991  \n",
       "Longitude                                      0.193595  \n",
       "Latitude                                      -0.104556  \n",
       "Police_Force                                  -0.013107  \n",
       "Accident_Severity                             -0.001747  \n",
       "Day_of_Week                                   -0.002873  \n",
       "Local_Authority_(District)                    -0.046246  \n",
       "1st_Road_Class                                -0.056123  \n",
       "1st_Road_Number                                0.004248  \n",
       "Road_Type                                     -0.002574  \n",
       "Speed_limit                                    0.089081  \n",
       "Junction_Detail                               -0.004076  \n",
       "2nd_Road_Class                                 0.003301  \n",
       "2nd_Road_Number                                0.029199  \n",
       "Pedestrian_Crossing-Human_Control             -0.007115  \n",
       "Urban_or_Rural_Area                            0.106081  \n",
       "Vehicle_Reference_x                           -0.004609  \n",
       "Vehicle_Type                                  -0.019338  \n",
       "Towing_and_Articulation                        0.007047  \n",
       "Vehicle_Manoeuvre                             -0.020302  \n",
       "Vehicle_Location-Restricted_Lane              -0.011509  \n",
       "Junction_Location                              0.030045  \n",
       "Skidding_and_Overturning                       0.011374  \n",
       "Vehicle_Leaving_Carriageway                    0.011800  \n",
       "1st_Point_of_Impact                            0.013779  \n",
       "Was_Vehicle_Left_Hand_Drive?                  -0.007540  \n",
       "Journey_Purpose_of_Driver                     -0.004023  \n",
       "Sex_of_Driver                                 -0.002572  \n",
       "Age_of_Driver                                  0.063587  \n",
       "Age_Band_of_Driver                             0.054858  \n",
       "Engine_Capacity_(CC)                           0.013835  \n",
       "Propulsion_Code                                0.028500  \n",
       "Vehicle_Reference_y                            0.017446  \n",
       "Casualty_Reference                            -0.062984  \n",
       "Sex_of_Casualty                                0.022205  \n",
       "Age_of_Casualty                                0.106596  \n",
       "Casualty_Severity                             -0.000270  \n",
       "Pedestrian_Movement                           -0.053423  \n",
       "Car_Passenger                                 -0.038752  \n",
       "Bus_or_Coach_Passenger                        -0.031881  \n",
       "Pedestrian_Road_Maintenance_Worker            -0.032280  \n",
       "Casualty_Type                                 -0.004510  \n",
       "Casualty_Home_Area_Type                        0.617847  \n",
       "Casualty_IMD_Decile                            1.000000  \n",
       "\n",
       "[45 rows x 45 columns]"
      ]
     },
     "execution_count": 37,
     "metadata": {},
     "output_type": "execute_result"
    }
   ],
   "source": [
    "# High correlation between two variables means they have similar trends and are likely to carry similar information. \n",
    "# We can calculate the correlation between independent numerical variables that are numerical in nature. \n",
    "# If the correlation coefficient crosses a certain threshold value, we can drop one of the variables\n",
    "temp_dataset=dataset\n",
    "temp_dataset.corr()"
   ]
  },
  {
   "cell_type": "code",
   "execution_count": 38,
   "metadata": {},
   "outputs": [],
   "source": [
    "def  check_accuracy_with_different_corelation_threshold(x):\n",
    "    temp_dataset=dataset\n",
    "    corre=temp_dataset.corr()\n",
    "    columns=corre.keys()\n",
    "    for i in range(len(columns)-1):\n",
    "        j=i+1\n",
    "        while(j<len(columns)):\n",
    "            if(corre[columns[i]][columns[j]]>x and (columns[i] in temp_dataset.columns)):\n",
    "                temp_dataset=temp_dataset.drop([columns[i]],axis=1)\n",
    "            j=j+1\n",
    "    if 'Accident_Severity' in temp_dataset.columns:        \n",
    "        temp5=temp_dataset.drop(['Accident_Severity'],axis=1)\n",
    "        fitmodel_print_accuracy(temp5,dataset.Accident_Severity,temp5.shape[1])\n",
    "    else:\n",
    "        fitmodel_print_accuracy(temp_dataset,dataset.Accident_Severity,temp_dataset.shape[1])\n",
    "    "
   ]
  },
  {
   "cell_type": "code",
   "execution_count": 39,
   "metadata": {},
   "outputs": [
    {
     "name": "stdout",
     "output_type": "stream",
     "text": [
      "n = 40 and Accuracy = 0.960\n",
      "n = 36 and Accuracy = 0.961\n",
      "n = 35 and Accuracy = 0.959\n",
      "n = 34 and Accuracy = 0.961\n",
      "n = 33 and Accuracy = 0.963\n",
      "n = 33 and Accuracy = 0.962\n",
      "n = 30 and Accuracy = 0.962\n",
      "n = 28 and Accuracy = 0.957\n",
      "n = 24 and Accuracy = 0.959\n",
      "n = 18 and Accuracy = 0.959\n",
      "n = 4 and Accuracy = 0.800\n"
     ]
    }
   ],
   "source": [
    "check_accuracy_with_different_corelation_threshold(.8)\n",
    "check_accuracy_with_different_corelation_threshold(.6)\n",
    "check_accuracy_with_different_corelation_threshold(.5)\n",
    "check_accuracy_with_different_corelation_threshold(.45)\n",
    "check_accuracy_with_different_corelation_threshold(.4)\n",
    "check_accuracy_with_different_corelation_threshold(.35)\n",
    "check_accuracy_with_different_corelation_threshold(.3)\n",
    "check_accuracy_with_different_corelation_threshold(.25)\n",
    "check_accuracy_with_different_corelation_threshold(.2)\n",
    "check_accuracy_with_different_corelation_threshold(.15)\n",
    "check_accuracy_with_different_corelation_threshold(.05)"
   ]
  },
  {
   "cell_type": "markdown",
   "metadata": {},
   "source": [
    "##### So after observing above output the correlation threshold value can be 0.15"
   ]
  },
  {
   "cell_type": "code",
   "execution_count": 40,
   "metadata": {},
   "outputs": [
    {
     "name": "stdout",
     "output_type": "stream",
     "text": [
      "n = 18 and Accuracy = 0.961\n"
     ]
    }
   ],
   "source": [
    "temp_dataset=dataset\n",
    "corre=temp_dataset.corr()\n",
    "columns=corre.keys()\n",
    "for i in range(len(columns)-1):\n",
    "    j=i+1\n",
    "    while(j<len(columns)):\n",
    "        if(corre[columns[i]][columns[j]]>0.15 and (columns[i] in temp_dataset.columns)):\n",
    "            if columns[i]!='Accident_Severity':\n",
    "                temp_dataset=temp_dataset.drop([columns[i]],axis=1)\n",
    "        j=j+1\n",
    "temp=temp_dataset        \n",
    "temp=temp.drop(['Accident_Severity'],axis=1)\n",
    "fitmodel_print_accuracy(temp,dataset.Accident_Severity,temp.shape[1])"
   ]
  },
  {
   "cell_type": "code",
   "execution_count": 41,
   "metadata": {},
   "outputs": [
    {
     "data": {
      "text/plain": [
       "Index(['Latitude', 'Accident_Severity', 'Day_of_Week', 'Road_Type',\n",
       "       'Junction_Location', 'Vehicle_Leaving_Carriageway',\n",
       "       '1st_Point_of_Impact', 'Was_Vehicle_Left_Hand_Drive?',\n",
       "       'Propulsion_Code', 'Vehicle_Reference_y', 'Casualty_Reference',\n",
       "       'Sex_of_Casualty', 'Age_of_Casualty', 'Casualty_Severity',\n",
       "       'Car_Passenger', 'Bus_or_Coach_Passenger',\n",
       "       'Pedestrian_Road_Maintenance_Worker', 'Casualty_Type',\n",
       "       'Casualty_IMD_Decile'],\n",
       "      dtype='object')"
      ]
     },
     "execution_count": 41,
     "metadata": {},
     "output_type": "execute_result"
    }
   ],
   "source": [
    "temp_dataset.columns"
   ]
  },
  {
   "cell_type": "code",
   "execution_count": 42,
   "metadata": {},
   "outputs": [
    {
     "data": {
      "text/plain": [
       "(76336, 19)"
      ]
     },
     "execution_count": 42,
     "metadata": {},
     "output_type": "execute_result"
    }
   ],
   "source": [
    "temp_dataset.shape"
   ]
  },
  {
   "cell_type": "markdown",
   "metadata": {},
   "source": [
    "#### Again dataset will be updated"
   ]
  },
  {
   "cell_type": "code",
   "execution_count": 43,
   "metadata": {},
   "outputs": [],
   "source": [
    "dataset=temp_dataset"
   ]
  },
  {
   "cell_type": "markdown",
   "metadata": {},
   "source": [
    "# Step 4:- Using Random Forest\n",
    "* Random Forest is one of the most widely used algorithms for feature selection. It comes packaged with in-built feature importance so don’t need to program separately."
   ]
  },
  {
   "cell_type": "code",
   "execution_count": 44,
   "metadata": {},
   "outputs": [],
   "source": [
    "from sklearn.ensemble import RandomForestClassifier"
   ]
  },
  {
   "cell_type": "code",
   "execution_count": 45,
   "metadata": {},
   "outputs": [],
   "source": [
    "temp_dataset=dataset"
   ]
  },
  {
   "cell_type": "code",
   "execution_count": 46,
   "metadata": {},
   "outputs": [],
   "source": [
    "temp_dataset1=temp_dataset\n"
   ]
  },
  {
   "cell_type": "code",
   "execution_count": 47,
   "metadata": {
    "scrolled": true
   },
   "outputs": [
    {
     "name": "stderr",
     "output_type": "stream",
     "text": [
      "C:\\Users\\Rahul Poddar\\Anaconda3\\lib\\site-packages\\sklearn\\ensemble\\forest.py:246: FutureWarning: The default value of n_estimators will change from 10 in version 0.20 to 100 in 0.22.\n",
      "  \"10 in version 0.20 to 100 in 0.22.\", FutureWarning)\n"
     ]
    },
    {
     "name": "stdout",
     "output_type": "stream",
     "text": [
      " 1) Casualty_Severity                        0.817935\n",
      " 2) Latitude                                 0.041056\n",
      " 3) Age_of_Casualty                          0.030476\n",
      " 4) Casualty_Type                            0.024660\n",
      " 5) Casualty_IMD_Decile                      0.015492\n",
      " 6) Day_of_Week                              0.014252\n",
      " 7) Junction_Location                        0.009521\n",
      " 8) Vehicle_Leaving_Carriageway              0.009098\n",
      " 9) Propulsion_Code                          0.007691\n",
      "10) 1st_Point_of_Impact                      0.006610\n",
      "11) Vehicle_Reference_y                      0.006355\n",
      "12) Sex_of_Casualty                          0.005427\n",
      "13) Road_Type                                0.005216\n",
      "14) Casualty_Reference                       0.002817\n",
      "15) Car_Passenger                            0.002155\n",
      "16) Was_Vehicle_Left_Hand_Drive?             0.000541\n",
      "17) Bus_or_Coach_Passenger                   0.000437\n",
      "18) Pedestrian_Road_Maintenance_Worker       0.000263\n"
     ]
    }
   ],
   "source": [
    "y=temp_dataset['Accident_Severity']\n",
    "temp_dataset1=temp_dataset1.drop(['Accident_Severity'],axis=1)\n",
    "x_train,x_test,y_train,y_test=train_test_split(temp_dataset1,temp_dataset.Accident_Severity)\n",
    "feat_labels=temp_dataset1.columns\n",
    "forest=RandomForestClassifier(random_state=0,n_jobs=-1)\n",
    "forest.fit(x_train,y_train)\n",
    "importances=forest.feature_importances_\n",
    "indices=np.argsort(importances)[::-1]\n",
    "for f in range(x_train.shape[1]):\n",
    "    print(\"%2d) %-*s %f\" % (f+1,40,feat_labels[indices[f]],importances[indices[f]]))"
   ]
  },
  {
   "cell_type": "markdown",
   "metadata": {},
   "source": [
    "* Based on the above output, we can hand pick the top-most features to reduce the dimensionality in our dataset. \n"
   ]
  },
  {
   "cell_type": "markdown",
   "metadata": {},
   "source": [
    "# Step 5:- Backward Feature Elimination\n",
    "* We first take all the n variables present in our dataset and train the model using them.\n",
    "* We then calculate the performance of the model.\n",
    "* Now, we compute the performance of the model after eliminating each variable (n times), i.e., we drop one variable every time and train the model on the remaining n-1 variables.\n",
    "* We identify the variable whose removal has produced the smallest (or no) change in the performance of the model, and then drop that variable.\n",
    "* Repeat this process until no variable can be dropped."
   ]
  },
  {
   "cell_type": "code",
   "execution_count": 48,
   "metadata": {},
   "outputs": [],
   "source": [
    "from sklearn.feature_selection import RFE"
   ]
  },
  {
   "cell_type": "code",
   "execution_count": 49,
   "metadata": {},
   "outputs": [],
   "source": [
    "lreg = DecisionTreeClassifier()"
   ]
  },
  {
   "cell_type": "code",
   "execution_count": 50,
   "metadata": {},
   "outputs": [],
   "source": [
    "temp_dataset=dataset\n",
    "temp_dataset1=temp_dataset.drop(['Accident_Severity'],axis=1)"
   ]
  },
  {
   "cell_type": "code",
   "execution_count": 51,
   "metadata": {},
   "outputs": [
    {
     "name": "stdout",
     "output_type": "stream",
     "text": [
      "n = 18 and Accuracy = 0.958\n",
      "n = 17 and Accuracy = 0.960\n",
      "n = 16 and Accuracy = 0.961\n",
      "n = 15 and Accuracy = 0.960\n",
      "n = 14 and Accuracy = 0.959\n",
      "n = 13 and Accuracy = 0.961\n",
      "n = 12 and Accuracy = 0.960\n",
      "n = 11 and Accuracy = 0.961\n",
      "n = 10 and Accuracy = 0.957\n",
      "n = 9 and Accuracy = 0.958\n",
      "n = 8 and Accuracy = 0.957\n",
      "n = 7 and Accuracy = 0.960\n",
      "n = 6 and Accuracy = 0.960\n",
      "n = 5 and Accuracy = 0.959\n",
      "n = 4 and Accuracy = 0.962\n",
      "n = 3 and Accuracy = 0.961\n",
      "n = 2 and Accuracy = 0.963\n",
      "n = 1 and Accuracy = 0.963\n"
     ]
    }
   ],
   "source": [
    "n=18\n",
    "X=temp_dataset1\n",
    "while(n>0):\n",
    "    fitmodel_print_accuracy(X,temp_dataset.Accident_Severity,n)\n",
    "    X=temp_dataset1\n",
    "    rfe = RFE(lreg, n)\n",
    "    rfe = rfe.fit(X, temp_dataset.Accident_Severity)\n",
    "    mask = rfe.get_support()\n",
    "    colmns=X.columns\n",
    "    new_features=[]\n",
    "    for bool,feature in zip(mask,colmns):\n",
    "        if bool:\n",
    "            new_features.append(feature)\n",
    "    \n",
    "    for f in colmns:\n",
    "        if f not in new_features:\n",
    "            X=X.drop([f],axis=1)\n",
    "    \n",
    "    n=n-1\n",
    "    "
   ]
  },
  {
   "cell_type": "code",
   "execution_count": 52,
   "metadata": {},
   "outputs": [],
   "source": [
    "rfe = RFE(lreg,7)\n",
    "rfe = rfe.fit(temp_dataset1, temp_dataset.Accident_Severity)\n",
    "mask = rfe.get_support()\n",
    "colmns=temp_dataset1.columns\n",
    "new_features=[]\n",
    "for bool,feature in zip(mask,colmns):\n",
    "    if bool:\n",
    "        new_features.append(feature)\n",
    "    \n",
    "for f in colmns:\n",
    "    if f not in new_features:\n",
    "        temp_dataset1=temp_dataset1.drop([f],axis=1)\n",
    "        temp_dataset=temp_dataset.drop([f],axis=1)"
   ]
  },
  {
   "cell_type": "code",
   "execution_count": 55,
   "metadata": {},
   "outputs": [
    {
     "name": "stdout",
     "output_type": "stream",
     "text": [
      "Index(['Latitude', 'Accident_Severity', 'Day_of_Week', 'Road_Type',\n",
      "       'Propulsion_Code', 'Age_of_Casualty', 'Casualty_Severity',\n",
      "       'Casualty_IMD_Decile'],\n",
      "      dtype='object')\n"
     ]
    }
   ],
   "source": [
    "\n",
    "print(temp_dataset.columns)"
   ]
  },
  {
   "cell_type": "markdown",
   "metadata": {},
   "source": [
    "* Here we will end-up with dimensionality reduction. And will update dataset variable with temp_dataset."
   ]
  },
  {
   "cell_type": "code",
   "execution_count": 56,
   "metadata": {},
   "outputs": [
    {
     "name": "stdout",
     "output_type": "stream",
     "text": [
      "Index(['Latitude', 'Accident_Severity', 'Day_of_Week', 'Road_Type',\n",
      "       'Propulsion_Code', 'Age_of_Casualty', 'Casualty_Severity',\n",
      "       'Casualty_IMD_Decile'],\n",
      "      dtype='object')\n"
     ]
    }
   ],
   "source": [
    "dataset=temp_dataset\n",
    "print(dataset.columns)"
   ]
  },
  {
   "cell_type": "markdown",
   "metadata": {},
   "source": [
    "# Data Exploration\n",
    "* We try to understand what is the relation between features and class label, domain knowledge of the data \n",
    "    and important features in classifying. Sometimes it may not give a clear picture at this stage due to some \n",
    "    duplication and errors, but this is enough to get a rough idea.\n"
   ]
  },
  {
   "cell_type": "markdown",
   "metadata": {},
   "source": [
    "### 1. Variable Identification "
   ]
  },
  {
   "cell_type": "code",
   "execution_count": 57,
   "metadata": {},
   "outputs": [
    {
     "name": "stdout",
     "output_type": "stream",
     "text": [
      "Variable Name: Latitude                                 type = <class 'numpy.float64'>\n",
      "Variable Name: Accident_Severity                        type = <class 'numpy.int64'>\n",
      "Variable Name: Day_of_Week                              type = <class 'numpy.int64'>\n",
      "Variable Name: Road_Type                                type = <class 'numpy.int64'>\n",
      "Variable Name: Propulsion_Code                          type = <class 'numpy.int64'>\n",
      "Variable Name: Age_of_Casualty                          type = <class 'numpy.int64'>\n",
      "Variable Name: Casualty_Severity                        type = <class 'numpy.int64'>\n",
      "Variable Name: Casualty_IMD_Decile                      type = <class 'numpy.int64'>\n"
     ]
    }
   ],
   "source": [
    "# datatype of variable\n",
    "for f in dataset.columns:\n",
    "    print(\"Variable Name: %-*s type = %s\" % (40,f,type(dataset[f][0])))"
   ]
  },
  {
   "cell_type": "markdown",
   "metadata": {},
   "source": [
    "#### Type of Variable                              \n",
    "\n",
    "##### Predicator\n",
    "* Latitude\n",
    "* Day_of_Week\n",
    "* Road_Type\n",
    "* Propulsion_Code\n",
    "* Age_of_Casualty\n",
    "* Casualty_Severity\n",
    "* Casualty_IMD_Decile\n",
    "##### Target\n",
    "* Accident_Severity"
   ]
  },
  {
   "cell_type": "markdown",
   "metadata": {},
   "source": [
    "#### Category of Variable                              \n",
    "\n",
    "##### Categorical\n",
    "* Accident_Severity\n",
    "* Day_of_Week\n",
    "* Road_Type\n",
    "* Propulsion_Code\n",
    "* Casualty_Severity\n",
    "* Casualty_IMD_Decile\n",
    "\n",
    "##### Continuous\n",
    "* Latitude\n",
    "* Age_of_Casualty\n"
   ]
  },
  {
   "cell_type": "markdown",
   "metadata": {},
   "source": [
    "### 2. Univariate Analysis\n",
    "* At this stage, we explore variables one by one. Method to perform uni-variate analysis will depend on whether the variable type is categorical or continuous. Let’s look at these methods and statistical measures for categorical and continuous variables individually:"
   ]
  },
  {
   "cell_type": "code",
   "execution_count": 73,
   "metadata": {},
   "outputs": [],
   "source": [
    "def analysis_univariate_continuous(data):\n",
    "    print(dataset[data].describe())\n",
    "    sns.kdeplot(dataset[data],shade=True)\n",
    "      "
   ]
  },
  {
   "cell_type": "markdown",
   "metadata": {},
   "source": [
    "##### Continuous variable analysis"
   ]
  },
  {
   "cell_type": "code",
   "execution_count": 74,
   "metadata": {},
   "outputs": [
    {
     "name": "stdout",
     "output_type": "stream",
     "text": [
      "count    76336.000000\n",
      "mean        52.677608\n",
      "std          1.118988\n",
      "min         50.531384\n",
      "25%         51.556486\n",
      "50%         52.667525\n",
      "75%         53.540410\n",
      "max         55.784991\n",
      "Name: Latitude, dtype: float64\n"
     ]
    },
    {
     "data": {
      "image/png": "[encoded data removed]",
      "text/plain": [
       "<Figure size 432x288 with 1 Axes>"
      ]
     },
     "metadata": {
      "needs_background": "light"
     },
     "output_type": "display_data"
    }
   ],
   "source": [
    "analysis_univariate_continuous('Latitude')"
   ]
  },
  {
   "cell_type": "code",
   "execution_count": 75,
   "metadata": {},
   "outputs": [
    {
     "data": {
      "text/plain": [
       "<matplotlib.axes._subplots.AxesSubplot at 0x287bc9c9a58>"
      ]
     },
     "execution_count": 75,
     "metadata": {},
     "output_type": "execute_result"
    },
    {
     "data": {
      "image/png": "[encoded data removed]",
      "text/plain": [
       "<Figure size 432x288 with 1 Axes>"
      ]
     },
     "metadata": {
      "needs_background": "light"
     },
     "output_type": "display_data"
    }
   ],
   "source": [
    "sns.boxplot(dataset['Latitude'],color=\"green\",orient=\"v\")"
   ]
  },
  {
   "cell_type": "code",
   "execution_count": 77,
   "metadata": {},
   "outputs": [
    {
     "name": "stdout",
     "output_type": "stream",
     "text": [
      "count    76336.000000\n",
      "mean        37.090927\n",
      "std         19.058902\n",
      "min         -1.000000\n",
      "25%         23.000000\n",
      "50%         34.000000\n",
      "75%         50.000000\n",
      "max         98.000000\n",
      "Name: Age_of_Casualty, dtype: float64\n"
     ]
    },
    {
     "data": {
      "image/png": "[encoded data removed]",
      "text/plain": [
       "<Figure size 432x288 with 1 Axes>"
      ]
     },
     "metadata": {
      "needs_background": "light"
     },
     "output_type": "display_data"
    }
   ],
   "source": [
    "analysis_univariate_continuous('Age_of_Casualty')\n"
   ]
  },
  {
   "cell_type": "code",
   "execution_count": 78,
   "metadata": {},
   "outputs": [
    {
     "data": {
      "text/plain": [
       "<matplotlib.axes._subplots.AxesSubplot at 0x287bd0d9dd8>"
      ]
     },
     "execution_count": 78,
     "metadata": {},
     "output_type": "execute_result"
    },
    {
     "data": {
      "image/png": "[encoded data removed]",
      "text/plain": [
       "<Figure size 432x288 with 1 Axes>"
      ]
     },
     "metadata": {
      "needs_background": "light"
     },
     "output_type": "display_data"
    }
   ],
   "source": [
    "sns.boxplot(dataset['Age_of_Casualty'],color=\"green\",orient=\"v\")"
   ]
  },
  {
   "cell_type": "markdown",
   "metadata": {},
   "source": [
    "##### Categorical variable analysis"
   ]
  },
  {
   "cell_type": "code",
   "execution_count": 79,
   "metadata": {},
   "outputs": [
    {
     "data": {
      "text/plain": [
       "<matplotlib.axes._subplots.AxesSubplot at 0x287bd11dc50>"
      ]
     },
     "execution_count": 79,
     "metadata": {},
     "output_type": "execute_result"
    },
    {
     "data": {
      "image/png": "[encoded data removed]",
      "text/plain": [
       "<Figure size 432x288 with 1 Axes>"
      ]
     },
     "metadata": {
      "needs_background": "light"
     },
     "output_type": "display_data"
    }
   ],
   "source": [
    "my_tab = pd.crosstab(index = dataset[\"Day_of_Week\"],  columns=\"count\")      \n",
    "\n",
    "my_tab.plot.bar()"
   ]
  },
  {
   "cell_type": "code",
   "execution_count": 80,
   "metadata": {},
   "outputs": [
    {
     "data": {
      "text/plain": [
       "<matplotlib.axes._subplots.AxesSubplot at 0x287bd1a0ef0>"
      ]
     },
     "execution_count": 80,
     "metadata": {},
     "output_type": "execute_result"
    },
    {
     "data": {
      "image/png": "[encoded data removed]",
      "text/plain": [
       "<Figure size 432x288 with 1 Axes>"
      ]
     },
     "metadata": {
      "needs_background": "light"
     },
     "output_type": "display_data"
    }
   ],
   "source": [
    "sns.boxplot(dataset.Day_of_Week,color=\"red\",orient=\"v\")"
   ]
  },
  {
   "cell_type": "code",
   "execution_count": 81,
   "metadata": {},
   "outputs": [
    {
     "data": {
      "text/plain": [
       "<matplotlib.axes._subplots.AxesSubplot at 0x287bd1f55f8>"
      ]
     },
     "execution_count": 81,
     "metadata": {},
     "output_type": "execute_result"
    },
    {
     "data": {
      "image/png": "[encoded data removed]",
      "text/plain": [
       "<Figure size 432x288 with 1 Axes>"
      ]
     },
     "metadata": {
      "needs_background": "light"
     },
     "output_type": "display_data"
    }
   ],
   "source": [
    "sns.violinplot(dataset.Day_of_Week, color = 'cyan')"
   ]
  },
  {
   "cell_type": "code",
   "execution_count": 82,
   "metadata": {},
   "outputs": [
    {
     "data": {
      "text/plain": [
       "<matplotlib.axes._subplots.AxesSubplot at 0x287bd301400>"
      ]
     },
     "execution_count": 82,
     "metadata": {},
     "output_type": "execute_result"
    },
    {
     "data": {
      "image/png": "[encoded data removed]",
      "text/plain": [
       "<Figure size 432x288 with 1 Axes>"
      ]
     },
     "metadata": {
      "needs_background": "light"
     },
     "output_type": "display_data"
    }
   ],
   "source": [
    "my_tab = pd.crosstab(index = dataset[\"Road_Type\"],  columns=\"count\")      \n",
    "\n",
    "my_tab.plot.bar()"
   ]
  },
  {
   "cell_type": "code",
   "execution_count": 83,
   "metadata": {
    "scrolled": true
   },
   "outputs": [
    {
     "data": {
      "text/plain": [
       "<matplotlib.axes._subplots.AxesSubplot at 0x287bd3ae0f0>"
      ]
     },
     "execution_count": 83,
     "metadata": {},
     "output_type": "execute_result"
    },
    {
     "data": {
      "image/png": "[encoded data removed]",
      "text/plain": [
       "<Figure size 432x288 with 1 Axes>"
      ]
     },
     "metadata": {
      "needs_background": "light"
     },
     "output_type": "display_data"
    }
   ],
   "source": [
    "sns.boxplot(dataset.Road_Type,color=\"red\",orient=\"v\")"
   ]
  },
  {
   "cell_type": "code",
   "execution_count": 84,
   "metadata": {},
   "outputs": [
    {
     "data": {
      "text/plain": [
       "<matplotlib.axes._subplots.AxesSubplot at 0x287bd3f6630>"
      ]
     },
     "execution_count": 84,
     "metadata": {},
     "output_type": "execute_result"
    },
    {
     "data": {
      "image/png": "[encoded data removed]",
      "text/plain": [
       "<Figure size 432x288 with 1 Axes>"
      ]
     },
     "metadata": {
      "needs_background": "light"
     },
     "output_type": "display_data"
    }
   ],
   "source": [
    "sns.violinplot(dataset.Road_Type,color=\"cyan\")"
   ]
  },
  {
   "cell_type": "code",
   "execution_count": 86,
   "metadata": {},
   "outputs": [
    {
     "data": {
      "text/plain": [
       "<matplotlib.axes._subplots.AxesSubplot at 0x287bc912fd0>"
      ]
     },
     "execution_count": 86,
     "metadata": {},
     "output_type": "execute_result"
    },
    {
     "data": {
      "image/png": "[encoded data removed]",
      "text/plain": [
       "<Figure size 432x288 with 1 Axes>"
      ]
     },
     "metadata": {
      "needs_background": "light"
     },
     "output_type": "display_data"
    }
   ],
   "source": [
    "my_tab = pd.crosstab(index = dataset[\"Casualty_IMD_Decile\"],  columns=\"count\")      \n",
    "\n",
    "my_tab.plot.bar()"
   ]
  },
  {
   "cell_type": "code",
   "execution_count": 87,
   "metadata": {},
   "outputs": [
    {
     "data": {
      "text/plain": [
       "<matplotlib.axes._subplots.AxesSubplot at 0x287bc8d6898>"
      ]
     },
     "execution_count": 87,
     "metadata": {},
     "output_type": "execute_result"
    },
    {
     "data": {
      "image/png": "[encoded data removed]",
      "text/plain": [
       "<Figure size 432x288 with 1 Axes>"
      ]
     },
     "metadata": {
      "needs_background": "light"
     },
     "output_type": "display_data"
    }
   ],
   "source": [
    "sns.boxplot(dataset[\"Casualty_IMD_Decile\"],color=\"red\",orient=\"v\")"
   ]
  },
  {
   "cell_type": "code",
   "execution_count": 88,
   "metadata": {},
   "outputs": [
    {
     "data": {
      "text/plain": [
       "<matplotlib.axes._subplots.AxesSubplot at 0x287bc8fde80>"
      ]
     },
     "execution_count": 88,
     "metadata": {},
     "output_type": "execute_result"
    },
    {
     "data": {
      "image/png": "[encoded data removed]",
      "text/plain": [
       "<Figure size 432x288 with 1 Axes>"
      ]
     },
     "metadata": {
      "needs_background": "light"
     },
     "output_type": "display_data"
    }
   ],
   "source": [
    "sns.violinplot(dataset[\"Casualty_IMD_Decile\"],color=\"cyan\")"
   ]
  },
  {
   "cell_type": "code",
   "execution_count": 89,
   "metadata": {},
   "outputs": [
    {
     "data": {
      "text/plain": [
       "<matplotlib.axes._subplots.AxesSubplot at 0x287c2beec50>"
      ]
     },
     "execution_count": 89,
     "metadata": {},
     "output_type": "execute_result"
    },
    {
     "data": {
      "image/png": "[encoded data removed]",
      "text/plain": [
       "<Figure size 432x288 with 1 Axes>"
      ]
     },
     "metadata": {
      "needs_background": "light"
     },
     "output_type": "display_data"
    }
   ],
   "source": [
    "my_tab = pd.crosstab(index = dataset[\"Propulsion_Code\"],  columns=\"count\")      \n",
    "\n",
    "my_tab.plot.bar()"
   ]
  },
  {
   "cell_type": "code",
   "execution_count": 90,
   "metadata": {},
   "outputs": [
    {
     "data": {
      "text/plain": [
       "<matplotlib.axes._subplots.AxesSubplot at 0x287c2c4e160>"
      ]
     },
     "execution_count": 90,
     "metadata": {},
     "output_type": "execute_result"
    },
    {
     "data": {
      "image/png": "[encoded data removed]",
      "text/plain": [
       "<Figure size 432x288 with 1 Axes>"
      ]
     },
     "metadata": {
      "needs_background": "light"
     },
     "output_type": "display_data"
    }
   ],
   "source": [
    "sns.boxplot(dataset[\"Propulsion_Code\"],color=\"red\",orient=\"v\")"
   ]
  },
  {
   "cell_type": "code",
   "execution_count": 91,
   "metadata": {},
   "outputs": [
    {
     "data": {
      "text/plain": [
       "<matplotlib.axes._subplots.AxesSubplot at 0x287c2caf4a8>"
      ]
     },
     "execution_count": 91,
     "metadata": {},
     "output_type": "execute_result"
    },
    {
     "data": {
      "image/png": "[encoded data removed]",
      "text/plain": [
       "<Figure size 432x288 with 1 Axes>"
      ]
     },
     "metadata": {
      "needs_background": "light"
     },
     "output_type": "display_data"
    }
   ],
   "source": [
    "sns.violinplot(dataset[\"Propulsion_Code\"],color=\"cyan\")"
   ]
  },
  {
   "cell_type": "code",
   "execution_count": 92,
   "metadata": {},
   "outputs": [
    {
     "data": {
      "text/plain": [
       "<matplotlib.axes._subplots.AxesSubplot at 0x287c2cee390>"
      ]
     },
     "execution_count": 92,
     "metadata": {},
     "output_type": "execute_result"
    },
    {
     "data": {
      "image/png": "[encoded data removed]",
      "text/plain": [
       "<Figure size 432x288 with 1 Axes>"
      ]
     },
     "metadata": {
      "needs_background": "light"
     },
     "output_type": "display_data"
    }
   ],
   "source": [
    "my_tab = pd.crosstab(index = dataset[\"Casualty_Severity\"],  columns=\"count\")      \n",
    "\n",
    "my_tab.plot.bar()"
   ]
  },
  {
   "cell_type": "code",
   "execution_count": 93,
   "metadata": {},
   "outputs": [
    {
     "data": {
      "text/plain": [
       "<matplotlib.axes._subplots.AxesSubplot at 0x287c2d42898>"
      ]
     },
     "execution_count": 93,
     "metadata": {},
     "output_type": "execute_result"
    },
    {
     "data": {
      "image/png": "[encoded data removed]",
      "text/plain": [
       "<Figure size 432x288 with 1 Axes>"
      ]
     },
     "metadata": {
      "needs_background": "light"
     },
     "output_type": "display_data"
    }
   ],
   "source": [
    "sns.boxplot(dataset[\"Casualty_Severity\"],color=\"red\",orient=\"v\")"
   ]
  },
  {
   "cell_type": "code",
   "execution_count": 94,
   "metadata": {},
   "outputs": [
    {
     "data": {
      "text/plain": [
       "<matplotlib.axes._subplots.AxesSubplot at 0x287c2d8de80>"
      ]
     },
     "execution_count": 94,
     "metadata": {},
     "output_type": "execute_result"
    },
    {
     "data": {
      "image/png": "[encoded data removed]",
      "text/plain": [
       "<Figure size 432x288 with 1 Axes>"
      ]
     },
     "metadata": {
      "needs_background": "light"
     },
     "output_type": "display_data"
    }
   ],
   "source": [
    "sns.violinplot(dataset[\"Casualty_Severity\"],color=\"cyan\")"
   ]
  },
  {
   "cell_type": "markdown",
   "metadata": {},
   "source": [
    "### 2. Bi-Variate Analysis\n",
    "* Bi-variate Analysis finds out the relationship between two variables.We can perform bi-variate analysis for any combination of categorical and continuous variables. The combination can be: Categorical & Categorical, Categorical & Continuous and Continuous & Continuous. Different methods are used to tackle these combinations during analysis process."
   ]
  },
  {
   "cell_type": "markdown",
   "metadata": {},
   "source": [
    "#### Categorical & Categorical: \n",
    "     To find the relationship between two categorical variables, we can use following methods:\n",
    "\n",
    "* Two-way table: We can start analyzing the relationship by creating a two-way table of count and count%. The rows represents the category of one variable and the columns represent the categories of the other variable. We show count or count% of observations available in each combination of row and column categories.\n",
    "* Stacked Column Chart: This method is more of a visual form of Two-way table.\n",
    "* Chi-Square Test: This test is used to derive the statistical significance of relationship between the variables. Also, it tests whether the evidence in the sample is strong enough to generalize that the relationship for a larger population as well. Chi-square is based on the difference between the expected and observed frequencies in one or more categories in the two-way table. It returns probability for the computed chi-square distribution with the degree of freedom.\n",
    "  * Probability of 0: It indicates that both categorical variable are dependent \n",
    "  * Probability of 1: It shows that both variables are independent."
   ]
  },
  {
   "cell_type": "code",
   "execution_count": 95,
   "metadata": {},
   "outputs": [],
   "source": [
    "from scipy.stats import chi2_contingency"
   ]
  },
  {
   "cell_type": "code",
   "execution_count": 96,
   "metadata": {},
   "outputs": [],
   "source": [
    "def two_way_table(data1,data2):\n",
    "    test= dataset.groupby([data1,data2])\n",
    "    print(test.size())"
   ]
  },
  {
   "cell_type": "code",
   "execution_count": 97,
   "metadata": {},
   "outputs": [],
   "source": [
    "def chi_square_test(data1,data2):\n",
    "    table=pd.crosstab(dataset[data1],dataset[data2])\n",
    "    chi2,p,dof,expected=chi2_contingency(table.values)\n",
    "    print('chi-square statistic %0.3f  p_value  %0.3f' % (chi2,p))"
   ]
  },
  {
   "cell_type": "code",
   "execution_count": 98,
   "metadata": {},
   "outputs": [],
   "source": [
    "def plot_stacked_chart(data1,data2):\n",
    "    table = pd.crosstab(index=dataset[data1],columns=dataset[data2])\n",
    "    table.plot(kind=\"bar\",figsize=(8,8),stacked=True)"
   ]
  },
  {
   "cell_type": "markdown",
   "metadata": {},
   "source": [
    "#####  Day_of_Week and Accident_Severity"
   ]
  },
  {
   "cell_type": "code",
   "execution_count": 99,
   "metadata": {},
   "outputs": [
    {
     "name": "stdout",
     "output_type": "stream",
     "text": [
      "Day_of_Week  Accident_Severity\n",
      "1            1                      198\n",
      "             2                     1826\n",
      "             3                     6778\n",
      "2            1                      121\n",
      "             2                     1767\n",
      "             3                     8598\n",
      "3            1                      118\n",
      "             2                     1941\n",
      "             3                     9339\n",
      "4            1                      149\n",
      "             2                     1952\n",
      "             3                     9241\n",
      "5            1                      140\n",
      "             2                     1987\n",
      "             3                     9560\n",
      "6            1                      155\n",
      "             2                     2210\n",
      "             3                    10191\n",
      "7            1                      183\n",
      "             2                     1913\n",
      "             3                     7969\n",
      "dtype: int64\n",
      "chi-square statistic 171.920  p_value  0.000\n"
     ]
    },
    {
     "data": {
      "image/png": "[encoded data removed]",
      "text/plain": [
       "<Figure size 576x576 with 1 Axes>"
      ]
     },
     "metadata": {
      "needs_background": "light"
     },
     "output_type": "display_data"
    }
   ],
   "source": [
    "\n",
    "two_way_table('Day_of_Week','Accident_Severity')\n",
    "chi_square_test(\"Day_of_Week\",\"Accident_Severity\")\n",
    "plot_stacked_chart(\"Day_of_Week\",\"Accident_Severity\")"
   ]
  },
  {
   "cell_type": "markdown",
   "metadata": {},
   "source": [
    "##### Road_Type and Accident_Severity"
   ]
  },
  {
   "cell_type": "code",
   "execution_count": 100,
   "metadata": {},
   "outputs": [
    {
     "name": "stdout",
     "output_type": "stream",
     "text": [
      "Road_Type  Accident_Severity\n",
      "1          1                       16\n",
      "           2                      636\n",
      "           3                     4273\n",
      "2          1                       13\n",
      "           2                      272\n",
      "           3                     1310\n",
      "3          1                      213\n",
      "           2                     1769\n",
      "           3                     9598\n",
      "6          1                      815\n",
      "           2                    10703\n",
      "           3                    44911\n",
      "7          1                        3\n",
      "           2                      117\n",
      "           3                      685\n",
      "9          1                        4\n",
      "           2                       99\n",
      "           3                      899\n",
      "dtype: int64\n",
      "chi-square statistic 316.255  p_value  0.000\n"
     ]
    },
    {
     "data": {
      "image/png": "[encoded data removed]",
      "text/plain": [
       "<Figure size 576x576 with 1 Axes>"
      ]
     },
     "metadata": {
      "needs_background": "light"
     },
     "output_type": "display_data"
    }
   ],
   "source": [
    "two_way_table('Road_Type','Accident_Severity')\n",
    "chi_square_test(\"Road_Type\",\"Accident_Severity\")\n",
    "plot_stacked_chart(\"Road_Type\",\"Accident_Severity\")"
   ]
  },
  {
   "cell_type": "markdown",
   "metadata": {},
   "source": [
    "##### Pedestrian_Crossing-Physical_Facilities and Accident_Severity"
   ]
  },
  {
   "cell_type": "code",
   "execution_count": 144,
   "metadata": {},
   "outputs": [
    {
     "name": "stdout",
     "output_type": "stream",
     "text": [
      "Pedestrian_Crossing-Physical_Facilities  Accident_Severity\n",
      "-1                                       1                        3\n",
      "                                         2                       90\n",
      "                                         3                     1018\n",
      " 0                                       1                      914\n",
      "                                         2                    11299\n",
      "                                         3                    49702\n",
      " 1                                       1                       14\n",
      "                                         2                      317\n",
      "                                         3                     1747\n",
      " 4                                       1                       48\n",
      "                                         2                      750\n",
      "                                         3                     3348\n",
      " 5                                       1                       54\n",
      "                                         2                      774\n",
      "                                         3                     4186\n",
      " 7                                       1                        4\n",
      "                                         2                       20\n",
      "                                         3                       97\n",
      " 8                                       1                       27\n",
      "                                         2                      346\n",
      "                                         3                     1578\n",
      "dtype: int64\n",
      "chi-square statistic 144.017  p_value  0.000\n"
     ]
    },
    {
     "data": {
      "image/png": "[encoded data removed]",
      "text/plain": [
       "<Figure size 576x576 with 1 Axes>"
      ]
     },
     "metadata": {
      "needs_background": "light"
     },
     "output_type": "display_data"
    }
   ],
   "source": [
    "two_way_table('Pedestrian_Crossing-Physical_Facilities','Accident_Severity')\n",
    "chi_square_test(\"Pedestrian_Crossing-Physical_Facilities\",\"Accident_Severity\")\n",
    "plot_stacked_chart(\"Pedestrian_Crossing-Physical_Facilities\",\"Accident_Severity\")"
   ]
  },
  {
   "cell_type": "markdown",
   "metadata": {},
   "source": [
    "##### Age_of_Casualty and Accident_Severity"
   ]
  },
  {
   "cell_type": "code",
   "execution_count": 101,
   "metadata": {},
   "outputs": [
    {
     "name": "stdout",
     "output_type": "stream",
     "text": [
      "Age_of_Casualty  Accident_Severity\n",
      "-1               2                     76\n",
      "                 3                    783\n",
      " 0               2                      4\n",
      "                 3                     56\n",
      " 1               1                      3\n",
      "                 2                      7\n",
      "                 3                     71\n",
      " 2               1                      1\n",
      "                 2                     21\n",
      "                 3                    113\n",
      " 3               2                     31\n",
      "                 3                    162\n",
      " 4               1                      2\n",
      "                 2                     52\n",
      "                 3                    162\n",
      " 5               1                      2\n",
      "                 2                     53\n",
      "                 3                    245\n",
      " 6               2                     41\n",
      "                 3                    220\n",
      " 7               1                      1\n",
      "                 2                     55\n",
      "                 3                    244\n",
      " 8               1                      1\n",
      "                 2                     57\n",
      "                 3                    263\n",
      " 9               1                      2\n",
      "                 2                     76\n",
      "                 3                    309\n",
      " 10              2                     83\n",
      "                                     ... \n",
      " 87              3                     84\n",
      " 88              1                      7\n",
      "                 2                     28\n",
      "                 3                     67\n",
      " 89              1                     10\n",
      "                 2                     16\n",
      "                 3                     49\n",
      " 90              1                      2\n",
      "                 2                     22\n",
      "                 3                     53\n",
      " 91              1                      7\n",
      "                 2                     15\n",
      "                 3                     26\n",
      " 92              1                      4\n",
      "                 2                     10\n",
      "                 3                     19\n",
      " 93              1                      2\n",
      "                 2                      3\n",
      "                 3                     30\n",
      " 94              2                      3\n",
      "                 3                     12\n",
      " 95              1                      2\n",
      "                 2                      5\n",
      "                 3                      9\n",
      " 96              2                      3\n",
      "                 3                      5\n",
      " 97              1                      1\n",
      "                 2                      2\n",
      "                 3                      1\n",
      " 98              2                      1\n",
      "Length: 291, dtype: int64\n",
      "chi-square statistic 1220.384  p_value  0.000\n"
     ]
    },
    {
     "data": {
      "image/png": "[encoded data removed]",
      "text/plain": [
       "<Figure size 576x576 with 1 Axes>"
      ]
     },
     "metadata": {
      "needs_background": "light"
     },
     "output_type": "display_data"
    }
   ],
   "source": [
    "two_way_table('Age_of_Casualty','Accident_Severity')\n",
    "chi_square_test(\"Age_of_Casualty\",\"Accident_Severity\")\n",
    "plot_stacked_chart(\"Age_of_Casualty\",\"Accident_Severity\")"
   ]
  },
  {
   "cell_type": "markdown",
   "metadata": {},
   "source": [
    "##### Casualty_IMD_Decile and Accident_Severity"
   ]
  },
  {
   "cell_type": "code",
   "execution_count": 102,
   "metadata": {},
   "outputs": [
    {
     "name": "stdout",
     "output_type": "stream",
     "text": [
      "Casualty_IMD_Decile  Accident_Severity\n",
      "-1                   1                      319\n",
      "                     2                     3664\n",
      "                     3                    16091\n",
      " 1                   1                      100\n",
      "                     2                     1459\n",
      "                     3                     6536\n",
      " 2                   1                       76\n",
      "                     2                     1228\n",
      "                     3                     5730\n",
      " 3                   1                       72\n",
      "                     2                     1045\n",
      "                     3                     5284\n",
      " 4                   1                       66\n",
      "                     2                      974\n",
      "                     3                     4631\n",
      " 5                   1                       60\n",
      "                     2                      957\n",
      "                     3                     4480\n",
      " 6                   1                       81\n",
      "                     2                      890\n",
      "                     3                     4127\n",
      " 7                   1                       70\n",
      "                     2                      896\n",
      "                     3                     3982\n",
      " 8                   1                       65\n",
      "                     2                      881\n",
      "                     3                     3966\n",
      " 9                   1                       82\n",
      "                     2                      863\n",
      "                     3                     3658\n",
      " 10                  1                       73\n",
      "                     2                      739\n",
      "                     3                     3191\n",
      "dtype: int64\n",
      "chi-square statistic 55.670  p_value  0.000\n"
     ]
    },
    {
     "data": {
      "image/png": "[encoded data removed]",
      "text/plain": [
       "<Figure size 576x576 with 1 Axes>"
      ]
     },
     "metadata": {
      "needs_background": "light"
     },
     "output_type": "display_data"
    }
   ],
   "source": [
    "two_way_table('Casualty_IMD_Decile','Accident_Severity')\n",
    "chi_square_test(\"Casualty_IMD_Decile\",\"Accident_Severity\")\n",
    "plot_stacked_chart(\"Casualty_IMD_Decile\",\"Accident_Severity\")"
   ]
  },
  {
   "cell_type": "markdown",
   "metadata": {},
   "source": [
    "##### Propulsion_Code and Accident_Severity"
   ]
  },
  {
   "cell_type": "code",
   "execution_count": 104,
   "metadata": {},
   "outputs": [
    {
     "name": "stdout",
     "output_type": "stream",
     "text": [
      "Propulsion_Code  Accident_Severity\n",
      "-1               1                      166\n",
      "                 2                     2884\n",
      "                 3                    12777\n",
      " 1               1                      510\n",
      "                 2                     6394\n",
      "                 3                    27010\n",
      " 2               1                      382\n",
      "                 2                     4166\n",
      "                 3                    21017\n",
      " 3               1                        1\n",
      "                 2                       15\n",
      "                 3                       44\n",
      " 5               2                        5\n",
      "                 3                       10\n",
      " 6               1                        1\n",
      "                 2                        2\n",
      "                 3                        8\n",
      " 7               2                        8\n",
      "                 3                       44\n",
      " 8               1                        4\n",
      "                 2                      120\n",
      "                 3                      746\n",
      " 12              2                        2\n",
      "                 3                       20\n",
      "dtype: int64\n",
      "chi-square statistic 113.428  p_value  0.000\n"
     ]
    },
    {
     "data": {
      "image/png": "[encoded data removed]",
      "text/plain": [
       "<Figure size 576x576 with 1 Axes>"
      ]
     },
     "metadata": {
      "needs_background": "light"
     },
     "output_type": "display_data"
    }
   ],
   "source": [
    "two_way_table('Propulsion_Code','Accident_Severity')\n",
    "chi_square_test(\"Propulsion_Code\",\"Accident_Severity\")\n",
    "plot_stacked_chart(\"Propulsion_Code\",\"Accident_Severity\")"
   ]
  },
  {
   "cell_type": "markdown",
   "metadata": {},
   "source": [
    "##### Casualty_Severity and Accident_Severity"
   ]
  },
  {
   "cell_type": "code",
   "execution_count": 105,
   "metadata": {},
   "outputs": [
    {
     "name": "stdout",
     "output_type": "stream",
     "text": [
      "Casualty_Severity  Accident_Severity\n",
      "1                  1                      908\n",
      "2                  1                       85\n",
      "                   2                    12335\n",
      "3                  1                       71\n",
      "                   2                     1261\n",
      "                   3                    61676\n",
      "dtype: int64\n",
      "chi-square statistic 132501.318  p_value  0.000\n"
     ]
    },
    {
     "data": {
      "image/png": "[encoded data removed]",
      "text/plain": [
       "<Figure size 576x576 with 1 Axes>"
      ]
     },
     "metadata": {
      "needs_background": "light"
     },
     "output_type": "display_data"
    }
   ],
   "source": [
    "two_way_table('Casualty_Severity','Accident_Severity')\n",
    "chi_square_test(\"Casualty_Severity\",\"Accident_Severity\")\n",
    "plot_stacked_chart(\"Casualty_Severity\",\"Accident_Severity\")"
   ]
  },
  {
   "cell_type": "markdown",
   "metadata": {},
   "source": [
    "#### Categorical and Continuous\n",
    "* Since we have small number of lebels so we can perform z-test/t-test,ANOVA.\n",
    "    * Z-Test/ T-Test:- Either test assess whether mean of two groups are statistically different from each other or not.\n",
    "    * ANOVA:- It assesses whether the average of more than two groups is statistically different."
   ]
  },
  {
   "cell_type": "code",
   "execution_count": 106,
   "metadata": {},
   "outputs": [],
   "source": [
    "from scipy.stats import ttest_ind\n",
    "from scipy.stats import t"
   ]
  },
  {
   "cell_type": "code",
   "execution_count": 107,
   "metadata": {},
   "outputs": [],
   "source": [
    "def t_test(data1,data2):\n",
    "    stat, p = ttest_ind(data1, data2)\n",
    "    alpha = 0.05\n",
    "    df = len(data1) + len(data2) - 2\n",
    "    cv = t.ppf(1.0 - alpha, df)\n",
    "    print('t=%.3f, p=%.3f' % (stat, p))\n",
    "    print(\"\\n Interpret via critical value:-\")\n",
    "    if abs(stat) <= cv:\n",
    "\t    print('Accept null hypothesis that the means are equal.')\n",
    "    else:\n",
    "\t    print('Reject the null hypothesis that the means are equal.')\n",
    "        \n",
    "    print(\"\\n Interpret via p-value:-\")\n",
    "    if p > alpha:\n",
    "\t    print('Accept null hypothesis that the means are equal.')\n",
    "    else:\n",
    "\t    print('Reject the null hypothesis that the means are equal.')"
   ]
  },
  {
   "cell_type": "markdown",
   "metadata": {},
   "source": [
    "##### Latitude and Accident_Severity"
   ]
  },
  {
   "cell_type": "code",
   "execution_count": 109,
   "metadata": {},
   "outputs": [
    {
     "name": "stdout",
     "output_type": "stream",
     "text": [
      "t=11471.070, p=0.000\n",
      "\n",
      " Interpret via critical value:-\n",
      "Reject the null hypothesis that the means are equal.\n",
      "\n",
      " Interpret via p-value:-\n",
      "Reject the null hypothesis that the means are equal.\n"
     ]
    }
   ],
   "source": [
    "t_test(dataset['Latitude'],dataset['Accident_Severity'])"
   ]
  },
  {
   "cell_type": "markdown",
   "metadata": {},
   "source": [
    "##### Age_of_Casualty and Accident_Severity"
   ]
  },
  {
   "cell_type": "code",
   "execution_count": 110,
   "metadata": {},
   "outputs": [
    {
     "name": "stdout",
     "output_type": "stream",
     "text": [
      "t=497.058, p=0.000\n",
      "\n",
      " Interpret via critical value:-\n",
      "Reject the null hypothesis that the means are equal.\n",
      "\n",
      " Interpret via p-value:-\n",
      "Reject the null hypothesis that the means are equal.\n"
     ]
    }
   ],
   "source": [
    "t_test(dataset['Age_of_Casualty'],dataset['Accident_Severity'])"
   ]
  },
  {
   "cell_type": "markdown",
   "metadata": {},
   "source": [
    "### Multivariate Analysis"
   ]
  },
  {
   "cell_type": "code",
   "execution_count": 112,
   "metadata": {},
   "outputs": [
    {
     "data": {
      "text/html": [
       "<div>\n",
       "<style scoped>\n",
       "    .dataframe tbody tr th:only-of-type {\n",
       "        vertical-align: middle;\n",
       "    }\n",
       "\n",
       "    .dataframe tbody tr th {\n",
       "        vertical-align: top;\n",
       "    }\n",
       "\n",
       "    .dataframe thead th {\n",
       "        text-align: right;\n",
       "    }\n",
       "</style>\n",
       "<table border=\"1\" class=\"dataframe\">\n",
       "  <thead>\n",
       "    <tr style=\"text-align: right;\">\n",
       "      <th></th>\n",
       "      <th>Latitude</th>\n",
       "      <th>Accident_Severity</th>\n",
       "      <th>Day_of_Week</th>\n",
       "      <th>Road_Type</th>\n",
       "      <th>Propulsion_Code</th>\n",
       "      <th>Age_of_Casualty</th>\n",
       "      <th>Casualty_Severity</th>\n",
       "      <th>Casualty_IMD_Decile</th>\n",
       "    </tr>\n",
       "  </thead>\n",
       "  <tbody>\n",
       "    <tr>\n",
       "      <th>count</th>\n",
       "      <td>76336.000000</td>\n",
       "      <td>76336.000000</td>\n",
       "      <td>76336.000000</td>\n",
       "      <td>76336.000000</td>\n",
       "      <td>76336.000000</td>\n",
       "      <td>76336.000000</td>\n",
       "      <td>76336.000000</td>\n",
       "      <td>76336.000000</td>\n",
       "    </tr>\n",
       "    <tr>\n",
       "      <th>mean</th>\n",
       "      <td>52.677608</td>\n",
       "      <td>2.794016</td>\n",
       "      <td>4.107656</td>\n",
       "      <td>5.188666</td>\n",
       "      <td>1.010349</td>\n",
       "      <td>37.090927</td>\n",
       "      <td>2.813509</td>\n",
       "      <td>3.372432</td>\n",
       "    </tr>\n",
       "    <tr>\n",
       "      <th>std</th>\n",
       "      <td>1.118988</td>\n",
       "      <td>0.437532</td>\n",
       "      <td>1.929427</td>\n",
       "      <td>1.668227</td>\n",
       "      <td>1.338614</td>\n",
       "      <td>19.058902</td>\n",
       "      <td>0.418932</td>\n",
       "      <td>3.596491</td>\n",
       "    </tr>\n",
       "    <tr>\n",
       "      <th>min</th>\n",
       "      <td>50.531384</td>\n",
       "      <td>1.000000</td>\n",
       "      <td>1.000000</td>\n",
       "      <td>1.000000</td>\n",
       "      <td>-1.000000</td>\n",
       "      <td>-1.000000</td>\n",
       "      <td>1.000000</td>\n",
       "      <td>-1.000000</td>\n",
       "    </tr>\n",
       "    <tr>\n",
       "      <th>25%</th>\n",
       "      <td>51.556486</td>\n",
       "      <td>3.000000</td>\n",
       "      <td>2.000000</td>\n",
       "      <td>6.000000</td>\n",
       "      <td>1.000000</td>\n",
       "      <td>23.000000</td>\n",
       "      <td>3.000000</td>\n",
       "      <td>-1.000000</td>\n",
       "    </tr>\n",
       "    <tr>\n",
       "      <th>50%</th>\n",
       "      <td>52.667525</td>\n",
       "      <td>3.000000</td>\n",
       "      <td>4.000000</td>\n",
       "      <td>6.000000</td>\n",
       "      <td>1.000000</td>\n",
       "      <td>34.000000</td>\n",
       "      <td>3.000000</td>\n",
       "      <td>3.000000</td>\n",
       "    </tr>\n",
       "    <tr>\n",
       "      <th>75%</th>\n",
       "      <td>53.540410</td>\n",
       "      <td>3.000000</td>\n",
       "      <td>6.000000</td>\n",
       "      <td>6.000000</td>\n",
       "      <td>2.000000</td>\n",
       "      <td>50.000000</td>\n",
       "      <td>3.000000</td>\n",
       "      <td>6.000000</td>\n",
       "    </tr>\n",
       "    <tr>\n",
       "      <th>max</th>\n",
       "      <td>55.784991</td>\n",
       "      <td>3.000000</td>\n",
       "      <td>7.000000</td>\n",
       "      <td>9.000000</td>\n",
       "      <td>12.000000</td>\n",
       "      <td>98.000000</td>\n",
       "      <td>3.000000</td>\n",
       "      <td>10.000000</td>\n",
       "    </tr>\n",
       "  </tbody>\n",
       "</table>\n",
       "</div>"
      ],
      "text/plain": [
       "           Latitude  Accident_Severity   Day_of_Week     Road_Type  \\\n",
       "count  76336.000000       76336.000000  76336.000000  76336.000000   \n",
       "mean      52.677608           2.794016      4.107656      5.188666   \n",
       "std        1.118988           0.437532      1.929427      1.668227   \n",
       "min       50.531384           1.000000      1.000000      1.000000   \n",
       "25%       51.556486           3.000000      2.000000      6.000000   \n",
       "50%       52.667525           3.000000      4.000000      6.000000   \n",
       "75%       53.540410           3.000000      6.000000      6.000000   \n",
       "max       55.784991           3.000000      7.000000      9.000000   \n",
       "\n",
       "       Propulsion_Code  Age_of_Casualty  Casualty_Severity  \\\n",
       "count     76336.000000     76336.000000       76336.000000   \n",
       "mean          1.010349        37.090927           2.813509   \n",
       "std           1.338614        19.058902           0.418932   \n",
       "min          -1.000000        -1.000000           1.000000   \n",
       "25%           1.000000        23.000000           3.000000   \n",
       "50%           1.000000        34.000000           3.000000   \n",
       "75%           2.000000        50.000000           3.000000   \n",
       "max          12.000000        98.000000           3.000000   \n",
       "\n",
       "       Casualty_IMD_Decile  \n",
       "count         76336.000000  \n",
       "mean              3.372432  \n",
       "std               3.596491  \n",
       "min              -1.000000  \n",
       "25%              -1.000000  \n",
       "50%               3.000000  \n",
       "75%               6.000000  \n",
       "max              10.000000  "
      ]
     },
     "execution_count": 112,
     "metadata": {},
     "output_type": "execute_result"
    }
   ],
   "source": [
    "dataset.describe()"
   ]
  },
  {
   "cell_type": "code",
   "execution_count": 114,
   "metadata": {},
   "outputs": [
    {
     "data": {
      "text/plain": [
       "<matplotlib.axes._subplots.AxesSubplot at 0x287c5fba7b8>"
      ]
     },
     "execution_count": 114,
     "metadata": {},
     "output_type": "execute_result"
    },
    {
     "data": {
      "image/png": "[encoded data removed]",
      "text/plain": [
       "<Figure size 864x720 with 2 Axes>"
      ]
     },
     "metadata": {
      "needs_background": "light"
     },
     "output_type": "display_data"
    }
   ],
   "source": [
    "corrmat = dataset.corr(method='spearman')\n",
    "f, ax = plt.pyplot.subplots(figsize=(12, 10))\n",
    "sns.heatmap(corrmat, ax=ax, cmap=\"YlGnBu\", linewidths=0.1)"
   ]
  },
  {
   "cell_type": "code",
   "execution_count": 115,
   "metadata": {},
   "outputs": [
    {
     "data": {
      "text/plain": [
       "<seaborn.matrix.ClusterGrid at 0x287c6039320>"
      ]
     },
     "execution_count": 115,
     "metadata": {},
     "output_type": "execute_result"
    },
    {
     "data": {
      "image/png": "[encoded data removed]",
      "text/plain": [
       "<Figure size 720x720 with 4 Axes>"
      ]
     },
     "metadata": {
      "needs_background": "light"
     },
     "output_type": "display_data"
    }
   ],
   "source": [
    "\n",
    "cg = sns.clustermap(corrmat, cmap=\"YlGnBu\", linewidths=0.1);\n",
    "plt.pyplot.setp(cg.ax_heatmap.yaxis.get_majorticklabels(), rotation=0)\n",
    "cg"
   ]
  },
  {
   "cell_type": "markdown",
   "metadata": {},
   "source": [
    "# Missing Value Treatment\n",
    "* In this dataset all missing value tuple has been deleted since it was sophisticated one ..\n",
    "  "
   ]
  },
  {
   "cell_type": "code",
   "execution_count": 116,
   "metadata": {},
   "outputs": [
    {
     "data": {
      "text/plain": [
       "Latitude               0\n",
       "Accident_Severity      0\n",
       "Day_of_Week            0\n",
       "Road_Type              0\n",
       "Propulsion_Code        0\n",
       "Age_of_Casualty        0\n",
       "Casualty_Severity      0\n",
       "Casualty_IMD_Decile    0\n",
       "dtype: int64"
      ]
     },
     "execution_count": 116,
     "metadata": {},
     "output_type": "execute_result"
    }
   ],
   "source": [
    "# there is no missing value\n",
    "dataset.isnull().sum()"
   ]
  },
  {
   "cell_type": "markdown",
   "metadata": {},
   "source": [
    "# Techniques of Outlier Detection and Treatment\n",
    "*  Outlier is an observation that appears far away and diverges from an overall pattern in a sample."
   ]
  },
  {
   "cell_type": "code",
   "execution_count": 130,
   "metadata": {},
   "outputs": [],
   "source": [
    "dataset['index'] = range(0, len(dataset) )"
   ]
  },
  {
   "cell_type": "code",
   "execution_count": 131,
   "metadata": {},
   "outputs": [],
   "source": [
    "dataset.set_index('index', inplace=True)"
   ]
  },
  {
   "cell_type": "code",
   "execution_count": 133,
   "metadata": {},
   "outputs": [
    {
     "data": {
      "text/html": [
       "<div>\n",
       "<style scoped>\n",
       "    .dataframe tbody tr th:only-of-type {\n",
       "        vertical-align: middle;\n",
       "    }\n",
       "\n",
       "    .dataframe tbody tr th {\n",
       "        vertical-align: top;\n",
       "    }\n",
       "\n",
       "    .dataframe thead th {\n",
       "        text-align: right;\n",
       "    }\n",
       "</style>\n",
       "<table border=\"1\" class=\"dataframe\">\n",
       "  <thead>\n",
       "    <tr style=\"text-align: right;\">\n",
       "      <th></th>\n",
       "      <th>Latitude</th>\n",
       "      <th>Accident_Severity</th>\n",
       "      <th>Day_of_Week</th>\n",
       "      <th>Road_Type</th>\n",
       "      <th>Propulsion_Code</th>\n",
       "      <th>Age_of_Casualty</th>\n",
       "      <th>Casualty_Severity</th>\n",
       "      <th>Casualty_IMD_Decile</th>\n",
       "    </tr>\n",
       "    <tr>\n",
       "      <th>index</th>\n",
       "      <th></th>\n",
       "      <th></th>\n",
       "      <th></th>\n",
       "      <th></th>\n",
       "      <th></th>\n",
       "      <th></th>\n",
       "      <th></th>\n",
       "      <th></th>\n",
       "    </tr>\n",
       "  </thead>\n",
       "  <tbody>\n",
       "    <tr>\n",
       "      <th>0</th>\n",
       "      <td>51.369633</td>\n",
       "      <td>3</td>\n",
       "      <td>5</td>\n",
       "      <td>6</td>\n",
       "      <td>-1</td>\n",
       "      <td>42</td>\n",
       "      <td>3</td>\n",
       "      <td>7</td>\n",
       "    </tr>\n",
       "    <tr>\n",
       "      <th>1</th>\n",
       "      <td>51.607394</td>\n",
       "      <td>3</td>\n",
       "      <td>5</td>\n",
       "      <td>6</td>\n",
       "      <td>2</td>\n",
       "      <td>47</td>\n",
       "      <td>3</td>\n",
       "      <td>5</td>\n",
       "    </tr>\n",
       "    <tr>\n",
       "      <th>2</th>\n",
       "      <td>51.585093</td>\n",
       "      <td>2</td>\n",
       "      <td>5</td>\n",
       "      <td>7</td>\n",
       "      <td>2</td>\n",
       "      <td>52</td>\n",
       "      <td>2</td>\n",
       "      <td>-1</td>\n",
       "    </tr>\n",
       "    <tr>\n",
       "      <th>3</th>\n",
       "      <td>51.656358</td>\n",
       "      <td>2</td>\n",
       "      <td>3</td>\n",
       "      <td>9</td>\n",
       "      <td>1</td>\n",
       "      <td>40</td>\n",
       "      <td>2</td>\n",
       "      <td>-1</td>\n",
       "    </tr>\n",
       "    <tr>\n",
       "      <th>4</th>\n",
       "      <td>51.386534</td>\n",
       "      <td>2</td>\n",
       "      <td>2</td>\n",
       "      <td>2</td>\n",
       "      <td>2</td>\n",
       "      <td>23</td>\n",
       "      <td>2</td>\n",
       "      <td>5</td>\n",
       "    </tr>\n",
       "  </tbody>\n",
       "</table>\n",
       "</div>"
      ],
      "text/plain": [
       "        Latitude  Accident_Severity  Day_of_Week  Road_Type  Propulsion_Code  \\\n",
       "index                                                                          \n",
       "0      51.369633                  3            5          6               -1   \n",
       "1      51.607394                  3            5          6                2   \n",
       "2      51.585093                  2            5          7                2   \n",
       "3      51.656358                  2            3          9                1   \n",
       "4      51.386534                  2            2          2                2   \n",
       "\n",
       "       Age_of_Casualty  Casualty_Severity  Casualty_IMD_Decile  \n",
       "index                                                           \n",
       "0                   42                  3                    7  \n",
       "1                   47                  3                    5  \n",
       "2                   52                  2                   -1  \n",
       "3                   40                  2                   -1  \n",
       "4                   23                  2                    5  "
      ]
     },
     "execution_count": 133,
     "metadata": {},
     "output_type": "execute_result"
    }
   ],
   "source": [
    "dataset.head()"
   ]
  },
  {
   "cell_type": "code",
   "execution_count": 134,
   "metadata": {},
   "outputs": [],
   "source": [
    "temp=dataset"
   ]
  },
  {
   "cell_type": "code",
   "execution_count": 135,
   "metadata": {},
   "outputs": [],
   "source": [
    "def loss_of_row_after_deleting_outlier(data):\n",
    "    Q1=temp[data].quantile(0.25)\n",
    "    Q3=temp[data].quantile(0.75)\n",
    "    minm=Q1-1.5*IQR\n",
    "    maxm=Q3+1.5*IQR\n",
    "    true_index1=temp[data]>=minm\n",
    "    true_index2=temp[data]<=maxm\n",
    "    filtered=temp[true_index1 & true_index2]\n",
    "    print(\"%s --> Total shape: %s and after deleting outlier shape is: %s\" % (data,temp.shape,filtered.shape))\n",
    "    "
   ]
  },
  {
   "cell_type": "code",
   "execution_count": 136,
   "metadata": {},
   "outputs": [],
   "source": [
    "def delete_row_having_outlier(data):\n",
    "    Q1=temp[data].quantile(0.25)\n",
    "    Q3=temp[data].quantile(0.75)\n",
    "    minm=Q1-1.5*IQR\n",
    "    maxm=Q3+1.5*IQR\n",
    "    true_index1=temp[data]>=minm\n",
    "    true_index2=temp[data]<=maxm\n",
    "    filtered=temp[true_index1 & true_index2]\n",
    "    return filtered\n",
    "    "
   ]
  },
  {
   "cell_type": "markdown",
   "metadata": {},
   "source": [
    "#### Outliers treatment with mathematical function\n",
    "##### Z-Score-"
   ]
  },
  {
   "cell_type": "code",
   "execution_count": 137,
   "metadata": {},
   "outputs": [],
   "source": [
    "temp1=temp"
   ]
  },
  {
   "cell_type": "code",
   "execution_count": 138,
   "metadata": {},
   "outputs": [
    {
     "name": "stdout",
     "output_type": "stream",
     "text": [
      "[[1.16889879 0.47078982 0.46249505 ... 0.25757545 0.44516163 1.00864752]\n",
      " [0.95641872 0.47078982 0.46249505 ... 0.51992177 0.44516163 0.45254622]\n",
      " [0.97634847 1.81477438 0.46249505 ... 0.78226809 1.94187532 1.21575766]\n",
      " ...\n",
      " [0.72974359 0.47078982 0.98078717 ... 1.00168689 0.44516163 1.21575766]\n",
      " [0.12205637 0.47078982 0.46249505 ... 0.16217866 0.44516163 1.21575766]\n",
      " [0.45292101 0.47078982 1.61067341 ... 1.05415615 0.44516163 1.21575766]]\n"
     ]
    }
   ],
   "source": [
    "from scipy import stats\n",
    "z = np.abs(stats.zscore(temp1))\n",
    "print(z)"
   ]
  },
  {
   "cell_type": "code",
   "execution_count": 139,
   "metadata": {},
   "outputs": [],
   "source": [
    "\n",
    "temp2 = temp1[(z < 3).all(axis=1)]"
   ]
  },
  {
   "cell_type": "code",
   "execution_count": 140,
   "metadata": {},
   "outputs": [
    {
     "data": {
      "text/plain": [
       "((74296, 8), (76336, 8))"
      ]
     },
     "execution_count": 140,
     "metadata": {},
     "output_type": "execute_result"
    }
   ],
   "source": [
    "temp2.shape,temp1.shape"
   ]
  },
  {
   "cell_type": "code",
   "execution_count": 141,
   "metadata": {},
   "outputs": [],
   "source": [
    "temp3=temp1.loc[temp2.index]\n",
    "temp4=temp2.drop(['Accident_Severity'],axis=1)"
   ]
  },
  {
   "cell_type": "code",
   "execution_count": 142,
   "metadata": {},
   "outputs": [
    {
     "name": "stdout",
     "output_type": "stream",
     "text": [
      "n = 7 and Accuracy = 0.965\n"
     ]
    }
   ],
   "source": [
    "fitmodel_print_accuracy(temp4,temp3.Accident_Severity,7)"
   ]
  },
  {
   "cell_type": "markdown",
   "metadata": {},
   "source": [
    "* Here accuracy has been improved so temp_dataset will be updated"
   ]
  },
  {
   "cell_type": "code",
   "execution_count": 143,
   "metadata": {},
   "outputs": [],
   "source": [
    "dataset=temp3"
   ]
  },
  {
   "cell_type": "markdown",
   "metadata": {},
   "source": [
    "##### IQR score -"
   ]
  },
  {
   "cell_type": "code",
   "execution_count": 147,
   "metadata": {},
   "outputs": [],
   "source": [
    "temp_dataset=dataset"
   ]
  },
  {
   "cell_type": "code",
   "execution_count": 148,
   "metadata": {},
   "outputs": [
    {
     "name": "stdout",
     "output_type": "stream",
     "text": [
      "Latitude                1.983597\n",
      "Accident_Severity       0.000000\n",
      "Day_of_Week             4.000000\n",
      "Road_Type               0.000000\n",
      "Propulsion_Code         1.000000\n",
      "Age_of_Casualty        28.000000\n",
      "Casualty_Severity       0.000000\n",
      "Casualty_IMD_Decile     7.000000\n",
      "dtype: float64\n"
     ]
    }
   ],
   "source": [
    "Q1 = temp_dataset.quantile(0.25)\n",
    "Q3 = temp_dataset.quantile(0.75)\n",
    "IQR = Q3 - Q1\n",
    "print(IQR)"
   ]
  },
  {
   "cell_type": "code",
   "execution_count": 149,
   "metadata": {},
   "outputs": [],
   "source": [
    "temp1 = temp_dataset[~((temp_dataset < (Q1 - 1.5 * IQR)) |(temp_dataset > (Q3 + 1.5 * IQR))).any(axis=1)]"
   ]
  },
  {
   "cell_type": "code",
   "execution_count": 150,
   "metadata": {},
   "outputs": [
    {
     "data": {
      "text/plain": [
       "(34747, 8)"
      ]
     },
     "execution_count": 150,
     "metadata": {},
     "output_type": "execute_result"
    }
   ],
   "source": [
    "temp1.shape"
   ]
  },
  {
   "cell_type": "code",
   "execution_count": 151,
   "metadata": {},
   "outputs": [],
   "source": [
    "temp3=temp_dataset.loc[temp1.index]"
   ]
  },
  {
   "cell_type": "code",
   "execution_count": 152,
   "metadata": {},
   "outputs": [],
   "source": [
    "temp1=temp1.drop(['Accident_Severity'],axis=1)"
   ]
  },
  {
   "cell_type": "code",
   "execution_count": 153,
   "metadata": {},
   "outputs": [
    {
     "name": "stdout",
     "output_type": "stream",
     "text": [
      "n = 7 and Accuracy = 1.000\n"
     ]
    }
   ],
   "source": [
    "fitmodel_print_accuracy(temp1,temp3.Accident_Severity,7)"
   ]
  },
  {
   "cell_type": "markdown",
   "metadata": {},
   "source": [
    "* here we are getting 100% accuracy but also huge data loss, so we will try another way."
   ]
  },
  {
   "cell_type": "code",
   "execution_count": 169,
   "metadata": {},
   "outputs": [
    {
     "data": {
      "text/plain": [
       "(74296, 8)"
      ]
     },
     "execution_count": 169,
     "metadata": {},
     "output_type": "execute_result"
    }
   ],
   "source": [
    "dataset.shape"
   ]
  },
  {
   "cell_type": "code",
   "execution_count": 170,
   "metadata": {},
   "outputs": [],
   "source": [
    "temp_dataset=dataset"
   ]
  },
  {
   "cell_type": "code",
   "execution_count": 171,
   "metadata": {},
   "outputs": [],
   "source": [
    "temp1=temp_dataset\n",
    "temp1=temp1.drop(['Accident_Severity'],axis=1)"
   ]
  },
  {
   "cell_type": "code",
   "execution_count": 172,
   "metadata": {},
   "outputs": [],
   "source": [
    "Q1 = temp1.quantile(0.25)\n",
    "Q3 = temp1.quantile(0.75)\n",
    "IQR = Q3 - Q1"
   ]
  },
  {
   "cell_type": "code",
   "execution_count": 173,
   "metadata": {},
   "outputs": [],
   "source": [
    "X=((temp1 < (Q1 - 1.5 * IQR)) | (temp1 > (Q3 + 1.5 * IQR))).sum()"
   ]
  },
  {
   "cell_type": "code",
   "execution_count": 174,
   "metadata": {},
   "outputs": [],
   "source": [
    "median=temp1.median()"
   ]
  },
  {
   "cell_type": "code",
   "execution_count": 175,
   "metadata": {},
   "outputs": [],
   "source": [
    "Y=((temp1 >= (Q1 - 1.5 * IQR)) & (temp1 <=(Q3 + 1.5 * IQR)))"
   ]
  },
  {
   "cell_type": "code",
   "execution_count": 176,
   "metadata": {},
   "outputs": [
    {
     "data": {
      "text/plain": [
       "(74296, 7)"
      ]
     },
     "execution_count": 176,
     "metadata": {},
     "output_type": "execute_result"
    }
   ],
   "source": [
    "temp2=temp1[Y]\n",
    "temp2.shape"
   ]
  },
  {
   "cell_type": "code",
   "execution_count": 177,
   "metadata": {},
   "outputs": [],
   "source": [
    "temp2=temp2.fillna(median)"
   ]
  },
  {
   "cell_type": "code",
   "execution_count": 178,
   "metadata": {},
   "outputs": [
    {
     "name": "stdout",
     "output_type": "stream",
     "text": [
      "n = 7 and Accuracy = 0.696\n"
     ]
    }
   ],
   "source": [
    "fitmodel_print_accuracy(temp2,temp_dataset.Accident_Severity,7)"
   ]
  },
  {
   "cell_type": "markdown",
   "metadata": {},
   "source": [
    "* I have filled  outlier data point with median and checked accuracy ... but the accuracy has been decreased. "
   ]
  },
  {
   "cell_type": "code",
   "execution_count": 179,
   "metadata": {},
   "outputs": [
    {
     "name": "stdout",
     "output_type": "stream",
     "text": [
      "n = 7 and Accuracy = 0.963\n"
     ]
    }
   ],
   "source": [
    "temp_dataset=dataset.drop(['Accident_Severity'],axis=1)\n",
    "fitmodel_print_accuracy(temp_dataset,dataset.Accident_Severity,7)"
   ]
  },
  {
   "cell_type": "code",
   "execution_count": 180,
   "metadata": {},
   "outputs": [
    {
     "data": {
      "text/plain": [
       "(74296, 8)"
      ]
     },
     "execution_count": 180,
     "metadata": {},
     "output_type": "execute_result"
    }
   ],
   "source": [
    "dataset.shape"
   ]
  },
  {
   "cell_type": "markdown",
   "metadata": {},
   "source": [
    "# Algorithm Selection\n",
    "* The important phase of any Machine learning project is choosing which algorithm to apply. Here we will apply many popular algorithm for non-linear classification problem and than we will check the accuracy."
   ]
  },
  {
   "cell_type": "code",
   "execution_count": 210,
   "metadata": {},
   "outputs": [],
   "source": [
    "from sklearn import svm\n",
    "from sklearn.neighbors import KNeighborsClassifier\n",
    "from sklearn.ensemble import RandomForestClassifier\n",
    "from sklearn.neural_network import MLPClassifier"
   ]
  },
  {
   "cell_type": "code",
   "execution_count": 191,
   "metadata": {},
   "outputs": [],
   "source": [
    "temp_dataset=dataset.drop(['Accident_Severity'],axis=1)\n",
    "X_train,X_test,Y_train,Y_test=train_test_split(temp_dataset,dataset.Accident_Severity)"
   ]
  },
  {
   "cell_type": "markdown",
   "metadata": {},
   "source": [
    "### Support Vector Machine"
   ]
  },
  {
   "cell_type": "code",
   "execution_count": 200,
   "metadata": {},
   "outputs": [],
   "source": [
    "def svm_accuracy():\n",
    "    clf = svm.SVC(gamma='scale', decision_function_shape='ovo')\n",
    "    clf.fit(X_train, Y_train) \n",
    "    y_pred_class=clf.predict(X_test)\n",
    "    \n",
    "    print(\"n = %d and Accuracy = %.3f\" % (temp_dataset.shape[1], metrics.accuracy_score(Y_test,y_pred_class)))"
   ]
  },
  {
   "cell_type": "code",
   "execution_count": 201,
   "metadata": {},
   "outputs": [
    {
     "name": "stdout",
     "output_type": "stream",
     "text": [
      "n = 7 and Accuracy = 0.983\n"
     ]
    }
   ],
   "source": [
    "svm_accuracy()"
   ]
  },
  {
   "cell_type": "markdown",
   "metadata": {},
   "source": [
    "### Decission Tree Classifier"
   ]
  },
  {
   "cell_type": "code",
   "execution_count": 196,
   "metadata": {},
   "outputs": [],
   "source": [
    "def decission_tree_classifier_accuracy():\n",
    "    dtc=DecisionTreeClassifier()\n",
    "    dtc.fit(X_train,Y_train)\n",
    "    y_pred_class=dtc.predict(X_test)\n",
    "    \n",
    "    print(\"n = %d and Accuracy = %.3f\" % (temp_dataset.shape[1], metrics.accuracy_score(Y_test,y_pred_class)))"
   ]
  },
  {
   "cell_type": "code",
   "execution_count": 197,
   "metadata": {},
   "outputs": [
    {
     "name": "stdout",
     "output_type": "stream",
     "text": [
      "n = 7 and Accuracy = 0.965\n"
     ]
    }
   ],
   "source": [
    "decission_tree_classifier_accuracy()"
   ]
  },
  {
   "cell_type": "markdown",
   "metadata": {},
   "source": [
    "### K Nearest Neighbor"
   ]
  },
  {
   "cell_type": "code",
   "execution_count": 205,
   "metadata": {},
   "outputs": [],
   "source": [
    "def knearestneighbour_accuracy():\n",
    "    i=1\n",
    "    while(i<250):\n",
    "        neigh = KNeighborsClassifier(n_neighbors=i)\n",
    "        neigh.fit(X_train, Y_train) \n",
    "        y_pred_class=neigh.predict(X_test)\n",
    "    \n",
    "        print(\"k = %d and Accuracy = %.3f\" % (i, metrics.accuracy_score(Y_test,y_pred_class)))\n",
    "        i=i+5"
   ]
  },
  {
   "cell_type": "code",
   "execution_count": 206,
   "metadata": {},
   "outputs": [
    {
     "name": "stdout",
     "output_type": "stream",
     "text": [
      "k = 1 and Accuracy = 0.887\n",
      "k = 6 and Accuracy = 0.896\n",
      "k = 11 and Accuracy = 0.858\n",
      "k = 16 and Accuracy = 0.851\n",
      "k = 21 and Accuracy = 0.833\n",
      "k = 26 and Accuracy = 0.832\n",
      "k = 31 and Accuracy = 0.825\n",
      "k = 36 and Accuracy = 0.824\n",
      "k = 41 and Accuracy = 0.821\n",
      "k = 46 and Accuracy = 0.821\n",
      "k = 51 and Accuracy = 0.820\n",
      "k = 56 and Accuracy = 0.820\n",
      "k = 61 and Accuracy = 0.819\n",
      "k = 66 and Accuracy = 0.819\n",
      "k = 71 and Accuracy = 0.819\n",
      "k = 76 and Accuracy = 0.819\n",
      "k = 81 and Accuracy = 0.819\n",
      "k = 86 and Accuracy = 0.819\n",
      "k = 91 and Accuracy = 0.819\n",
      "k = 96 and Accuracy = 0.819\n",
      "k = 101 and Accuracy = 0.819\n",
      "k = 106 and Accuracy = 0.819\n",
      "k = 111 and Accuracy = 0.819\n",
      "k = 116 and Accuracy = 0.819\n",
      "k = 121 and Accuracy = 0.819\n",
      "k = 126 and Accuracy = 0.819\n",
      "k = 131 and Accuracy = 0.819\n",
      "k = 136 and Accuracy = 0.819\n",
      "k = 141 and Accuracy = 0.819\n",
      "k = 146 and Accuracy = 0.819\n",
      "k = 151 and Accuracy = 0.819\n",
      "k = 156 and Accuracy = 0.819\n",
      "k = 161 and Accuracy = 0.819\n",
      "k = 166 and Accuracy = 0.819\n",
      "k = 171 and Accuracy = 0.819\n",
      "k = 176 and Accuracy = 0.819\n",
      "k = 181 and Accuracy = 0.819\n",
      "k = 186 and Accuracy = 0.819\n",
      "k = 191 and Accuracy = 0.819\n",
      "k = 196 and Accuracy = 0.819\n",
      "k = 201 and Accuracy = 0.819\n",
      "k = 206 and Accuracy = 0.819\n",
      "k = 211 and Accuracy = 0.819\n",
      "k = 216 and Accuracy = 0.819\n",
      "k = 221 and Accuracy = 0.819\n",
      "k = 226 and Accuracy = 0.819\n",
      "k = 231 and Accuracy = 0.819\n",
      "k = 236 and Accuracy = 0.819\n",
      "k = 241 and Accuracy = 0.819\n",
      "k = 246 and Accuracy = 0.819\n"
     ]
    }
   ],
   "source": [
    "knearestneighbour_accuracy()"
   ]
  },
  {
   "cell_type": "markdown",
   "metadata": {},
   "source": [
    "### Random Forest Classifier"
   ]
  },
  {
   "cell_type": "code",
   "execution_count": 208,
   "metadata": {},
   "outputs": [],
   "source": [
    "def random_forest_accuracy():\n",
    "    forest=RandomForestClassifier(random_state=0,n_jobs=-1)\n",
    "    forest.fit(X_train,Y_train)\n",
    "    y_pred_class=forest.predict(X_test)\n",
    "    \n",
    "    print(\"n = %d and Accuracy = %.3f\" % (temp_dataset.shape[1], metrics.accuracy_score(Y_test,y_pred_class)))"
   ]
  },
  {
   "cell_type": "code",
   "execution_count": 209,
   "metadata": {},
   "outputs": [
    {
     "name": "stderr",
     "output_type": "stream",
     "text": [
      "C:\\Users\\Rahul Poddar\\Anaconda3\\lib\\site-packages\\sklearn\\ensemble\\forest.py:246: FutureWarning: The default value of n_estimators will change from 10 in version 0.20 to 100 in 0.22.\n",
      "  \"10 in version 0.20 to 100 in 0.22.\", FutureWarning)\n"
     ]
    },
    {
     "name": "stdout",
     "output_type": "stream",
     "text": [
      "n = 7 and Accuracy = 0.982\n"
     ]
    }
   ],
   "source": [
    "random_forest_accuracy()"
   ]
  },
  {
   "cell_type": "markdown",
   "metadata": {},
   "source": [
    "### Neural Networks"
   ]
  },
  {
   "cell_type": "code",
   "execution_count": 211,
   "metadata": {},
   "outputs": [],
   "source": [
    "def neural_networks_accuracy():\n",
    "    clf = MLPClassifier(solver='lbfgs', alpha=1e-5, hidden_layer_sizes=(15,), random_state=1)\n",
    "    clf.fit(X_train, Y_train) \n",
    "    y_pred_class=clf.predict(X_test)\n",
    "    \n",
    "    print(\"n = %d and Accuracy = %.3f\" % (temp_dataset.shape[1], metrics.accuracy_score(Y_test,y_pred_class)))"
   ]
  },
  {
   "cell_type": "code",
   "execution_count": 212,
   "metadata": {},
   "outputs": [
    {
     "name": "stdout",
     "output_type": "stream",
     "text": [
      "n = 7 and Accuracy = 0.983\n"
     ]
    }
   ],
   "source": [
    "neural_networks_accuracy()"
   ]
  },
  {
   "cell_type": "code",
   "execution_count": null,
   "metadata": {},
   "outputs": [],
   "source": []
  }
 ],
 "metadata": {
  "kernelspec": {
   "display_name": "Python 3",
   "language": "python",
   "name": "python3"
  },
  "language_info": {
   "codemirror_mode": {
    "name": "ipython",
    "version": 3
   },
   "file_extension": ".py",
   "mimetype": "text/x-python",
   "name": "python",
   "nbconvert_exporter": "python",
   "pygments_lexer": "ipython3",
   "version": "3.6.8"
  }
 },
 "nbformat": 4,
 "nbformat_minor": 2
}
